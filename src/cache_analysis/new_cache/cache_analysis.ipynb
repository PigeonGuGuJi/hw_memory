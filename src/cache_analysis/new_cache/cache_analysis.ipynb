{
 "cells": [
  {
   "cell_type": "code",
   "execution_count": 1,
   "metadata": {
    "collapsed": true
   },
   "outputs": [
    {
     "name": "stdout",
     "output_type": "stream",
     "text": [
      "sys.version_info(major=3, minor=9, micro=12, releaselevel='final', serial=0)\n"
     ]
    }
   ],
   "source": [
    "from cache_analysis.new_cache.fixponit import *\n",
    "\n",
    "import sys\n",
    "print(sys.version_info)"
   ]
  },
  {
   "cell_type": "code",
   "execution_count": 2,
   "outputs": [
    {
     "name": "stdout",
     "output_type": "stream",
     "text": [
      "==== Cache Config ====\n",
      "Set index length: 8\n",
      "Cache offset: 6\n",
      "Cache association: 4\n",
      "\n",
      "==== TCFG ====\n",
      "n0 access ['<MemBlk tag:0x0 idx:0x1d>', '<MemBlk tag:0x0 idx:0x1e>', '<MemBlk tag:0x0 idx:0x1e>', '<MemBlk tag:0x0 idx:0x1e>', '<MemBlk tag:0x0 idx:0x1e>', '<MemBlk tag:0x0 idx:0x1e>', '<MemBlk tag:0x4 idx:0x3f>', '<MemBlk tag:0x0 idx:0x1e>', '<MemBlk tag:0x0 idx:0x1e>', '<MemBlk tag:0x4 idx:0x3f>', '<MemBlk tag:0x0 idx:0x1e>', '<MemBlk tag:0x0 idx:0x1e>', '<MemBlk tag:0x4 idx:0x3f>', '<MemBlk tag:0x0 idx:0x1e>', '<MemBlk tag:0x4 idx:0x40>', '<MemBlk tag:0x0 idx:0x1e>', '<MemBlk tag:0x0 idx:0x1e>', '<MemBlk tag:0x4 idx:0x3f>', '<MemBlk tag:0x0 idx:0x1e>'] incoming [] outgoing ['n3']\n",
      "n1 access ['<MemBlk tag:0x0 idx:0x1e>', '<MemBlk tag:0x0 idx:0x1e>', '<MemBlk tag:0x4 idx:0x3f>', '<MemBlk tag:0x0 idx:0x1e>', '<MemBlk tag:0x0 idx:0x1f>', '<MemBlk tag:0x5 idx:0xbd>', '<MemBlk tag:0x0 idx:0x1f>', '<MemBlk tag:0x0 idx:0x1f>', '<MemBlk tag:0x0 idx:0x1f>'] incoming ['n13'] outgoing ['n14']\n",
      "n2 access ['<MemBlk tag:0x0 idx:0x1f>', '<MemBlk tag:0x0 idx:0x1f>', '<MemBlk tag:0x0 idx:0x1f>'] incoming ['n14'] outgoing []\n",
      "n3 access ['<MemBlk tag:0x0 idx:0x1f>', '<MemBlk tag:0x0 idx:0x1f>', '<MemBlk tag:0x0 idx:0x1f>', '<MemBlk tag:0x0 idx:0x1f>', '<MemBlk tag:0x0 idx:0x1f>'] incoming ['n0'] outgoing ['n12']\n",
      "n4 access ['<MemBlk tag:0x0 idx:0x1f>', '<MemBlk tag:0x0 idx:0x1f>'] incoming ['n12'] outgoing ['n10']\n",
      "n5 access ['<MemBlk tag:0x0 idx:0x1f>', '<MemBlk tag:0x0 idx:0x1f>'] incoming ['n10'] outgoing ['n8']\n",
      "n6 access ['<MemBlk tag:0x0 idx:0x20>', '<MemBlk tag:0x0 idx:0x20>', '<MemBlk tag:0x0 idx:0x20>', '<MemBlk tag:0x0 idx:0x20>', '<MemBlk tag:0x0 idx:0x20>'] incoming ['n8'] outgoing ['n15']\n",
      "n7 access ['<MemBlk tag:0x0 idx:0x20>', '<MemBlk tag:0x0 idx:0x20>', '<MemBlk tag:0x0 idx:0x20>'] incoming ['n15'] outgoing ['n8']\n",
      "n8 access ['<MemBlk tag:0x0 idx:0x20>', '<MemBlk tag:0x0 idx:0x20>', '<MemBlk tag:0x0 idx:0x20>'] incoming ['n5', 'n7'] outgoing ['n6', 'n9']\n",
      "n9 access ['<MemBlk tag:0x0 idx:0x20>', '<MemBlk tag:0x0 idx:0x20>', '<MemBlk tag:0x0 idx:0x20>'] incoming ['n8'] outgoing ['n10']\n",
      "n10 access ['<MemBlk tag:0x0 idx:0x20>', '<MemBlk tag:0x0 idx:0x20>', '<MemBlk tag:0x0 idx:0x21>'] incoming ['n4', 'n9'] outgoing ['n5', 'n11']\n",
      "n11 access ['<MemBlk tag:0x0 idx:0x21>', '<MemBlk tag:0x0 idx:0x21>', '<MemBlk tag:0x0 idx:0x21>'] incoming ['n10'] outgoing ['n12']\n",
      "n12 access ['<MemBlk tag:0x0 idx:0x21>', '<MemBlk tag:0x0 idx:0x21>', '<MemBlk tag:0x0 idx:0x21>'] incoming ['n3', 'n11'] outgoing ['n4', 'n13']\n",
      "n13 access ['<MemBlk tag:0x0 idx:0x21>', '<MemBlk tag:0x0 idx:0x21>', '<MemBlk tag:0x0 idx:0x21>', '<MemBlk tag:0x0 idx:0x21>'] incoming ['n12'] outgoing ['n1']\n",
      "n14 access ['<MemBlk tag:0x0 idx:0x19>', '<MemBlk tag:0x0 idx:0x19>', '<MemBlk tag:0x4 idx:0x3e>', '<MemBlk tag:0x0 idx:0x19>', '<MemBlk tag:0x0 idx:0x19>'] incoming ['n1'] outgoing ['n2']\n",
      "n15 access ['<MemBlk tag:0x0 idx:0x22>', '<MemBlk tag:0x0 idx:0x22>', '<MemBlk tag:0x0 idx:0x22>', '<MemBlk tag:0x0 idx:0x22>', '<MemBlk tag:0x0 idx:0x22>', '<MemBlk tag:0x0 idx:0x23>', '<MemBlk tag:0x0 idx:0x23>', '<MemBlk tag:0x0 idx:0x23>', '<MemBlk tag:0x0 idx:0x23>', '<MemBlk tag:0x0 idx:0x23>', '<MemBlk tag:0x0 idx:0x23>', '<MemBlk tag:0x0 idx:0x23>', '<MemBlk tag:0x0 idx:0x23>', '<MemBlk tag:0x0 idx:0x23>', '<MemBlk tag:0x0 idx:0x23>', '<MemBlk tag:0x0 idx:0x23>', '<MemBlk tag:0x0 idx:0x23>', '<MemBlk tag:0x0 idx:0x23>', '<MemBlk tag:0x0 idx:0x23>', '<MemBlk tag:0x0 idx:0x23>', '<MemBlk tag:0x0 idx:0x23>', '<MemBlk tag:0x0 idx:0x24>', '<MemBlk tag:0x0 idx:0x24>', '<MemBlk tag:0x0 idx:0x24>', '<MemBlk tag:0x0 idx:0x24>', '<MemBlk tag:0x4 idx:0x3f>', '<MemBlk tag:0x0 idx:0x24>', '<MemBlk tag:0x0 idx:0x24>', '<MemBlk tag:0x0 idx:0x24>'] incoming ['n6'] outgoing ['n7']\n",
      "n16 access ['<MemBlk tag:0x0 idx:0x24>'] incoming [] outgoing []\n"
     ]
    }
   ],
   "source": [
    "# f = r\"D:\\workspace\\Gitdocuments\\hw-memory\\cache_analysis\\new_cache\\input\\example-0.in\"\n",
    "f = r\"D:\\workspace\\Gitdocuments\\hw-memory\\cache_analysis\\new_cache\\input\\cache_information.in\"\n",
    "config, graph, user_kwargs = read_from_file(f)\n",
    "\n",
    "print(\"==== Cache Config ====\")\n",
    "print(\"Set index length:\", config.set_index_len)\n",
    "print(\"Cache offset:\", config.offset_len)\n",
    "print(\"Cache association:\", config.assoc)\n",
    "\n",
    "print(\"\\n==== TCFG ====\")\n",
    "for node in graph.all_nodes:\n",
    "    print(node.ident,\n",
    "          \"access\", [b.__str__() for b in node.access_blocks],\n",
    "          \"incoming\", [n.ident for n in node.incoming],\n",
    "          \"outgoing\", [n.ident for n in node.outgoing])\n"
   ],
   "metadata": {
    "collapsed": false
   }
  },
  {
   "cell_type": "code",
   "execution_count": 3,
   "outputs": [
    {
     "name": "stdout",
     "output_type": "stream",
     "text": [
      "True 5113\n"
     ]
    }
   ],
   "source": [
    "is_fixpoint = fixpoint(config, graph, 'must', **user_kwargs)  # Switch to `may` or `persistent`.\n",
    "print(is_fixpoint, graph.it_number)"
   ],
   "metadata": {
    "collapsed": false
   }
  },
  {
   "cell_type": "code",
   "execution_count": 4,
   "outputs": [
    {
     "name": "stdout",
     "output_type": "stream",
     "text": [
      "n0\n",
      "(1916, 1920) (<MemBlk tag:0x0 idx:0x1d>,) [False]\n",
      "(1920, 1924) (<MemBlk tag:0x0 idx:0x1e>,) [False]\n",
      "(1924, 1928) (<MemBlk tag:0x0 idx:0x1e>,) [True]\n",
      "(1928, 1932) (<MemBlk tag:0x0 idx:0x1e>,) [True]\n",
      "(1932, 1936) (<MemBlk tag:0x0 idx:0x1e>,) [True]\n",
      "(1936, 1940) (<MemBlk tag:0x0 idx:0x1e>,) [True]\n",
      "(69624, 69628) (<MemBlk tag:0x4 idx:0x3f>,) [False]\n",
      "(1940, 1944) (<MemBlk tag:0x0 idx:0x1e>,) [True]\n",
      "(1944, 1948) (<MemBlk tag:0x0 idx:0x1e>,) [True]\n",
      "(69624, 69628) (<MemBlk tag:0x4 idx:0x3f>,) [True]\n",
      "(1948, 1952) (<MemBlk tag:0x0 idx:0x1e>,) [True]\n",
      "(1952, 1956) (<MemBlk tag:0x0 idx:0x1e>,) [True]\n",
      "(69624, 69628) (<MemBlk tag:0x4 idx:0x3f>,) [True]\n",
      "(1956, 1960) (<MemBlk tag:0x0 idx:0x1e>,) [True]\n",
      "(69632, 69636) (<MemBlk tag:0x4 idx:0x40>,) [False]\n",
      "(1960, 1964) (<MemBlk tag:0x0 idx:0x1e>,) [True]\n",
      "(1964, 1968) (<MemBlk tag:0x0 idx:0x1e>,) [True]\n",
      "(69624, 69628) (<MemBlk tag:0x4 idx:0x3f>,) [True]\n",
      "(1968, 1972) (<MemBlk tag:0x0 idx:0x1e>,) [True]\n",
      "n1\n",
      "(1972, 1976) (<MemBlk tag:0x0 idx:0x1e>,) [False]\n",
      "(1976, 1980) (<MemBlk tag:0x0 idx:0x1e>,) [True]\n",
      "(69624, 69628) (<MemBlk tag:0x4 idx:0x3f>,) [False]\n",
      "(1980, 1984) (<MemBlk tag:0x0 idx:0x1e>,) [True]\n",
      "(1984, 1988) (<MemBlk tag:0x0 idx:0x1f>,) [False]\n",
      "(94064, 94068) (<MemBlk tag:0x5 idx:0xbd>,) [False]\n",
      "(1988, 1992) (<MemBlk tag:0x0 idx:0x1f>,) [True]\n",
      "(1992, 1996) (<MemBlk tag:0x0 idx:0x1f>,) [True]\n",
      "(1996, 2000) (<MemBlk tag:0x0 idx:0x1f>,) [True]\n",
      "n2\n",
      "(2000, 2004) (<MemBlk tag:0x0 idx:0x1f>,) [True]\n",
      "(2004, 2008) (<MemBlk tag:0x0 idx:0x1f>,) [True]\n",
      "(2008, 2012) (<MemBlk tag:0x0 idx:0x1f>,) [True]\n",
      "n3\n",
      "(2012, 2016) (<MemBlk tag:0x0 idx:0x1f>,) [False]\n",
      "(2016, 2020) (<MemBlk tag:0x0 idx:0x1f>,) [True]\n",
      "(2020, 2024) (<MemBlk tag:0x0 idx:0x1f>,) [True]\n",
      "(2024, 2028) (<MemBlk tag:0x0 idx:0x1f>,) [True]\n",
      "(2028, 2032) (<MemBlk tag:0x0 idx:0x1f>,) [True]\n",
      "n4\n",
      "(2032, 2036) (<MemBlk tag:0x0 idx:0x1f>,) [False]\n",
      "(2036, 2040) (<MemBlk tag:0x0 idx:0x1f>,) [True]\n",
      "n5\n",
      "(2040, 2044) (<MemBlk tag:0x0 idx:0x1f>,) [False]\n",
      "(2044, 2048) (<MemBlk tag:0x0 idx:0x1f>,) [True]\n",
      "n6\n",
      "(2048, 2052) (<MemBlk tag:0x0 idx:0x20>,) [True]\n",
      "(2052, 2056) (<MemBlk tag:0x0 idx:0x20>,) [True]\n",
      "(2056, 2060) (<MemBlk tag:0x0 idx:0x20>,) [True]\n",
      "(2060, 2064) (<MemBlk tag:0x0 idx:0x20>,) [True]\n",
      "(2064, 2068) (<MemBlk tag:0x0 idx:0x20>,) [True]\n",
      "n7\n",
      "(2068, 2072) (<MemBlk tag:0x0 idx:0x20>,) [True]\n",
      "(2072, 2076) (<MemBlk tag:0x0 idx:0x20>,) [True]\n",
      "(2076, 2080) (<MemBlk tag:0x0 idx:0x20>,) [True]\n",
      "n8\n",
      "(2080, 2084) (<MemBlk tag:0x0 idx:0x20>,) [True]\n",
      "(2084, 2088) (<MemBlk tag:0x0 idx:0x20>,) [True]\n",
      "(2088, 2092) (<MemBlk tag:0x0 idx:0x20>,) [True]\n",
      "n9\n",
      "(2092, 2096) (<MemBlk tag:0x0 idx:0x20>,) [True]\n",
      "(2096, 2100) (<MemBlk tag:0x0 idx:0x20>,) [True]\n",
      "(2100, 2104) (<MemBlk tag:0x0 idx:0x20>,) [True]\n",
      "n10\n",
      "(2104, 2108) (<MemBlk tag:0x0 idx:0x20>,) [False]\n",
      "(2108, 2112) (<MemBlk tag:0x0 idx:0x20>,) [True]\n",
      "(2112, 2116) (<MemBlk tag:0x0 idx:0x21>,) [False]\n",
      "n11\n",
      "(2116, 2120) (<MemBlk tag:0x0 idx:0x21>,) [True]\n",
      "(2120, 2124) (<MemBlk tag:0x0 idx:0x21>,) [True]\n",
      "(2124, 2128) (<MemBlk tag:0x0 idx:0x21>,) [True]\n",
      "n12\n",
      "(2128, 2132) (<MemBlk tag:0x0 idx:0x21>,) [False]\n",
      "(2132, 2136) (<MemBlk tag:0x0 idx:0x21>,) [True]\n",
      "(2136, 2140) (<MemBlk tag:0x0 idx:0x21>,) [True]\n",
      "n13\n",
      "(2140, 2144) (<MemBlk tag:0x0 idx:0x21>,) [True]\n",
      "(2144, 2148) (<MemBlk tag:0x0 idx:0x21>,) [True]\n",
      "(2148, 2152) (<MemBlk tag:0x0 idx:0x21>,) [True]\n",
      "(2152, 2156) (<MemBlk tag:0x0 idx:0x21>,) [True]\n",
      "n14\n",
      "(1632, 1636) (<MemBlk tag:0x0 idx:0x19>,) [False]\n",
      "(1636, 1640) (<MemBlk tag:0x0 idx:0x19>,) [True]\n",
      "(69552, 69556) (<MemBlk tag:0x4 idx:0x3e>,) [False]\n",
      "(1640, 1644) (<MemBlk tag:0x0 idx:0x19>,) [True]\n",
      "(1644, 1648) (<MemBlk tag:0x0 idx:0x19>,) [True]\n",
      "n15\n",
      "(2220, 2224) (<MemBlk tag:0x0 idx:0x22>,) [False]\n",
      "(2224, 2228) (<MemBlk tag:0x0 idx:0x22>,) [True]\n",
      "(2228, 2232) (<MemBlk tag:0x0 idx:0x22>,) [True]\n",
      "(2232, 2236) (<MemBlk tag:0x0 idx:0x22>,) [True]\n",
      "(2236, 2240) (<MemBlk tag:0x0 idx:0x22>,) [True]\n",
      "(2240, 2244) (<MemBlk tag:0x0 idx:0x23>,) [False]\n",
      "(2244, 2248) (<MemBlk tag:0x0 idx:0x23>,) [True]\n",
      "(2248, 2252) (<MemBlk tag:0x0 idx:0x23>,) [True]\n",
      "(2252, 2256) (<MemBlk tag:0x0 idx:0x23>,) [True]\n",
      "(2256, 2260) (<MemBlk tag:0x0 idx:0x23>,) [True]\n",
      "(2260, 2264) (<MemBlk tag:0x0 idx:0x23>,) [True]\n",
      "(2264, 2268) (<MemBlk tag:0x0 idx:0x23>,) [True]\n",
      "(2268, 2272) (<MemBlk tag:0x0 idx:0x23>,) [True]\n",
      "(2272, 2276) (<MemBlk tag:0x0 idx:0x23>,) [True]\n",
      "(2276, 2280) (<MemBlk tag:0x0 idx:0x23>,) [True]\n",
      "(2280, 2284) (<MemBlk tag:0x0 idx:0x23>,) [True]\n",
      "(2284, 2288) (<MemBlk tag:0x0 idx:0x23>,) [True]\n",
      "(2288, 2292) (<MemBlk tag:0x0 idx:0x23>,) [True]\n",
      "(2292, 2296) (<MemBlk tag:0x0 idx:0x23>,) [True]\n",
      "(2296, 2300) (<MemBlk tag:0x0 idx:0x23>,) [True]\n",
      "(2300, 2304) (<MemBlk tag:0x0 idx:0x23>,) [True]\n",
      "(2304, 2308) (<MemBlk tag:0x0 idx:0x24>,) [False]\n",
      "(2308, 2312) (<MemBlk tag:0x0 idx:0x24>,) [True]\n",
      "(2312, 2316) (<MemBlk tag:0x0 idx:0x24>,) [True]\n",
      "(2316, 2320) (<MemBlk tag:0x0 idx:0x24>,) [True]\n",
      "(69624, 69628) (<MemBlk tag:0x4 idx:0x3f>,) [False]\n",
      "(2320, 2324) (<MemBlk tag:0x0 idx:0x24>,) [True]\n",
      "(2324, 2328) (<MemBlk tag:0x0 idx:0x24>,) [True]\n",
      "(2328, 2332) (<MemBlk tag:0x0 idx:0x24>,) [True]\n",
      "n16\n",
      "(2332, 2336) (<MemBlk tag:0x0 idx:0x24>,) [False]\n"
     ]
    }
   ],
   "source": [
    "# for node in graph.all_nodes:\n",
    "#     print(node.ident)\n",
    "#     for block, is_hit in zip(node.access_blocks, node.is_hit):\n",
    "#         print(block, is_hit)\n",
    "\n",
    "for node in graph.all_nodes:\n",
    "    print(node.ident)\n",
    "    for r, mb, hit in node.analysis_result():\n",
    "        print(r, mb, hit)"
   ],
   "metadata": {
    "collapsed": false
   }
  },
  {
   "cell_type": "code",
   "execution_count": 5,
   "outputs": [
    {
     "name": "stdout",
     "output_type": "stream",
     "text": [
      "n6\n",
      "(2048, 2052) (<MemBlk tag:0x0 idx:0x20>,) [True]\n",
      "(2052, 2056) (<MemBlk tag:0x0 idx:0x20>,) [True]\n",
      "(2056, 2060) (<MemBlk tag:0x0 idx:0x20>,) [True]\n",
      "(2060, 2064) (<MemBlk tag:0x0 idx:0x20>,) [True]\n",
      "(2064, 2068) (<MemBlk tag:0x0 idx:0x20>,) [True]\n",
      "n7\n",
      "(2068, 2072) (<MemBlk tag:0x0 idx:0x20>,) [True]\n",
      "(2072, 2076) (<MemBlk tag:0x0 idx:0x20>,) [True]\n",
      "(2076, 2080) (<MemBlk tag:0x0 idx:0x20>,) [True]\n",
      "n8\n",
      "(2080, 2084) (<MemBlk tag:0x0 idx:0x20>,) [True]\n",
      "(2084, 2088) (<MemBlk tag:0x0 idx:0x20>,) [True]\n",
      "(2088, 2092) (<MemBlk tag:0x0 idx:0x20>,) [True]\n",
      "n15\n",
      "(2220, 2224) (<MemBlk tag:0x0 idx:0x22>,) [False]\n",
      "(2224, 2228) (<MemBlk tag:0x0 idx:0x22>,) [True]\n",
      "(2228, 2232) (<MemBlk tag:0x0 idx:0x22>,) [True]\n",
      "(2232, 2236) (<MemBlk tag:0x0 idx:0x22>,) [True]\n",
      "(2236, 2240) (<MemBlk tag:0x0 idx:0x22>,) [True]\n",
      "(2240, 2244) (<MemBlk tag:0x0 idx:0x23>,) [False]\n",
      "(2244, 2248) (<MemBlk tag:0x0 idx:0x23>,) [True]\n",
      "(2248, 2252) (<MemBlk tag:0x0 idx:0x23>,) [True]\n",
      "(2252, 2256) (<MemBlk tag:0x0 idx:0x23>,) [True]\n",
      "(2256, 2260) (<MemBlk tag:0x0 idx:0x23>,) [True]\n",
      "(2260, 2264) (<MemBlk tag:0x0 idx:0x23>,) [True]\n",
      "(2264, 2268) (<MemBlk tag:0x0 idx:0x23>,) [True]\n",
      "(2268, 2272) (<MemBlk tag:0x0 idx:0x23>,) [True]\n",
      "(2272, 2276) (<MemBlk tag:0x0 idx:0x23>,) [True]\n",
      "(2276, 2280) (<MemBlk tag:0x0 idx:0x23>,) [True]\n",
      "(2280, 2284) (<MemBlk tag:0x0 idx:0x23>,) [True]\n",
      "(2284, 2288) (<MemBlk tag:0x0 idx:0x23>,) [True]\n",
      "(2288, 2292) (<MemBlk tag:0x0 idx:0x23>,) [True]\n",
      "(2292, 2296) (<MemBlk tag:0x0 idx:0x23>,) [True]\n",
      "(2296, 2300) (<MemBlk tag:0x0 idx:0x23>,) [True]\n",
      "(2300, 2304) (<MemBlk tag:0x0 idx:0x23>,) [True]\n",
      "(2304, 2308) (<MemBlk tag:0x0 idx:0x24>,) [False]\n",
      "(2308, 2312) (<MemBlk tag:0x0 idx:0x24>,) [True]\n",
      "(2312, 2316) (<MemBlk tag:0x0 idx:0x24>,) [True]\n",
      "(2316, 2320) (<MemBlk tag:0x0 idx:0x24>,) [True]\n",
      "(69624, 69628) (<MemBlk tag:0x4 idx:0x3f>,) [False]\n",
      "(2320, 2324) (<MemBlk tag:0x0 idx:0x24>,) [True]\n",
      "(2324, 2328) (<MemBlk tag:0x0 idx:0x24>,) [True]\n",
      "(2328, 2332) (<MemBlk tag:0x0 idx:0x24>,) [True]\n"
     ]
    }
   ],
   "source": [
    "considered_nodes = {'n8', 'n6', 'n15', 'n7'} # 根据所获取的loop来定义\n",
    "\n",
    "for node in graph.all_nodes:\n",
    "    if node.ident not in considered_nodes:\n",
    "        continue\n",
    "    print(node.ident)\n",
    "    for r, mb, hit in node.analysis_result():\n",
    "        print(r, mb, hit)"
   ],
   "metadata": {
    "collapsed": false
   }
  },
  {
   "cell_type": "code",
   "execution_count": null,
   "outputs": [],
   "source": [
    "considered_nodes = {'n8', 'n6', 'n15', 'n7'} # 根据所获取的loop来定义\n",
    "\n",
    "for node in graph.all_nodes:\n",
    "    if node.ident not in considered_nodes:\n",
    "        continue\n",
    "    print(node.ident)\n",
    "    for r, mb, hit in node.analysis_result():\n",
    "        # print(r[0],r[1])\n",
    "        if r[0] >= 2064 and r[1] <= 69628: # 以页面为粒度进行定义 r[0]>=page_statr; r[1]<=page_end; ---> (r[0], r[1]) ⊆ (page_start, page_end)\n",
    "            print(r, mb, hit)"
   ],
   "metadata": {
    "collapsed": false
   }
  },
  {
   "cell_type": "code",
   "execution_count": null,
   "outputs": [],
   "source": [
    "is_fixpoint = fixpoint(config, graph, 'may', **user_kwargs)\n",
    "print(is_fixpoint, graph.it_number)\n",
    "\n",
    "for node in graph.all_nodes:\n",
    "    print(node.ident)\n",
    "    for r, mb, hit in node.analysis_result():\n",
    "        print(r, mb, hit)\n",
    "\n",
    "# considered_nodes = {'n8', 'n6', 'n15', 'n7'} # 根据所获取的loop来定义\n",
    "# for node in graph.all_nodes:\n",
    "#     if node.ident not in considered_nodes:\n",
    "#         continue\n",
    "#     print(node.ident)\n",
    "#     for r, mb, hit in node.analysis_result():\n",
    "#         # print(r[0],r[1])\n",
    "#         if r[0] >= 2064 and r[1] <= 69628: # 以页面为粒度进行定义 r[0]>=page_statr; r[1]<=page_end; ---> (r[0], r[1]) ⊆ (page_start, page_end)\n",
    "#             print(r, mb, hit)"
   ],
   "metadata": {
    "collapsed": false
   }
  },
  {
   "cell_type": "code",
   "execution_count": null,
   "outputs": [],
   "source": [
    "is_fixpoint = fixpoint(config, graph, 'persistent', **user_kwargs)\n",
    "print(is_fixpoint, graph.it_number)\n",
    "\n",
    "# for node in graph.all_nodes:\n",
    "#     print(node.ident)\n",
    "#     for r, mb, hit in node.analysis_result():\n",
    "#         print(r, mb, hit)\n",
    "\n",
    "considered_nodes = {'n8', 'n6', 'n15', 'n7'} # 根据所获取的loop来定义\n",
    "for node in graph.all_nodes:\n",
    "    if node.ident not in considered_nodes:\n",
    "        continue\n",
    "    print(node.ident)\n",
    "    for r, mb, hit in node.analysis_result():\n",
    "        # print(r[0],r[1])\n",
    "        if r[0] >= 0 and r[1] <= 169628: # 以页面为粒度进行定义 r[0]>=page_statr; r[1]<=page_end; ---> (r[0], r[1]) ⊆ (page_start, page_end)\n",
    "            print(r, mb, hit)"
   ],
   "metadata": {
    "collapsed": false
   }
  },
  {
   "cell_type": "code",
   "execution_count": null,
   "outputs": [],
   "source": [
    "# 测试跨页情况\n",
    "\n",
    "loop_memory_access = {'l2': ((2048, 2052), (2052, 2056), (2056, 2060), (2060, 2064), (2064, 2068), (2068, 2072), (2072, 2076), (2076, 2080), (2080, 2084), (2084, 2088), (2088, 2092), (2220, 2224), (2224, 2228), (2228, 2232), (2232, 2236), (2236, 2240), (2240, 2244), (2244, 2248), (2248, 2252), (2252, 2256), (2256, 2260), (2260, 2264), (2264, 2268), (2268, 2272), (2272, 2276), (2276, 2280), (2280, 2284), (2284, 2288), (2288, 2292), (2292, 2296), (2296, 2300), (2300, 2304), (2304, 2308), (2308, 2312), (2312, 2316), (2316, 2320), (69624, 69628), (2320, 2324), (2324, 2328), (2328, 2332), (65536, 69636)), 'l1': ((2040, 2044), (2044, 2048), (2048, 2052), (2052, 2056), (2056, 2060), (2060, 2064), (2064, 2068), (2068, 2072), (2072, 2076), (2076, 2080), (2080, 2084), (2084, 2088), (2088, 2092), (2092, 2096), (2096, 2100), (2100, 2104), (2104, 2108), (2108, 2112), (2112, 2116), (2220, 2224), (2224, 2228), (2228, 2232), (2232, 2236), (2236, 2240), (2240, 2244), (2244, 2248), (2248, 2252), (2252, 2256), (2256, 2260), (2260, 2264), (2264, 2268), (2268, 2272), (2272, 2276), (2276, 2280), (2280, 2284), (2284, 2288), (2288, 2292), (2292, 2296), (2296, 2300), (2300, 2304), (2304, 2308), (2308, 2312), (2312, 2316), (2316, 2320), (69624, 69628), (2320, 2324), (2324, 2328), (2328, 2332), (65536, 69636)), 'l0': ((2032, 2036), (2036, 2040), (2040, 2044), (2044, 2048), (2048, 2052), (2052, 2056), (2056, 2060), (2060, 2064), (2064, 2068), (2068, 2072), (2072, 2076), (2076, 2080), (2080, 2084), (2084, 2088), (2088, 2092), (2092, 2096), (2096, 2100), (2100, 2104), (2104, 2108), (2108, 2112), (2112, 2116), (2116, 2120), (2120, 2124), (2124, 2128), (2128, 2132), (2132, 2136), (2136, 2140), (2220, 2224), (2224, 2228), (2228, 2232), (2232, 2236), (2236, 2240), (2240, 2244), (2244, 2248), (2248, 2252), (2252, 2256), (2256, 2260), (2260, 2264), (2264, 2268), (2268, 2272), (2272, 2276), (2276, 2280), (2280, 2284), (2284, 2288), (2288, 2292), (2292, 2296), (2296, 2300), (2300, 2304), (2304, 2308), (2308, 2312), (2312, 2316), (2316, 2320), (69624, 69628), (2320, 2324), (2324, 2328), (2328, 2332), (65536, 69636))}\n",
    "\n",
    "page_size = 4096\n",
    "\n",
    "page_loop_access = {}  # 用于保存页面序列的字典\n",
    "\n",
    "# 遍历每个key，计算访问的内存页地址区间\n",
    "for key in loop_memory_access:\n",
    "    # 初始化一个字典用于对每个页地址进行计数\n",
    "    page_counts = {}\n",
    "\n",
    "    # 遍历当前key访问地址区间的每个起始/结束地址\n",
    "    for start, end in loop_memory_access[key]:\n",
    "        # 计算当前地址区间的内存页区间\n",
    "        start_page = start // page_size\n",
    "        end_page = (end - 1) // page_size + 1\n",
    "\n",
    "        # 遍历所有的内存页并计数\n",
    "        for page in range(start_page, end_page):\n",
    "            # 对当前页地址进行计数\n",
    "            page_counts[page] = page_counts.get(page, 0) + 1\n",
    "\n",
    "    # 将所有计数值大于0的页地址保存到page_access\n",
    "    page_loop_access[key] = tuple((page * page_size, (page + 1) * page_size) for page, count in page_counts.items() if count > 0)\n",
    "\n",
    "print(page_loop_access)\n",
    "\n",
    "\n",
    "\n",
    "loop_list = {'l2': ['n6', 'n8', 'n15', 'n7'], 'l1': ['n9', 'n10', 'n8', 'n15', 'n5', 'n6', 'n7'], 'l0': ['n11', 'n9', 'n10', 'n8', 'n4', 'n15', 'n5', 'n6', 'n12', 'n7']}\n",
    "\n",
    "is_fixpoint = fixpoint(config, graph, 'may', **user_kwargs)  # Switch to `may` or `persistent`.\n",
    "print(is_fixpoint, graph.it_number)\n",
    "\n",
    "for loop in loop_list.values():\n",
    "    # 找属于哪个loop\n",
    "    loop_name = [key for key, value in loop_list.items() if value == loop]\n",
    "    print(loop_name)\n",
    "    for node in graph.all_nodes:\n",
    "        if node.ident not in loop:\n",
    "            continue\n",
    "        print(node.ident)\n",
    "        page_range = page_loop_access.get(loop_name[0]) # 得到具体这个loop的page\n",
    "        # print(page_range)\n",
    "\n",
    "        for r, mb, hit in node.analysis_result():\n",
    "            for tup in page_range:\n",
    "                if r[0] >= tup[0] and r[1] <= tup[1]:\n",
    "                    print(int(tup[0]/4096))\n",
    "                    print(r, mb, hit)"
   ],
   "metadata": {
    "collapsed": false
   }
  },
  {
   "cell_type": "code",
   "execution_count": null,
   "outputs": [],
   "source": [
    "print(int(69632/4096))"
   ],
   "metadata": {
    "collapsed": false
   }
  },
  {
   "cell_type": "code",
   "execution_count": null,
   "outputs": [],
   "source": [
    "for loop in loop_list.values():\n",
    "    # 找属于哪个loop\n",
    "    loop_name = [key for key, value in loop_list.items() if value == loop]\n",
    "    print(loop_name)\n",
    "    for node in graph.all_nodes:\n",
    "        if node.ident not in loop:\n",
    "            continue\n",
    "        print(node.ident)\n",
    "        page_range = page_loop_access.get(loop_name[0]) # 得到具体这个loop的page\n",
    "        # print(page_range)\n",
    "\n",
    "        for r, mb, hit in node.analysis_result():\n",
    "            for tup in page_range:\n",
    "                for addr in mb:\n",
    "                    # print(addr)\n",
    "                    if tup[0] <= config.block2address(addr) <= tup[1]:\n",
    "                        print(int(tup[0]/4096))\n",
    "                        print(r, mb, hit)"
   ],
   "metadata": {
    "collapsed": false
   }
  },
  {
   "cell_type": "code",
   "execution_count": null,
   "outputs": [],
   "source": [],
   "metadata": {
    "collapsed": false
   }
  }
 ],
 "metadata": {
  "kernelspec": {
   "display_name": "Python 3",
   "language": "python",
   "name": "python3"
  },
  "language_info": {
   "codemirror_mode": {
    "name": "ipython",
    "version": 2
   },
   "file_extension": ".py",
   "mimetype": "text/x-python",
   "name": "python",
   "nbconvert_exporter": "python",
   "pygments_lexer": "ipython2",
   "version": "2.7.6"
  }
 },
 "nbformat": 4,
 "nbformat_minor": 0
}
