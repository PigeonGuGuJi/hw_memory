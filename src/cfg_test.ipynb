{
 "cells": [
  {
   "cell_type": "code",
   "execution_count": 1,
   "metadata": {
    "collapsed": true
   },
   "outputs": [],
   "source": [
    "from synpar.read_asm import AsmFileReader\n",
    "from cfg.cfg import *\n",
    "\n",
    "tb_fp = r\"../inputs/XSB.asm\"\n",
    "reader =AsmFileReader(tb_fp)\n",
    "\n",
    "skip_as_plt = ['center_print', 'border_print', 'fancy_int', 'print_CLI_error']"
   ]
  },
  {
   "cell_type": "code",
   "execution_count": 2,
   "outputs": [
    {
     "name": "stderr",
     "output_type": "stream",
     "text": [
      "D:\\repo\\hw_memory\\src\\cfg\\cfg.py:33: UserWarning: This procedure is considered as a plt-procedure. Procedure name: center_print\n",
      "  warnings.warn(f\"This procedure is considered as a plt-procedure. Procedure name: {self.__name}\")\n",
      "D:\\repo\\hw_memory\\src\\cfg\\cfg.py:33: UserWarning: This procedure is considered as a plt-procedure. Procedure name: border_print\n",
      "  warnings.warn(f\"This procedure is considered as a plt-procedure. Procedure name: {self.__name}\")\n",
      "D:\\repo\\hw_memory\\src\\cfg\\cfg.py:33: UserWarning: This procedure is considered as a plt-procedure. Procedure name: fancy_int\n",
      "  warnings.warn(f\"This procedure is considered as a plt-procedure. Procedure name: {self.__name}\")\n",
      "D:\\repo\\hw_memory\\src\\cfg\\cfg.py:33: UserWarning: This procedure is considered as a plt-procedure. Procedure name: print_CLI_error\n",
      "  warnings.warn(f\"This procedure is considered as a plt-procedure. Procedure name: {self.__name}\")\n"
     ]
    }
   ],
   "source": [
    "proc_network = ProcedureNetwork(reader.statements, skip_as_plt=skip_as_plt)\n",
    "\n",
    "# print(proc_network.formatted_basic())\n",
    "# print(proc_network.formatted_call_relation())\n"
   ],
   "metadata": {
    "collapsed": false
   }
  },
  {
   "cell_type": "code",
   "execution_count": 3,
   "outputs": [],
   "source": [
    "call_graph = TCfgAsCallGraph(proc_network)\n",
    "\n",
    "# print(call_graph.formatted_call_relation())\n"
   ],
   "metadata": {
    "collapsed": false
   }
  },
  {
   "cell_type": "code",
   "execution_count": 4,
   "outputs": [
    {
     "name": "stderr",
     "output_type": "stream",
     "text": [
      "D:\\repo\\hw_memory\\src\\cfg\\cfg.py:422: UserWarning: main|4010e0#set_grid_ptrs is not a Plt-procedure and do not have 'ret' instruction.\n",
      "  warnings.warn(f\"{self.__call_graph_node.name} is not a Plt-procedure and do not have 'ret' instruction.\")\n",
      "D:\\repo\\hw_memory\\src\\cfg\\cfg.py:422: UserWarning: main|4010cc#generate_energy_grid|401cfc#gpmatrix_free is not a Plt-procedure and do not have 'ret' instruction.\n",
      "  warnings.warn(f\"{self.__call_graph_node.name} is not a Plt-procedure and do not have 'ret' instruction.\")\n",
      "D:\\repo\\hw_memory\\src\\cfg\\cfg.py:422: UserWarning: main|4010cc#generate_energy_grid|401d54#gpmatrix_free is not a Plt-procedure and do not have 'ret' instruction.\n",
      "  warnings.warn(f\"{self.__call_graph_node.name} is not a Plt-procedure and do not have 'ret' instruction.\")\n"
     ]
    }
   ],
   "source": [
    "tcfg = TCfg(call_graph)\n",
    "tcfg.build()\n"
   ],
   "metadata": {
    "collapsed": false
   }
  },
  {
   "cell_type": "code",
   "execution_count": 5,
   "outputs": [
    {
     "name": "stdout",
     "output_type": "stream",
     "text": [
      "['main', 'main|400f6c#omp_get_num_procs@plt', 'main|400f74#time@plt', 'main|400f78#srand@plt', 'main|400f88#read_CLI', 'main|400f9c#omp_set_num_threads@plt', 'main|400fa4#logo', 'main|400fb4#center_print', 'main|400fc0#border_print', 'main|400fd0#printf@plt', 'main|400fe0#printf@plt', 'main|400ff0#printf@plt', 'main|400ffc#printf@plt', 'main|401004#fancy_int', 'main|401010#printf@plt', 'main|401018#fancy_int', 'main|401024#printf@plt', 'main|40102c#fancy_int', 'main|40103c#printf@plt', 'main|401048#printf@plt', 'main|401060#fancy_int', 'main|401064#border_print', 'main|401074#center_print', 'main|401078#border_print', 'main|401084#puts@plt', 'main|401090#gpmatrix', 'main|4010a0#generate_grids', 'main|4010ac#puts@plt', 'main|4010bc#sort_nuclide_grids', 'main|4010cc#generate_energy_grid', 'main|4010e0#set_grid_ptrs', 'main|4010ec#puts@plt', 'main|4010f4#load_num_nucs', 'main|401100#load_mats', 'main|40110c#load_concs', 'main|401118#putchar@plt', 'main|40111c#border_print', 'main|40112c#center_print', 'main|401130#border_print', 'main|401134#omp_get_wtime@plt', 'main|401168#GOMP_parallel@plt', 'main|401170#putchar@plt', 'main|40117c#puts@plt', 'main|401180#omp_get_wtime@plt', 'main|401194#border_print', 'main|4011a4#center_print', 'main|4011a8#border_print', 'main|4011b8#printf@plt', 'main|4011c8#printf@plt', 'main|4011d4#printf@plt', 'main|4011dc#fancy_int', 'main|4011e8#printf@plt', 'main|4011f0#fancy_int', 'main|4011f4#border_print', 'main|401208#fopen@plt', 'main|401220#fprintf@plt', 'main|401228#fclose@plt', 'main|400f88#read_CLI|4022bc#omp_get_num_procs@plt', 'main|400f88#read_CLI|4022c8#malloc@plt', 'main|400f88#read_CLI|402360#print_CLI_error', 'main|400f88#read_CLI|402380#strtol@plt', 'main|400f88#read_CLI|4023c0#strcasecmp@plt', 'main|400f88#read_CLI|4023d4#strcasecmp@plt', 'main|400f88#read_CLI|4023e8#strcasecmp@plt', 'main|400f88#read_CLI|402404#strcasecmp@plt', 'main|400f88#read_CLI|402414#strcasecmp@plt', 'main|400f88#read_CLI|402454#strtol@plt', 'main|400f88#read_CLI|4024a0#strtol@plt', 'main|400fa4#logo|401ee8#puts@plt', 'main|400fa4#logo|401ef4#puts@plt', 'main|400fa4#logo|401f04#puts@plt', 'main|400fa4#logo|401f10#fputc@plt', 'main|400fa4#logo|401f30#fwrite@plt', 'main|400fa4#logo|401f3c#fputc@plt', 'main|400fa4#logo|401f50#sprintf@plt', 'main|400fa4#logo|401f58#strlen@plt', 'main|400fa4#logo|401f84#fputc@plt', 'main|400fa4#logo|401f98#fputs@plt', 'main|400fa4#logo|401fa4#fputc@plt', 'main|400fa4#logo|401fac#puts@plt', 'main|400fb4#center_print|401fe0#strlen@plt', 'main|400fb4#center_print|402014#fputc@plt', 'main|400fb4#center_print|402028#fputs@plt', 'main|400fb4#center_print|402044#fputc@plt', 'main|400fc0#border_print|402058#puts@plt', 'main|401004#fancy_int|4020e4#printf@plt', 'main|401004#fancy_int|4020f4#printf@plt', 'main|401004#fancy_int|402104#printf@plt', 'main|401004#fancy_int|402140#printf@plt', 'main|401018#fancy_int|4020e4#printf@plt', 'main|401018#fancy_int|4020f4#printf@plt', 'main|401018#fancy_int|402104#printf@plt', 'main|401018#fancy_int|402140#printf@plt', 'main|40102c#fancy_int|4020e4#printf@plt', 'main|40102c#fancy_int|4020f4#printf@plt', 'main|40102c#fancy_int|402104#printf@plt', 'main|40102c#fancy_int|402140#printf@plt', 'main|401060#fancy_int|4020e4#printf@plt', 'main|401060#fancy_int|4020f4#printf@plt', 'main|401060#fancy_int|402104#printf@plt', 'main|401060#fancy_int|402140#printf@plt', 'main|401064#border_print|402058#puts@plt', 'main|401074#center_print|401fe0#strlen@plt', 'main|401074#center_print|402014#fputc@plt', 'main|401074#center_print|402028#fputs@plt', 'main|401074#center_print|402044#fputc@plt', 'main|401078#border_print|402058#puts@plt', 'main|401090#gpmatrix|401e14#malloc@plt', 'main|401090#gpmatrix|401e24#malloc@plt', 'main|4010a0#generate_grids|401a38#rand@plt', 'main|4010a0#generate_grids|401a4c#rand@plt', 'main|4010a0#generate_grids|401a64#rand@plt', 'main|4010a0#generate_grids|401a7c#rand@plt', 'main|4010a0#generate_grids|401a94#rand@plt', 'main|4010a0#generate_grids|401aac#rand@plt', 'main|4010bc#sort_nuclide_grids|401c08#qsort@plt', 'main|4010cc#generate_energy_grid|401c68#puts@plt', 'main|4010cc#generate_energy_grid|401c70#malloc@plt', 'main|4010cc#generate_energy_grid|401c84#puts@plt', 'main|4010cc#generate_energy_grid|401c90#gpmatrix', 'main|4010cc#generate_energy_grid|401ca4#memcpy@plt', 'main|4010cc#generate_energy_grid|401cbc#qsort@plt', 'main|4010cc#generate_energy_grid|401cc8#puts@plt', 'main|4010cc#generate_energy_grid|401cfc#gpmatrix_free', 'main|4010cc#generate_energy_grid|401d08#malloc@plt', 'main|4010cc#generate_energy_grid|401d54#gpmatrix_free', 'main|4010e0#set_grid_ptrs|401da8#puts@plt', 'main|4010e0#set_grid_ptrs|401dcc#GOMP_parallel@plt', 'main|4010e0#set_grid_ptrs|401de0#putchar@plt', 'main|4010f4#load_num_nucs|4025c4#malloc@plt', 'main|401100#load_mats|402640#malloc@plt', 'main|401100#load_mats|402650#malloc@plt', 'main|401100#load_mats|402678#memcpy@plt', 'main|401100#load_mats|402688#memset@plt', 'main|401100#load_mats|402878#memcpy@plt', 'main|401100#load_mats|40288c#memcpy@plt', 'main|401100#load_mats|4028a0#memcpy@plt', 'main|401100#load_mats|4028b4#memcpy@plt', 'main|401100#load_mats|4028c8#memcpy@plt', 'main|401100#load_mats|4028dc#memcpy@plt', 'main|401100#load_mats|4028f0#memcpy@plt', 'main|401100#load_mats|402904#memcpy@plt', 'main|401100#load_mats|402918#memcpy@plt', 'main|401100#load_mats|40292c#memcpy@plt', 'main|401100#load_mats|402940#memcpy@plt', 'main|401100#load_mats|402954#memcpy@plt', 'main|401100#load_mats|40297c#memcpy@plt', 'main|40110c#load_concs|4029a4#malloc@plt', 'main|40110c#load_concs|4029b8#malloc@plt', 'main|40110c#load_concs|4029f0#rand@plt', 'main|40111c#border_print|402058#puts@plt', 'main|40112c#center_print|401fe0#strlen@plt', 'main|40112c#center_print|402014#fputc@plt', 'main|40112c#center_print|402028#fputs@plt', 'main|40112c#center_print|402044#fputc@plt', 'main|401130#border_print|402058#puts@plt', 'main|401194#border_print|402058#puts@plt', 'main|4011a4#center_print|401fe0#strlen@plt', 'main|4011a4#center_print|402014#fputc@plt', 'main|4011a4#center_print|402028#fputs@plt', 'main|4011a4#center_print|402044#fputc@plt', 'main|4011a8#border_print|402058#puts@plt', 'main|4011dc#fancy_int|4020e4#printf@plt', 'main|4011dc#fancy_int|4020f4#printf@plt', 'main|4011dc#fancy_int|402104#printf@plt', 'main|4011dc#fancy_int|402140#printf@plt', 'main|4011f0#fancy_int|4020e4#printf@plt', 'main|4011f0#fancy_int|4020f4#printf@plt', 'main|4011f0#fancy_int|402104#printf@plt', 'main|4011f0#fancy_int|402140#printf@plt', 'main|4011f4#border_print|402058#puts@plt', 'main|400f88#read_CLI|402360#print_CLI_error|402230#puts@plt', 'main|400f88#read_CLI|402360#print_CLI_error|40223c#puts@plt', 'main|400f88#read_CLI|402360#print_CLI_error|402248#puts@plt', 'main|400f88#read_CLI|402360#print_CLI_error|402254#puts@plt', 'main|400f88#read_CLI|402360#print_CLI_error|402260#puts@plt', 'main|400f88#read_CLI|402360#print_CLI_error|40226c#puts@plt', 'main|400f88#read_CLI|402360#print_CLI_error|402278#puts@plt', 'main|400f88#read_CLI|402360#print_CLI_error|402284#puts@plt', 'main|400f88#read_CLI|402360#print_CLI_error|40228c#exit@plt', 'main|4010cc#generate_energy_grid|401c90#gpmatrix|401e14#malloc@plt', 'main|4010cc#generate_energy_grid|401c90#gpmatrix|401e24#malloc@plt', 'main|4010cc#generate_energy_grid|401cfc#gpmatrix_free|401e84#free@plt', 'main|4010cc#generate_energy_grid|401cfc#gpmatrix_free|401e94#free@plt', 'main|4010cc#generate_energy_grid|401d54#gpmatrix_free|401e84#free@plt', 'main|4010cc#generate_energy_grid|401d54#gpmatrix_free|401e94#free@plt']\n"
     ]
    }
   ],
   "source": [
    "print(call_graph.all_identifications())"
   ],
   "metadata": {
    "collapsed": false
   }
  },
  {
   "cell_type": "code",
   "execution_count": 6,
   "outputs": [
    {
     "name": "stdout",
     "output_type": "stream",
     "text": [
      "+--------------------------+---------------+---------------------+-------------------------------------------------------+\n",
      "| Name                     | Addr Range    | Incoming            | Outgoing                                              |\n",
      "+==========================+===============+=====================+=======================================================+\n",
      "| n0-main|4011f0#fancy_int | 402060-402140 | ProcCall @ n51-main | PltBelieved @ n52-main                                |\n",
      "|                          |               |                     | ProcCall @ n0-main|4011f0#fancy_int|402140#printf@plt |\n",
      "+--------------------------+---------------+---------------------+-------------------------------------------------------+\n"
     ]
    }
   ],
   "source": [
    "print(tcfg.ident2cluster['main|4011f0#fancy_int'].formatted_all_tcfg_nodes())\n"
   ],
   "metadata": {
    "collapsed": false
   }
  },
  {
   "cell_type": "code",
   "execution_count": 6,
   "outputs": [],
   "source": [],
   "metadata": {
    "collapsed": false
   }
  }
 ],
 "metadata": {
  "kernelspec": {
   "display_name": "Python 3",
   "language": "python",
   "name": "python3"
  },
  "language_info": {
   "codemirror_mode": {
    "name": "ipython",
    "version": 2
   },
   "file_extension": ".py",
   "mimetype": "text/x-python",
   "name": "python",
   "nbconvert_exporter": "python",
   "pygments_lexer": "ipython2",
   "version": "2.7.6"
  }
 },
 "nbformat": 4,
 "nbformat_minor": 0
}
