{
 "cells": [
  {
   "cell_type": "code",
   "execution_count": 1,
   "metadata": {
    "collapsed": true,
    "ExecuteTime": {
     "end_time": "2023-07-04T10:09:01.743491Z",
     "start_time": "2023-07-04T10:09:01.700941200Z"
    }
   },
   "outputs": [],
   "source": [
    "from synpar.read_asm import AsmFileReader\n",
    "from cfg.cfg import *\n",
    "\n",
    "tb_fp = r\"../inputs/XSB.asm\"\n",
    "reader =AsmFileReader(tb_fp)\n"
   ]
  },
  {
   "cell_type": "code",
   "execution_count": 2,
   "outputs": [],
   "source": [
    "proc_network = ProcedureNetwork(reader.statements)\n",
    "\n",
    "# print(proc_network.formatted_basic())\n",
    "# print(proc_network.formatted_call_relation())\n"
   ],
   "metadata": {
    "collapsed": false,
    "ExecuteTime": {
     "end_time": "2023-07-04T10:09:01.762318800Z",
     "start_time": "2023-07-04T10:09:01.743491Z"
    }
   }
  },
  {
   "cell_type": "code",
   "execution_count": 3,
   "outputs": [],
   "source": [
    "call_graph = CallGraph(proc_network)\n",
    "\n",
    "# print(call_graph.formatted_call_relation())\n"
   ],
   "metadata": {
    "collapsed": false,
    "ExecuteTime": {
     "end_time": "2023-07-04T10:09:01.765773700Z",
     "start_time": "2023-07-04T10:09:01.762318800Z"
    }
   }
  },
  {
   "cell_type": "code",
   "execution_count": 3,
   "outputs": [],
   "source": [],
   "metadata": {
    "collapsed": false,
    "ExecuteTime": {
     "end_time": "2023-07-04T10:09:01.768876400Z",
     "start_time": "2023-07-04T10:09:01.766775200Z"
    }
   }
  }
 ],
 "metadata": {
  "kernelspec": {
   "display_name": "Python 3",
   "language": "python",
   "name": "python3"
  },
  "language_info": {
   "codemirror_mode": {
    "name": "ipython",
    "version": 2
   },
   "file_extension": ".py",
   "mimetype": "text/x-python",
   "name": "python",
   "nbconvert_exporter": "python",
   "pygments_lexer": "ipython2",
   "version": "2.7.6"
  }
 },
 "nbformat": 4,
 "nbformat_minor": 0
}
