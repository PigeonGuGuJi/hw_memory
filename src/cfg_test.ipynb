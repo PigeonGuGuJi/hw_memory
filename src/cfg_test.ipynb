{
 "cells": [
  {
   "cell_type": "code",
   "execution_count": 1,
   "metadata": {
    "collapsed": true,
    "ExecuteTime": {
     "end_time": "2023-07-05T01:39:31.764810100Z",
     "start_time": "2023-07-05T01:39:31.718212500Z"
    }
   },
   "outputs": [],
   "source": [
    "from synpar.read_asm import AsmFileReader\n",
    "from cfg.cfg import *\n",
    "\n",
    "tb_fp = r\"../inputs/XSB.asm\"\n",
    "reader =AsmFileReader(tb_fp)\n",
    "\n",
    "skip_as_plt = ['center_print', 'border_print', 'fancy_int', 'print_CLI_error', 'logo', 'read_CLI']"
   ]
  },
  {
   "cell_type": "code",
   "execution_count": 2,
   "outputs": [
    {
     "name": "stderr",
     "output_type": "stream",
     "text": [
      "D:\\repo\\hw_memory\\src\\cfg\\cfg.py:33: UserWarning: This procedure is considered as a plt-procedure. Procedure name: center_print\n",
      "  warnings.warn(f\"This procedure is considered as a plt-procedure. Procedure name: {self.__name}\")\n",
      "D:\\repo\\hw_memory\\src\\cfg\\cfg.py:33: UserWarning: This procedure is considered as a plt-procedure. Procedure name: border_print\n",
      "  warnings.warn(f\"This procedure is considered as a plt-procedure. Procedure name: {self.__name}\")\n",
      "D:\\repo\\hw_memory\\src\\cfg\\cfg.py:33: UserWarning: This procedure is considered as a plt-procedure. Procedure name: fancy_int\n",
      "  warnings.warn(f\"This procedure is considered as a plt-procedure. Procedure name: {self.__name}\")\n",
      "D:\\repo\\hw_memory\\src\\cfg\\cfg.py:33: UserWarning: This procedure is considered as a plt-procedure. Procedure name: print_CLI_error\n",
      "  warnings.warn(f\"This procedure is considered as a plt-procedure. Procedure name: {self.__name}\")\n",
      "D:\\repo\\hw_memory\\src\\cfg\\cfg.py:33: UserWarning: This procedure is considered as a plt-procedure. Procedure name: logo\n",
      "  warnings.warn(f\"This procedure is considered as a plt-procedure. Procedure name: {self.__name}\")\n",
      "D:\\repo\\hw_memory\\src\\cfg\\cfg.py:33: UserWarning: This procedure is considered as a plt-procedure. Procedure name: read_CLI\n",
      "  warnings.warn(f\"This procedure is considered as a plt-procedure. Procedure name: {self.__name}\")\n"
     ]
    }
   ],
   "source": [
    "proc_network = ProcedureNetwork(reader.statements, skip_as_plt=skip_as_plt)\n",
    "\n",
    "# print(proc_network.formatted_basic())\n",
    "# print(proc_network.formatted_call_relation())\n"
   ],
   "metadata": {
    "collapsed": false,
    "ExecuteTime": {
     "end_time": "2023-07-05T01:39:31.791377Z",
     "start_time": "2023-07-05T01:39:31.765813400Z"
    }
   }
  },
  {
   "cell_type": "code",
   "execution_count": 3,
   "outputs": [],
   "source": [
    "call_graph = TCfgAsCallGraph(proc_network)\n",
    "\n",
    "# print(call_graph.formatted_call_relation())\n"
   ],
   "metadata": {
    "collapsed": false,
    "ExecuteTime": {
     "end_time": "2023-07-05T01:39:31.820907500Z",
     "start_time": "2023-07-05T01:39:31.789352Z"
    }
   }
  },
  {
   "cell_type": "code",
   "execution_count": 4,
   "outputs": [
    {
     "name": "stderr",
     "output_type": "stream",
     "text": [
      "D:\\repo\\hw_memory\\src\\cfg\\cfg.py:432: UserWarning: main|4010e0#set_grid_ptrs is not a Plt-procedure and do not have 'ret' instruction.\n",
      "  warnings.warn(f\"{self.__call_graph_node.name} is not a Plt-procedure and do not have 'ret' instruction.\")\n",
      "D:\\repo\\hw_memory\\src\\cfg\\cfg.py:432: UserWarning: main|4010cc#generate_energy_grid|401cfc#gpmatrix_free is not a Plt-procedure and do not have 'ret' instruction.\n",
      "  warnings.warn(f\"{self.__call_graph_node.name} is not a Plt-procedure and do not have 'ret' instruction.\")\n",
      "D:\\repo\\hw_memory\\src\\cfg\\cfg.py:432: UserWarning: main|4010cc#generate_energy_grid|401d54#gpmatrix_free is not a Plt-procedure and do not have 'ret' instruction.\n",
      "  warnings.warn(f\"{self.__call_graph_node.name} is not a Plt-procedure and do not have 'ret' instruction.\")\n"
     ]
    },
    {
     "data": {
      "text/plain": "'..\\\\output\\\\xsb_tcfg.svg'"
     },
     "execution_count": 4,
     "metadata": {},
     "output_type": "execute_result"
    }
   ],
   "source": [
    "tcfg = TCfg(call_graph)\n",
    "tcfg.build()\n",
    "\n",
    "# print(call_graph.all_identifications())\n",
    "# print(tcfg.ident2cluster['main'].formatted_all_tcfg_nodes())\n",
    "\n",
    "g = tcfg.draw_tcfg(filename='xsb_tcfg.gv')\n",
    "g.render(filename='xsb_tcfg', directory='../output', format='svg')\n"
   ],
   "metadata": {
    "collapsed": false,
    "ExecuteTime": {
     "end_time": "2023-07-05T01:39:32.007834900Z",
     "start_time": "2023-07-05T01:39:31.794905800Z"
    }
   }
  }
 ],
 "metadata": {
  "kernelspec": {
   "display_name": "Python 3",
   "language": "python",
   "name": "python3"
  },
  "language_info": {
   "codemirror_mode": {
    "name": "ipython",
    "version": 2
   },
   "file_extension": ".py",
   "mimetype": "text/x-python",
   "name": "python",
   "nbconvert_exporter": "python",
   "pygments_lexer": "ipython2",
   "version": "2.7.6"
  }
 },
 "nbformat": 4,
 "nbformat_minor": 0
}
