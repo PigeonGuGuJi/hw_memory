{
 "cells": [
  {
   "cell_type": "code",
   "execution_count": 1,
   "outputs": [],
   "source": [
    "from samples.frontend import CacheConfig, in_out_nodes_generation, inst_block_gen, extract_mem_blocks\n",
    "from samples.fixpoint import Fixpoint, FixpointType, fixpoint_nodes_generation\n",
    "from pprint import pprint"
   ],
   "metadata": {
    "collapsed": false
   }
  },
  {
   "cell_type": "code",
   "execution_count": 2,
   "metadata": {
    "collapsed": true
   },
   "outputs": [],
   "source": [
    "\"\"\"\n",
    "    从CFG到cache analysis的接口 需要输入五个信息\n",
    "    有关CFG的信息为:\n",
    "        1. 所有 basic block 的标识 相当于其identity 必须是唯一的 这里直接用我们之前使用的 basic block的首指令地址, 相当于blockHead\n",
    "        2. 入口 basic block , 也就是整个CFG的头, 这里可以理解为main函数的开始 相当于blockHead[1]\n",
    "        3. 边信息 这里是有向边 从左指向右 ---> 构成一个元组 有几条边就有几个元组 所有元组构成一个总的边列表\n",
    "    有关cache配置的信息：\n",
    "        1. 只要知道地址中的偏移位和set_index位以及cache是几路相联即可 or 输入直接得到的信息也可以 比如cache总大小, cache line 的大小, 以及几路相联 也能根据关系计算出来 cache line size ---> offset_len;\n",
    "    有关访存的信息：\n",
    "        1. 需要输入每个 basic block 所访存的地址信息, 比如指令的则是 开始 - 结尾, dict类型, basic block identity ---> key ; tuple(start,end) ---> value\n",
    "\"\"\"\n",
    "\n",
    "# Idents of all nodes.\n",
    "all_nodes = ['400604', '400630', '40066c', '400708', '400724', '400730', '40073c', '400740', '40074c', '400754', '400758', '400770', '40079c', '4007c0', '4007d4', '4007fc', '40080c', '400848', '400864', '400870', '400874']\n",
    "entrynode = '400604'\n",
    "# All directed edges. The CFG is determined by nodes and edges.\n",
    "edges = [('400604', '400740'), ('400604', '400630'), ('400630', '400730'), ('40066c', '400724'), ('40066c', '400708'), ('400708', '400874'), ('400724', '400730'), ('400730', '40066c'), ('400730', '40073c'), ('40073c', '400870'), ('400740', '400754'), ('400740', '40074c'), ('40074c', '400758'), ('400754', '400758'), ('400758', '400864'), ('400770', '4007c0'), ('400770', '40079c'), ('40079c', '400848'), ('4007c0', '4007fc'), ('4007d4', '4007fc'), ('4007fc', '4007d4'), ('4007fc', '40080c'), ('40080c', '400848'), ('400848', '400864'), ('400864', '400770'), ('400864', '400870'), ('400870', '400874')]\n",
    "# For instruction cache analysis, the instruction range of each basic block.\n",
    "address_range = {'400604': (4195844, 4195884), '400630': (4195888, 4195944), '40066c': (4195948, 4196100), '400708': (4196104, 4196128), '400724': (4196132, 4196140), '400730': (4196144, 4196152), '40073c': (4196156, 4196156), '400740': (4196160, 4196168), '40074c': (4196172, 4196176), '400754': (4196180, 4196180), '400758': (4196184, 4196204), '400770': (4196208, 4196248), '40079c': (4196252, 4196284), '4007c0': (4196288, 4196304), '4007d4': (4196308, 4196344), '4007fc': (4196348, 4196360), '40080c': (4196364, 4196420), '400848': (4196424, 4196448), '400864': (4196452, 4196460), '400870': (4196464, 4196464), '400874': (4196468, 4196472)}\n",
    "\n",
    "# Cache config.\n",
    "cache_conf = CacheConfig(offset_len=6, set_index_len=8, assoc=4)"
   ]
  },
  {
   "cell_type": "code",
   "execution_count": 3,
   "outputs": [
    {
     "name": "stdout",
     "output_type": "stream",
     "text": [
      "{'400604': set(),\n",
      " '400630': {'400604'},\n",
      " '40066c': {'400730'},\n",
      " '400708': {'40066c'},\n",
      " '400724': {'40066c'},\n",
      " '400730': {'400630', '400724'},\n",
      " '40073c': {'400730'},\n",
      " '400740': {'400604'},\n",
      " '40074c': {'400740'},\n",
      " '400754': {'400740'},\n",
      " '400758': {'40074c', '400754'},\n",
      " '400770': {'400864'},\n",
      " '40079c': {'400770'},\n",
      " '4007c0': {'400770'},\n",
      " '4007d4': {'4007fc'},\n",
      " '4007fc': {'4007d4', '4007c0'},\n",
      " '40080c': {'4007fc'},\n",
      " '400848': {'40080c', '40079c'},\n",
      " '400864': {'400758', '400848'},\n",
      " '400870': {'400864', '40073c'},\n",
      " '400874': {'400708', '400870'}}\n",
      "{'400604': {'400630', '400740'},\n",
      " '400630': {'400730'},\n",
      " '40066c': {'400708', '400724'},\n",
      " '400708': {'400874'},\n",
      " '400724': {'400730'},\n",
      " '400730': {'40073c', '40066c'},\n",
      " '40073c': {'400870'},\n",
      " '400740': {'40074c', '400754'},\n",
      " '40074c': {'400758'},\n",
      " '400754': {'400758'},\n",
      " '400758': {'400864'},\n",
      " '400770': {'4007c0', '40079c'},\n",
      " '40079c': {'400848'},\n",
      " '4007c0': {'4007fc'},\n",
      " '4007d4': {'4007fc'},\n",
      " '4007fc': {'4007d4', '40080c'},\n",
      " '40080c': {'400848'},\n",
      " '400848': {'400864'},\n",
      " '400864': {'400770', '400870'},\n",
      " '400870': {'400874'},\n",
      " '400874': set()}\n"
     ]
    }
   ],
   "source": [
    "\"\"\" 获取每个 basic block 的 in_nodes 和 out_nodes (如果没有入 没有出 则标记位set() ) \"\"\"\n",
    "\n",
    "in_nodes, out_nodes = in_out_nodes_generation(all_nodes, edges)\n",
    "\n",
    "pprint(in_nodes)\n",
    "pprint(out_nodes)"
   ],
   "metadata": {
    "collapsed": false
   }
  },
  {
   "cell_type": "code",
   "execution_count": 4,
   "outputs": [
    {
     "name": "stdout",
     "output_type": "stream",
     "text": [
      "{'400604': [<MemBlock tag:0x100 set_index:24>],\n",
      " '400630': [<MemBlock tag:0x100 set_index:24>,\n",
      "            <MemBlock tag:0x100 set_index:25>],\n",
      " '40066c': [<MemBlock tag:0x100 set_index:25>,\n",
      "            <MemBlock tag:0x100 set_index:26>,\n",
      "            <MemBlock tag:0x100 set_index:27>,\n",
      "            <MemBlock tag:0x100 set_index:28>],\n",
      " '400708': [<MemBlock tag:0x100 set_index:28>],\n",
      " '400724': [<MemBlock tag:0x100 set_index:28>],\n",
      " '400730': [<MemBlock tag:0x100 set_index:28>],\n",
      " '40073c': [<MemBlock tag:0x100 set_index:28>],\n",
      " '400740': [<MemBlock tag:0x100 set_index:29>],\n",
      " '40074c': [<MemBlock tag:0x100 set_index:29>],\n",
      " '400754': [<MemBlock tag:0x100 set_index:29>],\n",
      " '400758': [<MemBlock tag:0x100 set_index:29>],\n",
      " '400770': [<MemBlock tag:0x100 set_index:29>,\n",
      "            <MemBlock tag:0x100 set_index:30>],\n",
      " '40079c': [<MemBlock tag:0x100 set_index:30>],\n",
      " '4007c0': [<MemBlock tag:0x100 set_index:31>],\n",
      " '4007d4': [<MemBlock tag:0x100 set_index:31>],\n",
      " '4007fc': [<MemBlock tag:0x100 set_index:31>,\n",
      "            <MemBlock tag:0x100 set_index:32>],\n",
      " '40080c': [<MemBlock tag:0x100 set_index:32>,\n",
      "            <MemBlock tag:0x100 set_index:33>],\n",
      " '400848': [<MemBlock tag:0x100 set_index:33>],\n",
      " '400864': [<MemBlock tag:0x100 set_index:33>],\n",
      " '400870': [<MemBlock tag:0x100 set_index:33>],\n",
      " '400874': [<MemBlock tag:0x100 set_index:33>]}\n"
     ]
    }
   ],
   "source": [
    "\"\"\" basic block 到 memory block 的映射; 每个 basic block 访问了 那些 memory block; 且 memory block 由 tag + set_index 唯一确定 \"\"\"\n",
    "\n",
    "mem_block_dict = {ident: inst_block_gen(*address_range[ident], cache_config=cache_conf) for ident in all_nodes}\n",
    "pprint(mem_block_dict)"
   ],
   "metadata": {
    "collapsed": false
   }
  },
  {
   "cell_type": "code",
   "execution_count": 5,
   "outputs": [
    {
     "name": "stdout",
     "output_type": "stream",
     "text": [
      "{'400604': [],\n",
      " '400630': [],\n",
      " '40066c': [],\n",
      " '400708': [],\n",
      " '400724': [],\n",
      " '400730': [],\n",
      " '40073c': [],\n",
      " '400740': [],\n",
      " '40074c': [],\n",
      " '400754': [],\n",
      " '400758': [],\n",
      " '400770': [<MemBlock tag:0x100 set_index:30>],\n",
      " '40079c': [<MemBlock tag:0x100 set_index:30>],\n",
      " '4007c0': [],\n",
      " '4007d4': [],\n",
      " '4007fc': [],\n",
      " '40080c': [],\n",
      " '400848': [],\n",
      " '400864': [],\n",
      " '400870': [],\n",
      " '400874': []}\n"
     ]
    }
   ],
   "source": [
    "\"\"\" 按 set_index 分割内存块 只打印访问此 memory block 的信息 \"\"\"\n",
    "\n",
    "pprint(extract_mem_blocks(30, mem_block_dict))"
   ],
   "metadata": {
    "collapsed": false
   }
  },
  {
   "cell_type": "code",
   "execution_count": 6,
   "outputs": [
    {
     "name": "stdout",
     "output_type": "stream",
     "text": [
      "[<400604 ACC:[] IN:set(), OUT:{'400630', '400740'} IN_STAT:line:[{}, {}, {}, {}], OUT_STAT:line:[{}, {}, {}, {}]>,\n",
      " <400630 ACC:[] IN:{'400604'}, OUT:{'400730'} IN_STAT:line:[{}, {}, {}, {}], OUT_STAT:line:[{}, {}, {}, {}]>,\n",
      " <40066c ACC:[] IN:{'400730'}, OUT:{'400708', '400724'} IN_STAT:line:[{}, {}, {}, {}], OUT_STAT:line:[{}, {}, {}, {}]>,\n",
      " <400708 ACC:[] IN:{'40066c'}, OUT:{'400874'} IN_STAT:line:[{}, {}, {}, {}], OUT_STAT:line:[{}, {}, {}, {}]>,\n",
      " <400724 ACC:[] IN:{'40066c'}, OUT:{'400730'} IN_STAT:line:[{}, {}, {}, {}], OUT_STAT:line:[{}, {}, {}, {}]>,\n",
      " <400730 ACC:[] IN:{'400630', '400724'}, OUT:{'40073c', '40066c'} IN_STAT:line:[{}, {}, {}, {}], OUT_STAT:line:[{}, {}, {}, {}]>,\n",
      " <40073c ACC:[] IN:{'400730'}, OUT:{'400870'} IN_STAT:line:[{}, {}, {}, {}], OUT_STAT:line:[{}, {}, {}, {}]>,\n",
      " <400740 ACC:[] IN:{'400604'}, OUT:{'40074c', '400754'} IN_STAT:line:[{}, {}, {}, {}], OUT_STAT:line:[{}, {}, {}, {}]>,\n",
      " <40074c ACC:[] IN:{'400740'}, OUT:{'400758'} IN_STAT:line:[{}, {}, {}, {}], OUT_STAT:line:[{}, {}, {}, {}]>,\n",
      " <400754 ACC:[] IN:{'400740'}, OUT:{'400758'} IN_STAT:line:[{}, {}, {}, {}], OUT_STAT:line:[{}, {}, {}, {}]>,\n",
      " <400758 ACC:[] IN:{'40074c', '400754'}, OUT:{'400864'} IN_STAT:line:[{}, {}, {}, {}], OUT_STAT:line:[{}, {}, {}, {}]>,\n",
      " <400770 ACC:[] IN:{'400864'}, OUT:{'4007c0', '40079c'} IN_STAT:line:[{}, {}, {}, {}], OUT_STAT:line:[{}, {}, {}, {}]>,\n",
      " <40079c ACC:[] IN:{'400770'}, OUT:{'400848'} IN_STAT:line:[{}, {}, {}, {}], OUT_STAT:line:[{}, {}, {}, {}]>,\n",
      " <4007c0 ACC:[256] IN:{'400770'}, OUT:{'4007fc'} IN_STAT:line:[{}, {}, {}, {}], OUT_STAT:line:[{}, {}, {}, {}]>,\n",
      " <4007d4 ACC:[256] IN:{'4007fc'}, OUT:{'4007fc'} IN_STAT:line:[{}, {}, {}, {}], OUT_STAT:line:[{}, {}, {}, {}]>,\n",
      " <4007fc ACC:[256] IN:{'4007d4', '4007c0'}, OUT:{'4007d4', '40080c'} IN_STAT:line:[{}, {}, {}, {}], OUT_STAT:line:[{}, {}, {}, {}]>,\n",
      " <40080c ACC:[] IN:{'4007fc'}, OUT:{'400848'} IN_STAT:line:[{}, {}, {}, {}], OUT_STAT:line:[{}, {}, {}, {}]>,\n",
      " <400848 ACC:[] IN:{'40080c', '40079c'}, OUT:{'400864'} IN_STAT:line:[{}, {}, {}, {}], OUT_STAT:line:[{}, {}, {}, {}]>,\n",
      " <400864 ACC:[] IN:{'400758', '400848'}, OUT:{'400770', '400870'} IN_STAT:line:[{}, {}, {}, {}], OUT_STAT:line:[{}, {}, {}, {}]>,\n",
      " <400870 ACC:[] IN:{'400864', '40073c'}, OUT:{'400874'} IN_STAT:line:[{}, {}, {}, {}], OUT_STAT:line:[{}, {}, {}, {}]>,\n",
      " <400874 ACC:[] IN:{'400708', '400870'}, OUT:set() IN_STAT:line:[{}, {}, {}, {}], OUT_STAT:line:[{}, {}, {}, {}]>]\n"
     ]
    }
   ],
   "source": [
    "\"\"\" Fixpoint nodes basic generation. \"\"\"\n",
    "\"\"\" Illustrated with must analysis, set_index=31 as example. \"\"\"\n",
    "\"\"\" must分析例子, set_index=31 作为例子 也就是输出第31个set的must分析 这里在进行可视化时需要得到256个set的must分析 may分析 \"\"\"\n",
    "\n",
    "fp_nodes = fixpoint_nodes_generation(nodes=all_nodes, in_nodes=in_nodes, out_nodes=out_nodes,\n",
    "                                     cache_config=cache_conf, evicted=False,\n",
    "                                     mem_block_dict=extract_mem_blocks(31, mem_block_dict))\n",
    "pprint(fp_nodes)"
   ],
   "metadata": {
    "collapsed": false
   }
  },
  {
   "cell_type": "code",
   "execution_count": 7,
   "outputs": [
    {
     "name": "stdout",
     "output_type": "stream",
     "text": [
      "('400604', '400630', '400740', '400730', '40074c', '400754', '40073c', '40066c', '400758', '400758', '400870', '400708', '400724', '400864', '400864', '400874', '400874', '400770', '400770', '4007c0', '40079c', '4007c0', '40079c', '4007fc', '400848', '4007fc', '400848', '4007d4', '40080c', '4007d4', '40080c')\n",
      "[<400604 ACC:[] IN:set(), OUT:{'400630', '400740'} IN_STAT:line:[{}, {}, {}, {}], OUT_STAT:line:[{}, {}, {}, {}]>,\n",
      " <400630 ACC:[] IN:{'400604'}, OUT:{'400730'} IN_STAT:line:[{}, {}, {}, {}], OUT_STAT:line:[{}, {}, {}, {}]>,\n",
      " <40066c ACC:[] IN:{'400730'}, OUT:{'400708', '400724'} IN_STAT:line:[{}, {}, {}, {}], OUT_STAT:line:[{}, {}, {}, {}]>,\n",
      " <400708 ACC:[] IN:{'40066c'}, OUT:{'400874'} IN_STAT:line:[{}, {}, {}, {}], OUT_STAT:line:[{}, {}, {}, {}]>,\n",
      " <400724 ACC:[] IN:{'40066c'}, OUT:{'400730'} IN_STAT:line:[{}, {}, {}, {}], OUT_STAT:line:[{}, {}, {}, {}]>,\n",
      " <400730 ACC:[] IN:{'400630', '400724'}, OUT:{'40073c', '40066c'} IN_STAT:line:[{}, {}, {}, {}], OUT_STAT:line:[{}, {}, {}, {}]>,\n",
      " <40073c ACC:[] IN:{'400730'}, OUT:{'400870'} IN_STAT:line:[{}, {}, {}, {}], OUT_STAT:line:[{}, {}, {}, {}]>,\n",
      " <400740 ACC:[] IN:{'400604'}, OUT:{'40074c', '400754'} IN_STAT:line:[{}, {}, {}, {}], OUT_STAT:line:[{}, {}, {}, {}]>,\n",
      " <40074c ACC:[] IN:{'400740'}, OUT:{'400758'} IN_STAT:line:[{}, {}, {}, {}], OUT_STAT:line:[{}, {}, {}, {}]>,\n",
      " <400754 ACC:[] IN:{'400740'}, OUT:{'400758'} IN_STAT:line:[{}, {}, {}, {}], OUT_STAT:line:[{}, {}, {}, {}]>,\n",
      " <400758 ACC:[] IN:{'40074c', '400754'}, OUT:{'400864'} IN_STAT:line:[{}, {}, {}, {}], OUT_STAT:line:[{}, {}, {}, {}]>,\n",
      " <400770 ACC:[] IN:{'400864'}, OUT:{'4007c0', '40079c'} IN_STAT:line:[{}, {}, {}, {}], OUT_STAT:line:[{}, {}, {}, {}]>,\n",
      " <40079c ACC:[] IN:{'400770'}, OUT:{'400848'} IN_STAT:line:[{}, {}, {}, {}], OUT_STAT:line:[{}, {}, {}, {}]>,\n",
      " <4007c0 ACC:[256] IN:{'400770'}, OUT:{'4007fc'} IN_STAT:line:[{}, {}, {}, {}], OUT_STAT:line:[{256}, {}, {}, {}]>,\n",
      " <4007d4 ACC:[256] IN:{'4007fc'}, OUT:{'4007fc'} IN_STAT:line:[{256}, {}, {}, {}], OUT_STAT:line:[{256}, {}, {}, {}]>,\n",
      " <4007fc ACC:[256] IN:{'4007d4', '4007c0'}, OUT:{'4007d4', '40080c'} IN_STAT:line:[{256}, {}, {}, {}], OUT_STAT:line:[{256}, {}, {}, {}]>,\n",
      " <40080c ACC:[] IN:{'4007fc'}, OUT:{'400848'} IN_STAT:line:[{256}, {}, {}, {}], OUT_STAT:line:[{256}, {}, {}, {}]>,\n",
      " <400848 ACC:[] IN:{'40080c', '40079c'}, OUT:{'400864'} IN_STAT:line:[{}, {}, {}, {}], OUT_STAT:line:[{}, {}, {}, {}]>,\n",
      " <400864 ACC:[] IN:{'400758', '400848'}, OUT:{'400770', '400870'} IN_STAT:line:[{}, {}, {}, {}], OUT_STAT:line:[{}, {}, {}, {}]>,\n",
      " <400870 ACC:[] IN:{'400864', '40073c'}, OUT:{'400874'} IN_STAT:line:[{}, {}, {}, {}], OUT_STAT:line:[{}, {}, {}, {}]>,\n",
      " <400874 ACC:[] IN:{'400708', '400870'}, OUT:set() IN_STAT:line:[{}, {}, {}, {}], OUT_STAT:line:[{}, {}, {}, {}]>]\n"
     ]
    }
   ],
   "source": [
    "''' 上面是初始化 下面进行的是具体分析 注意这里需要entrynode信息 修改FixpointType即可 分别为 Must May Persistent 目前Persistent的输出未知, 继续测试即可; 这里的输出 e.g., 256为 memory block 的tag号, 因为已经指定了set_index 所以只需要tag即可 '''\n",
    "fixpoint = Fixpoint(ty=FixpointType.Must, entry=entrynode, all_nodes=fp_nodes)\n",
    "print(fixpoint.pse_topsort_seq)\n",
    "\n",
    "fixpoint.run()\n",
    "pprint(fp_nodes)"
   ],
   "metadata": {
    "collapsed": false
   }
  },
  {
   "cell_type": "code",
   "execution_count": null,
   "outputs": [],
   "source": [],
   "metadata": {
    "collapsed": false
   }
  }
 ],
 "metadata": {
  "kernelspec": {
   "display_name": "Python 3",
   "language": "python",
   "name": "python3"
  },
  "language_info": {
   "codemirror_mode": {
    "name": "ipython",
    "version": 2
   },
   "file_extension": ".py",
   "mimetype": "text/x-python",
   "name": "python",
   "nbconvert_exporter": "python",
   "pygments_lexer": "ipython2",
   "version": "2.7.6"
  }
 },
 "nbformat": 4,
 "nbformat_minor": 0
}
