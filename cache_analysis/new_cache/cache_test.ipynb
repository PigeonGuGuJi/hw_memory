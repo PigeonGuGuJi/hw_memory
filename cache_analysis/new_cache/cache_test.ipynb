{
 "cells": [
  {
   "cell_type": "code",
   "execution_count": 1,
   "metadata": {
    "collapsed": true
   },
   "outputs": [
    {
     "name": "stdout",
     "output_type": "stream",
     "text": [
      "sys.version_info(major=3, minor=9, micro=12, releaselevel='final', serial=0)\n"
     ]
    }
   ],
   "source": [
    "from cache_analysis.new_cache.fixponit import *\n",
    "\n",
    "import sys\n",
    "print(sys.version_info)"
   ]
  },
  {
   "cell_type": "code",
   "execution_count": 2,
   "outputs": [
    {
     "name": "stdout",
     "output_type": "stream",
     "text": [
      "==== Cache Config ====\n",
      "Set index length: 8\n",
      "Cache offset: 6\n",
      "Cache association: 4\n",
      "\n",
      "==== TCFG ====\n",
      "n0 access ['<MemBlk tag:0x0 idx:0x1d>', '<MemBlk tag:0x0 idx:0x1e>', '<MemBlk tag:0x0 idx:0x1e>', '<MemBlk tag:0x0 idx:0x1e>', '<MemBlk tag:0x0 idx:0x1e>', '<MemBlk tag:0x0 idx:0x1e>', '<MemBlk tag:0x4 idx:0x3f>', '<MemBlk tag:0x0 idx:0x1e>', '<MemBlk tag:0x0 idx:0x1e>', '<MemBlk tag:0x4 idx:0x3f>', '<MemBlk tag:0x0 idx:0x1e>', '<MemBlk tag:0x0 idx:0x1e>', '<MemBlk tag:0x4 idx:0x3f>', '<MemBlk tag:0x0 idx:0x1e>', '<MemBlk tag:0x4 idx:0x40>', '<MemBlk tag:0x0 idx:0x1e>', '<MemBlk tag:0x0 idx:0x1e>', '<MemBlk tag:0x4 idx:0x3f>', '<MemBlk tag:0x0 idx:0x1e>'] incoming [] outgoing ['n3']\n",
      "n1 access ['<MemBlk tag:0x0 idx:0x1e>', '<MemBlk tag:0x0 idx:0x1e>', '<MemBlk tag:0x4 idx:0x3f>', '<MemBlk tag:0x0 idx:0x1e>', '<MemBlk tag:0x0 idx:0x1f>', '<MemBlk tag:0x5 idx:0xbd>', '<MemBlk tag:0x0 idx:0x1f>', '<MemBlk tag:0x0 idx:0x1f>', '<MemBlk tag:0x0 idx:0x1f>'] incoming ['n13'] outgoing ['n14']\n",
      "n2 access ['<MemBlk tag:0x0 idx:0x1f>', '<MemBlk tag:0x0 idx:0x1f>', '<MemBlk tag:0x0 idx:0x1f>'] incoming ['n14'] outgoing []\n",
      "n3 access ['<MemBlk tag:0x0 idx:0x1f>', '<MemBlk tag:0x0 idx:0x1f>', '<MemBlk tag:0x0 idx:0x1f>', '<MemBlk tag:0x0 idx:0x1f>', '<MemBlk tag:0x0 idx:0x1f>'] incoming ['n0'] outgoing ['n12']\n",
      "n4 access ['<MemBlk tag:0x0 idx:0x1f>', '<MemBlk tag:0x0 idx:0x1f>'] incoming ['n12'] outgoing ['n10']\n",
      "n5 access ['<MemBlk tag:0x0 idx:0x1f>', '<MemBlk tag:0x0 idx:0x1f>'] incoming ['n10'] outgoing ['n8']\n",
      "n6 access ['<MemBlk tag:0x0 idx:0x20>', '<MemBlk tag:0x0 idx:0x20>', '<MemBlk tag:0x0 idx:0x20>', '<MemBlk tag:0x0 idx:0x20>', '<MemBlk tag:0x0 idx:0x20>'] incoming ['n8'] outgoing ['n15']\n",
      "n7 access ['<MemBlk tag:0x0 idx:0x20>', '<MemBlk tag:0x0 idx:0x20>', '<MemBlk tag:0x0 idx:0x20>'] incoming ['n15'] outgoing ['n8']\n",
      "n8 access ['<MemBlk tag:0x0 idx:0x20>', '<MemBlk tag:0x0 idx:0x20>', '<MemBlk tag:0x0 idx:0x20>'] incoming ['n5', 'n7'] outgoing ['n6', 'n9']\n",
      "n9 access ['<MemBlk tag:0x0 idx:0x20>', '<MemBlk tag:0x0 idx:0x20>', '<MemBlk tag:0x0 idx:0x20>'] incoming ['n8'] outgoing ['n10']\n",
      "n10 access ['<MemBlk tag:0x0 idx:0x20>', '<MemBlk tag:0x0 idx:0x20>', '<MemBlk tag:0x0 idx:0x21>'] incoming ['n4', 'n9'] outgoing ['n5', 'n11']\n",
      "n11 access ['<MemBlk tag:0x0 idx:0x21>', '<MemBlk tag:0x0 idx:0x21>', '<MemBlk tag:0x0 idx:0x21>'] incoming ['n10'] outgoing ['n12']\n",
      "n12 access ['<MemBlk tag:0x0 idx:0x21>', '<MemBlk tag:0x0 idx:0x21>', '<MemBlk tag:0x0 idx:0x21>'] incoming ['n3', 'n11'] outgoing ['n4', 'n13']\n",
      "n13 access ['<MemBlk tag:0x0 idx:0x21>', '<MemBlk tag:0x0 idx:0x21>', '<MemBlk tag:0x0 idx:0x21>', '<MemBlk tag:0x0 idx:0x21>'] incoming ['n12'] outgoing ['n1']\n",
      "n14 access ['<MemBlk tag:0x0 idx:0x19>', '<MemBlk tag:0x0 idx:0x19>', '<MemBlk tag:0x4 idx:0x3e>', '<MemBlk tag:0x0 idx:0x19>', '<MemBlk tag:0x0 idx:0x19>'] incoming ['n1'] outgoing ['n2']\n",
      "n15 access ['<MemBlk tag:0x0 idx:0x22>', '<MemBlk tag:0x0 idx:0x22>', '<MemBlk tag:0x0 idx:0x22>', '<MemBlk tag:0x0 idx:0x22>', '<MemBlk tag:0x0 idx:0x22>', '<MemBlk tag:0x0 idx:0x23>', '<MemBlk tag:0x0 idx:0x23>', '<MemBlk tag:0x0 idx:0x23>', '<MemBlk tag:0x0 idx:0x23>', '<MemBlk tag:0x0 idx:0x23>', '<MemBlk tag:0x0 idx:0x23>', '<MemBlk tag:0x0 idx:0x23>', '<MemBlk tag:0x0 idx:0x23>', '<MemBlk tag:0x0 idx:0x23>', '<MemBlk tag:0x0 idx:0x23>', '<MemBlk tag:0x0 idx:0x23>', '<MemBlk tag:0x0 idx:0x23>', '<MemBlk tag:0x0 idx:0x23>', '<MemBlk tag:0x0 idx:0x23>', '<MemBlk tag:0x0 idx:0x23>', '<MemBlk tag:0x0 idx:0x23>', '<MemBlk tag:0x0 idx:0x24>', '<MemBlk tag:0x0 idx:0x24>', '<MemBlk tag:0x0 idx:0x24>', '<MemBlk tag:0x0 idx:0x24>', '<MemBlk tag:0x4 idx:0x3f>', '<MemBlk tag:0x0 idx:0x24>', '<MemBlk tag:0x0 idx:0x24>', '<MemBlk tag:0x0 idx:0x24>', '<MemBlk tag:0x4 idx:0x0>', '<MemBlk tag:0x4 idx:0x1>', '<MemBlk tag:0x4 idx:0x2>', '<MemBlk tag:0x4 idx:0x3>', '<MemBlk tag:0x4 idx:0x4>', '<MemBlk tag:0x4 idx:0x5>', '<MemBlk tag:0x4 idx:0x6>', '<MemBlk tag:0x4 idx:0x7>', '<MemBlk tag:0x4 idx:0x8>', '<MemBlk tag:0x4 idx:0x9>', '<MemBlk tag:0x4 idx:0xa>', '<MemBlk tag:0x4 idx:0xb>', '<MemBlk tag:0x4 idx:0xc>', '<MemBlk tag:0x4 idx:0xd>', '<MemBlk tag:0x4 idx:0xe>', '<MemBlk tag:0x4 idx:0xf>', '<MemBlk tag:0x4 idx:0x10>', '<MemBlk tag:0x4 idx:0x11>', '<MemBlk tag:0x4 idx:0x12>', '<MemBlk tag:0x4 idx:0x13>', '<MemBlk tag:0x4 idx:0x14>', '<MemBlk tag:0x4 idx:0x15>', '<MemBlk tag:0x4 idx:0x16>', '<MemBlk tag:0x4 idx:0x17>', '<MemBlk tag:0x4 idx:0x18>', '<MemBlk tag:0x4 idx:0x19>', '<MemBlk tag:0x4 idx:0x1a>', '<MemBlk tag:0x4 idx:0x1b>', '<MemBlk tag:0x4 idx:0x1c>', '<MemBlk tag:0x4 idx:0x1d>', '<MemBlk tag:0x4 idx:0x1e>', '<MemBlk tag:0x4 idx:0x1f>', '<MemBlk tag:0x4 idx:0x20>', '<MemBlk tag:0x4 idx:0x21>', '<MemBlk tag:0x4 idx:0x22>', '<MemBlk tag:0x4 idx:0x23>', '<MemBlk tag:0x4 idx:0x24>', '<MemBlk tag:0x4 idx:0x25>', '<MemBlk tag:0x4 idx:0x26>', '<MemBlk tag:0x4 idx:0x27>', '<MemBlk tag:0x4 idx:0x28>', '<MemBlk tag:0x4 idx:0x29>', '<MemBlk tag:0x4 idx:0x2a>', '<MemBlk tag:0x4 idx:0x2b>', '<MemBlk tag:0x4 idx:0x2c>', '<MemBlk tag:0x4 idx:0x2d>', '<MemBlk tag:0x4 idx:0x2e>', '<MemBlk tag:0x4 idx:0x2f>', '<MemBlk tag:0x4 idx:0x30>', '<MemBlk tag:0x4 idx:0x31>', '<MemBlk tag:0x4 idx:0x32>', '<MemBlk tag:0x4 idx:0x33>', '<MemBlk tag:0x4 idx:0x34>', '<MemBlk tag:0x4 idx:0x35>', '<MemBlk tag:0x4 idx:0x36>', '<MemBlk tag:0x4 idx:0x37>', '<MemBlk tag:0x4 idx:0x38>', '<MemBlk tag:0x4 idx:0x39>', '<MemBlk tag:0x4 idx:0x3a>', '<MemBlk tag:0x4 idx:0x3b>', '<MemBlk tag:0x4 idx:0x3c>', '<MemBlk tag:0x4 idx:0x3d>', '<MemBlk tag:0x4 idx:0x3e>', '<MemBlk tag:0x4 idx:0x3f>', '<MemBlk tag:0x4 idx:0x40>'] incoming ['n6'] outgoing ['n7']\n",
      "n16 access ['<MemBlk tag:0x0 idx:0x24>'] incoming [] outgoing []\n"
     ]
    }
   ],
   "source": [
    "f = r\"D:\\workspace\\Gitdocuments\\hw-memory\\cache_analysis\\new_cache\\input\\cache_information.in\"\n",
    "config, graph, user_kwargs = read_from_file(f)\n",
    "\n",
    "print(\"==== Cache Config ====\")\n",
    "print(\"Set index length:\", config.set_index_len)\n",
    "print(\"Cache offset:\", config.offset_len)\n",
    "print(\"Cache association:\", config.assoc)\n",
    "\n",
    "print(\"\\n==== TCFG ====\")\n",
    "for node in graph.all_nodes:\n",
    "    print(node.ident,\n",
    "          \"access\", [b.__str__() for b in node.access_blocks],\n",
    "          \"incoming\", [n.ident for n in node.incoming],\n",
    "          \"outgoing\", [n.ident for n in node.outgoing])"
   ],
   "metadata": {
    "collapsed": false
   }
  },
  {
   "cell_type": "code",
   "execution_count": 3,
   "outputs": [
    {
     "data": {
      "text/plain": "True"
     },
     "execution_count": 3,
     "metadata": {},
     "output_type": "execute_result"
    }
   ],
   "source": [
    "graph_must, graph_may, graph_pers = deepcopy(graph), deepcopy(graph), deepcopy(graph)\n",
    "\n",
    "fixpoint(config, graph_must, 'must', **user_kwargs)\n",
    "fixpoint(config, graph_may, 'may', **user_kwargs)\n",
    "fixpoint(config, graph_pers, 'persistent', **user_kwargs)"
   ],
   "metadata": {
    "collapsed": false
   }
  },
  {
   "cell_type": "code",
   "execution_count": 4,
   "outputs": [
    {
     "name": "stdout",
     "output_type": "stream",
     "text": [
      "(2048, 2052)\n",
      "<MemBlk tag:0x0 idx:0x20> True True True\n",
      "(2052, 2056)\n",
      "<MemBlk tag:0x0 idx:0x20> True True True\n",
      "(2056, 2060)\n",
      "<MemBlk tag:0x0 idx:0x20> True True True\n",
      "(2060, 2064)\n",
      "<MemBlk tag:0x0 idx:0x20> True True True\n",
      "(2064, 2068)\n",
      "<MemBlk tag:0x0 idx:0x20> True True True\n",
      "(2068, 2072)\n",
      "<MemBlk tag:0x0 idx:0x20> True True True\n",
      "(2072, 2076)\n",
      "<MemBlk tag:0x0 idx:0x20> True True True\n",
      "(2076, 2080)\n",
      "<MemBlk tag:0x0 idx:0x20> True True True\n",
      "(2080, 2084)\n",
      "<MemBlk tag:0x0 idx:0x20> True True True\n",
      "(2084, 2088)\n",
      "<MemBlk tag:0x0 idx:0x20> True True True\n",
      "(2088, 2092)\n",
      "<MemBlk tag:0x0 idx:0x20> True True True\n",
      "(2220, 2224)\n",
      "<MemBlk tag:0x0 idx:0x22> False True True\n",
      "(2224, 2228)\n",
      "<MemBlk tag:0x0 idx:0x22> True True True\n",
      "(2228, 2232)\n",
      "<MemBlk tag:0x0 idx:0x22> True True True\n",
      "(2232, 2236)\n",
      "<MemBlk tag:0x0 idx:0x22> True True True\n",
      "(2236, 2240)\n",
      "<MemBlk tag:0x0 idx:0x22> True True True\n",
      "(2240, 2244)\n",
      "<MemBlk tag:0x0 idx:0x23> False True True\n",
      "(2244, 2248)\n",
      "<MemBlk tag:0x0 idx:0x23> True True True\n",
      "(2248, 2252)\n",
      "<MemBlk tag:0x0 idx:0x23> True True True\n",
      "(2252, 2256)\n",
      "<MemBlk tag:0x0 idx:0x23> True True True\n",
      "(2256, 2260)\n",
      "<MemBlk tag:0x0 idx:0x23> True True True\n",
      "(2260, 2264)\n",
      "<MemBlk tag:0x0 idx:0x23> True True True\n",
      "(2264, 2268)\n",
      "<MemBlk tag:0x0 idx:0x23> True True True\n",
      "(2268, 2272)\n",
      "<MemBlk tag:0x0 idx:0x23> True True True\n",
      "(2272, 2276)\n",
      "<MemBlk tag:0x0 idx:0x23> True True True\n",
      "(2276, 2280)\n",
      "<MemBlk tag:0x0 idx:0x23> True True True\n",
      "(2280, 2284)\n",
      "<MemBlk tag:0x0 idx:0x23> True True True\n",
      "(2284, 2288)\n",
      "<MemBlk tag:0x0 idx:0x23> True True True\n",
      "(2288, 2292)\n",
      "<MemBlk tag:0x0 idx:0x23> True True True\n",
      "(2292, 2296)\n",
      "<MemBlk tag:0x0 idx:0x23> True True True\n",
      "(2296, 2300)\n",
      "<MemBlk tag:0x0 idx:0x23> True True True\n",
      "(2300, 2304)\n",
      "<MemBlk tag:0x0 idx:0x23> True True True\n",
      "(2304, 2308)\n",
      "<MemBlk tag:0x0 idx:0x24> False True True\n",
      "(2308, 2312)\n",
      "<MemBlk tag:0x0 idx:0x24> True True True\n",
      "(2312, 2316)\n",
      "<MemBlk tag:0x0 idx:0x24> True True True\n",
      "(2316, 2320)\n",
      "<MemBlk tag:0x0 idx:0x24> True True True\n",
      "(69624, 69628)\n",
      "<MemBlk tag:0x4 idx:0x3f> False True True\n",
      "(2320, 2324)\n",
      "<MemBlk tag:0x0 idx:0x24> True True True\n",
      "(2324, 2328)\n",
      "<MemBlk tag:0x0 idx:0x24> True True True\n",
      "(2328, 2332)\n",
      "<MemBlk tag:0x0 idx:0x24> True True True\n",
      "(65536, 69636)\n",
      "<MemBlk tag:0x4 idx:0x0> False True True\n",
      "<MemBlk tag:0x4 idx:0x1> False True True\n",
      "<MemBlk tag:0x4 idx:0x2> False True True\n",
      "<MemBlk tag:0x4 idx:0x3> False True True\n",
      "<MemBlk tag:0x4 idx:0x4> False True True\n",
      "<MemBlk tag:0x4 idx:0x5> False True True\n",
      "<MemBlk tag:0x4 idx:0x6> False True True\n",
      "<MemBlk tag:0x4 idx:0x7> False True True\n",
      "<MemBlk tag:0x4 idx:0x8> False True True\n",
      "<MemBlk tag:0x4 idx:0x9> False True True\n",
      "<MemBlk tag:0x4 idx:0xa> False True True\n",
      "<MemBlk tag:0x4 idx:0xb> False True True\n",
      "<MemBlk tag:0x4 idx:0xc> False True True\n",
      "<MemBlk tag:0x4 idx:0xd> False True True\n",
      "<MemBlk tag:0x4 idx:0xe> False True True\n",
      "<MemBlk tag:0x4 idx:0xf> False True True\n",
      "<MemBlk tag:0x4 idx:0x10> False True True\n",
      "<MemBlk tag:0x4 idx:0x11> False True True\n",
      "<MemBlk tag:0x4 idx:0x12> False True True\n",
      "<MemBlk tag:0x4 idx:0x13> False True True\n",
      "<MemBlk tag:0x4 idx:0x14> False True True\n",
      "<MemBlk tag:0x4 idx:0x15> False True True\n",
      "<MemBlk tag:0x4 idx:0x16> False True True\n",
      "<MemBlk tag:0x4 idx:0x17> False True True\n",
      "<MemBlk tag:0x4 idx:0x18> False True True\n",
      "<MemBlk tag:0x4 idx:0x19> False True True\n",
      "<MemBlk tag:0x4 idx:0x1a> False True True\n",
      "<MemBlk tag:0x4 idx:0x1b> False True True\n",
      "<MemBlk tag:0x4 idx:0x1c> False True True\n",
      "<MemBlk tag:0x4 idx:0x1d> False True True\n",
      "<MemBlk tag:0x4 idx:0x1e> False True True\n",
      "<MemBlk tag:0x4 idx:0x1f> False True True\n",
      "<MemBlk tag:0x4 idx:0x20> False True True\n",
      "<MemBlk tag:0x4 idx:0x21> False True True\n",
      "<MemBlk tag:0x4 idx:0x22> False True True\n",
      "<MemBlk tag:0x4 idx:0x23> False True True\n",
      "<MemBlk tag:0x4 idx:0x24> False True True\n",
      "<MemBlk tag:0x4 idx:0x25> False True True\n",
      "<MemBlk tag:0x4 idx:0x26> False True True\n",
      "<MemBlk tag:0x4 idx:0x27> False True True\n",
      "<MemBlk tag:0x4 idx:0x28> False True True\n",
      "<MemBlk tag:0x4 idx:0x29> False True True\n",
      "<MemBlk tag:0x4 idx:0x2a> False True True\n",
      "<MemBlk tag:0x4 idx:0x2b> False True True\n",
      "<MemBlk tag:0x4 idx:0x2c> False True True\n",
      "<MemBlk tag:0x4 idx:0x2d> False True True\n",
      "<MemBlk tag:0x4 idx:0x2e> False True True\n",
      "<MemBlk tag:0x4 idx:0x2f> False True True\n",
      "<MemBlk tag:0x4 idx:0x30> False True True\n",
      "<MemBlk tag:0x4 idx:0x31> False True True\n",
      "<MemBlk tag:0x4 idx:0x32> False True True\n",
      "<MemBlk tag:0x4 idx:0x33> False True True\n",
      "<MemBlk tag:0x4 idx:0x34> False True True\n",
      "<MemBlk tag:0x4 idx:0x35> False True True\n",
      "<MemBlk tag:0x4 idx:0x36> False True True\n",
      "<MemBlk tag:0x4 idx:0x37> False True True\n",
      "<MemBlk tag:0x4 idx:0x38> False True True\n",
      "<MemBlk tag:0x4 idx:0x39> False True True\n",
      "<MemBlk tag:0x4 idx:0x3a> False True True\n",
      "<MemBlk tag:0x4 idx:0x3b> False True True\n",
      "<MemBlk tag:0x4 idx:0x3c> False True True\n",
      "<MemBlk tag:0x4 idx:0x3d> False True True\n",
      "<MemBlk tag:0x4 idx:0x3e> False True True\n",
      "<MemBlk tag:0x4 idx:0x3f> True True True\n",
      "<MemBlk tag:0x4 idx:0x40> False True True\n"
     ]
    }
   ],
   "source": [
    "considered_nodes = {'n8', 'n6', 'n15', 'n7'}\n",
    "\n",
    "mb_must_hit = list()\n",
    "mb_persistent = list()\n",
    "mb_must_miss = list()\n",
    "mb_uc = list()\n",
    "\n",
    "for n_must, n_may, n_pers in zip(graph_must.all_nodes, graph_may.all_nodes, graph_pers.all_nodes):\n",
    "    if n_must.ident not in considered_nodes:\n",
    "        continue\n",
    "    for rlt_must, rlt_may, rlt_pers in zip(n_must.analysis_result(), n_may.analysis_result(), n_pers.analysis_result()):\n",
    "        print(rlt_must[0])\n",
    "        for mb, must_f, may_f, pers_f in zip(rlt_must[1], rlt_must[2], rlt_may[2], rlt_pers[2]):\n",
    "            print(mb, must_f, may_f, pers_f)\n",
    "            if must_f:\n",
    "                mb_must_hit.append(mb)\n",
    "            else:\n",
    "                if pers_f:\n",
    "                    mb_persistent.append(mb)\n",
    "                else:\n",
    "                    if not may_f:\n",
    "                        mb_must_miss.append(mb)\n",
    "                    else:\n",
    "                        mb_uc.append(mb)\n"
   ],
   "metadata": {
    "collapsed": false
   }
  },
  {
   "cell_type": "code",
   "execution_count": 7,
   "outputs": [
    {
     "name": "stdout",
     "output_type": "stream",
     "text": [
      "mb_must_hit:  [<MemBlk tag:0x0 idx:0x20>, <MemBlk tag:0x0 idx:0x20>, <MemBlk tag:0x0 idx:0x20>, <MemBlk tag:0x0 idx:0x20>, <MemBlk tag:0x0 idx:0x20>, <MemBlk tag:0x0 idx:0x20>, <MemBlk tag:0x0 idx:0x20>, <MemBlk tag:0x0 idx:0x20>, <MemBlk tag:0x0 idx:0x20>, <MemBlk tag:0x0 idx:0x20>, <MemBlk tag:0x0 idx:0x20>, <MemBlk tag:0x0 idx:0x22>, <MemBlk tag:0x0 idx:0x22>, <MemBlk tag:0x0 idx:0x22>, <MemBlk tag:0x0 idx:0x22>, <MemBlk tag:0x0 idx:0x23>, <MemBlk tag:0x0 idx:0x23>, <MemBlk tag:0x0 idx:0x23>, <MemBlk tag:0x0 idx:0x23>, <MemBlk tag:0x0 idx:0x23>, <MemBlk tag:0x0 idx:0x23>, <MemBlk tag:0x0 idx:0x23>, <MemBlk tag:0x0 idx:0x23>, <MemBlk tag:0x0 idx:0x23>, <MemBlk tag:0x0 idx:0x23>, <MemBlk tag:0x0 idx:0x23>, <MemBlk tag:0x0 idx:0x23>, <MemBlk tag:0x0 idx:0x23>, <MemBlk tag:0x0 idx:0x23>, <MemBlk tag:0x0 idx:0x23>, <MemBlk tag:0x0 idx:0x24>, <MemBlk tag:0x0 idx:0x24>, <MemBlk tag:0x0 idx:0x24>, <MemBlk tag:0x0 idx:0x24>, <MemBlk tag:0x0 idx:0x24>, <MemBlk tag:0x0 idx:0x24>, <MemBlk tag:0x4 idx:0x3f>]\n",
      "mb_persistent:  [<MemBlk tag:0x0 idx:0x22>, <MemBlk tag:0x0 idx:0x23>, <MemBlk tag:0x0 idx:0x24>, <MemBlk tag:0x4 idx:0x3f>, <MemBlk tag:0x4 idx:0x0>, <MemBlk tag:0x4 idx:0x1>, <MemBlk tag:0x4 idx:0x2>, <MemBlk tag:0x4 idx:0x3>, <MemBlk tag:0x4 idx:0x4>, <MemBlk tag:0x4 idx:0x5>, <MemBlk tag:0x4 idx:0x6>, <MemBlk tag:0x4 idx:0x7>, <MemBlk tag:0x4 idx:0x8>, <MemBlk tag:0x4 idx:0x9>, <MemBlk tag:0x4 idx:0xa>, <MemBlk tag:0x4 idx:0xb>, <MemBlk tag:0x4 idx:0xc>, <MemBlk tag:0x4 idx:0xd>, <MemBlk tag:0x4 idx:0xe>, <MemBlk tag:0x4 idx:0xf>, <MemBlk tag:0x4 idx:0x10>, <MemBlk tag:0x4 idx:0x11>, <MemBlk tag:0x4 idx:0x12>, <MemBlk tag:0x4 idx:0x13>, <MemBlk tag:0x4 idx:0x14>, <MemBlk tag:0x4 idx:0x15>, <MemBlk tag:0x4 idx:0x16>, <MemBlk tag:0x4 idx:0x17>, <MemBlk tag:0x4 idx:0x18>, <MemBlk tag:0x4 idx:0x19>, <MemBlk tag:0x4 idx:0x1a>, <MemBlk tag:0x4 idx:0x1b>, <MemBlk tag:0x4 idx:0x1c>, <MemBlk tag:0x4 idx:0x1d>, <MemBlk tag:0x4 idx:0x1e>, <MemBlk tag:0x4 idx:0x1f>, <MemBlk tag:0x4 idx:0x20>, <MemBlk tag:0x4 idx:0x21>, <MemBlk tag:0x4 idx:0x22>, <MemBlk tag:0x4 idx:0x23>, <MemBlk tag:0x4 idx:0x24>, <MemBlk tag:0x4 idx:0x25>, <MemBlk tag:0x4 idx:0x26>, <MemBlk tag:0x4 idx:0x27>, <MemBlk tag:0x4 idx:0x28>, <MemBlk tag:0x4 idx:0x29>, <MemBlk tag:0x4 idx:0x2a>, <MemBlk tag:0x4 idx:0x2b>, <MemBlk tag:0x4 idx:0x2c>, <MemBlk tag:0x4 idx:0x2d>, <MemBlk tag:0x4 idx:0x2e>, <MemBlk tag:0x4 idx:0x2f>, <MemBlk tag:0x4 idx:0x30>, <MemBlk tag:0x4 idx:0x31>, <MemBlk tag:0x4 idx:0x32>, <MemBlk tag:0x4 idx:0x33>, <MemBlk tag:0x4 idx:0x34>, <MemBlk tag:0x4 idx:0x35>, <MemBlk tag:0x4 idx:0x36>, <MemBlk tag:0x4 idx:0x37>, <MemBlk tag:0x4 idx:0x38>, <MemBlk tag:0x4 idx:0x39>, <MemBlk tag:0x4 idx:0x3a>, <MemBlk tag:0x4 idx:0x3b>, <MemBlk tag:0x4 idx:0x3c>, <MemBlk tag:0x4 idx:0x3d>, <MemBlk tag:0x4 idx:0x3e>, <MemBlk tag:0x4 idx:0x40>]\n",
      "mb_must_miss:  []\n",
      "mb_uc:  []\n"
     ]
    }
   ],
   "source": [
    "print(\"mb_must_hit: \", mb_must_hit)\n",
    "print(\"mb_persistent: \", mb_persistent)\n",
    "print(\"mb_must_miss: \", mb_must_miss)\n",
    "print(\"mb_uc: \", mb_uc)"
   ],
   "metadata": {
    "collapsed": false
   }
  },
  {
   "cell_type": "code",
   "execution_count": 8,
   "outputs": [
    {
     "name": "stdout",
     "output_type": "stream",
     "text": [
      "mb_must_hit:  []\n",
      "mb_persistent:  []\n",
      "mb_must_miss:  []\n",
      "mb_uc:  []\n"
     ]
    }
   ],
   "source": [
    "mb_must_hit = list()\n",
    "mb_persistent = list()\n",
    "mb_must_miss = list()\n",
    "mb_uc = list()\n",
    "print(\"mb_must_hit: \", mb_must_hit)\n",
    "print(\"mb_persistent: \", mb_persistent)\n",
    "print(\"mb_must_miss: \", mb_must_miss)\n",
    "print(\"mb_uc: \", mb_uc)"
   ],
   "metadata": {
    "collapsed": false
   }
  },
  {
   "cell_type": "code",
   "execution_count": 22,
   "outputs": [
    {
     "name": "stdout",
     "output_type": "stream",
     "text": [
      "(0, 4096) mb_must_hit:  [<MemBlk tag:0x0 idx:0x20>, <MemBlk tag:0x0 idx:0x20>, <MemBlk tag:0x0 idx:0x20>, <MemBlk tag:0x0 idx:0x20>, <MemBlk tag:0x0 idx:0x20>, <MemBlk tag:0x0 idx:0x20>, <MemBlk tag:0x0 idx:0x20>, <MemBlk tag:0x0 idx:0x20>, <MemBlk tag:0x0 idx:0x20>, <MemBlk tag:0x0 idx:0x20>, <MemBlk tag:0x0 idx:0x20>, <MemBlk tag:0x0 idx:0x22>, <MemBlk tag:0x0 idx:0x22>, <MemBlk tag:0x0 idx:0x22>, <MemBlk tag:0x0 idx:0x22>, <MemBlk tag:0x0 idx:0x23>, <MemBlk tag:0x0 idx:0x23>, <MemBlk tag:0x0 idx:0x23>, <MemBlk tag:0x0 idx:0x23>, <MemBlk tag:0x0 idx:0x23>, <MemBlk tag:0x0 idx:0x23>, <MemBlk tag:0x0 idx:0x23>, <MemBlk tag:0x0 idx:0x23>, <MemBlk tag:0x0 idx:0x23>, <MemBlk tag:0x0 idx:0x23>, <MemBlk tag:0x0 idx:0x23>, <MemBlk tag:0x0 idx:0x23>, <MemBlk tag:0x0 idx:0x23>, <MemBlk tag:0x0 idx:0x23>, <MemBlk tag:0x0 idx:0x23>, <MemBlk tag:0x0 idx:0x24>, <MemBlk tag:0x0 idx:0x24>, <MemBlk tag:0x0 idx:0x24>, <MemBlk tag:0x0 idx:0x24>, <MemBlk tag:0x0 idx:0x24>, <MemBlk tag:0x0 idx:0x24>]\n",
      "(0, 4096) mb_persistent:  [<MemBlk tag:0x0 idx:0x22>, <MemBlk tag:0x0 idx:0x23>, <MemBlk tag:0x0 idx:0x24>]\n",
      "(0, 4096) mb_must_miss:  []\n",
      "(0, 4096) mb_uc:  []\n",
      "(65536, 69632) mb_must_hit:  [<MemBlk tag:0x4 idx:0x3f>]\n",
      "(65536, 69632) mb_persistent:  [<MemBlk tag:0x4 idx:0x3f>, <MemBlk tag:0x4 idx:0x0>, <MemBlk tag:0x4 idx:0x1>, <MemBlk tag:0x4 idx:0x2>, <MemBlk tag:0x4 idx:0x3>, <MemBlk tag:0x4 idx:0x4>, <MemBlk tag:0x4 idx:0x5>, <MemBlk tag:0x4 idx:0x6>, <MemBlk tag:0x4 idx:0x7>, <MemBlk tag:0x4 idx:0x8>, <MemBlk tag:0x4 idx:0x9>, <MemBlk tag:0x4 idx:0xa>, <MemBlk tag:0x4 idx:0xb>, <MemBlk tag:0x4 idx:0xc>, <MemBlk tag:0x4 idx:0xd>, <MemBlk tag:0x4 idx:0xe>, <MemBlk tag:0x4 idx:0xf>, <MemBlk tag:0x4 idx:0x10>, <MemBlk tag:0x4 idx:0x11>, <MemBlk tag:0x4 idx:0x12>, <MemBlk tag:0x4 idx:0x13>, <MemBlk tag:0x4 idx:0x14>, <MemBlk tag:0x4 idx:0x15>, <MemBlk tag:0x4 idx:0x16>, <MemBlk tag:0x4 idx:0x17>, <MemBlk tag:0x4 idx:0x18>, <MemBlk tag:0x4 idx:0x19>, <MemBlk tag:0x4 idx:0x1a>, <MemBlk tag:0x4 idx:0x1b>, <MemBlk tag:0x4 idx:0x1c>, <MemBlk tag:0x4 idx:0x1d>, <MemBlk tag:0x4 idx:0x1e>, <MemBlk tag:0x4 idx:0x1f>, <MemBlk tag:0x4 idx:0x20>, <MemBlk tag:0x4 idx:0x21>, <MemBlk tag:0x4 idx:0x22>, <MemBlk tag:0x4 idx:0x23>, <MemBlk tag:0x4 idx:0x24>, <MemBlk tag:0x4 idx:0x25>, <MemBlk tag:0x4 idx:0x26>, <MemBlk tag:0x4 idx:0x27>, <MemBlk tag:0x4 idx:0x28>, <MemBlk tag:0x4 idx:0x29>, <MemBlk tag:0x4 idx:0x2a>, <MemBlk tag:0x4 idx:0x2b>, <MemBlk tag:0x4 idx:0x2c>, <MemBlk tag:0x4 idx:0x2d>, <MemBlk tag:0x4 idx:0x2e>, <MemBlk tag:0x4 idx:0x2f>, <MemBlk tag:0x4 idx:0x30>, <MemBlk tag:0x4 idx:0x31>, <MemBlk tag:0x4 idx:0x32>, <MemBlk tag:0x4 idx:0x33>, <MemBlk tag:0x4 idx:0x34>, <MemBlk tag:0x4 idx:0x35>, <MemBlk tag:0x4 idx:0x36>, <MemBlk tag:0x4 idx:0x37>, <MemBlk tag:0x4 idx:0x38>, <MemBlk tag:0x4 idx:0x39>, <MemBlk tag:0x4 idx:0x3a>, <MemBlk tag:0x4 idx:0x3b>, <MemBlk tag:0x4 idx:0x3c>, <MemBlk tag:0x4 idx:0x3d>, <MemBlk tag:0x4 idx:0x3e>, <MemBlk tag:0x4 idx:0x40>]\n",
      "(65536, 69632) mb_must_miss:  []\n",
      "(65536, 69632) mb_uc:  []\n"
     ]
    }
   ],
   "source": [
    "considered_nodes = {'n8', 'n6', 'n15', 'n7'}\n",
    "\n",
    "mb_must_hit = list()\n",
    "mb_persistent = list()\n",
    "mb_must_miss = list()\n",
    "mb_uc = list()\n",
    "page_range = ((0, 4096), (65536, 69632))\n",
    "for tup in page_range:\n",
    "    for n_must, n_may, n_pers in zip(graph_must.all_nodes, graph_may.all_nodes, graph_pers.all_nodes):\n",
    "        if n_must.ident not in considered_nodes:\n",
    "            continue\n",
    "        for rlt_must, rlt_may, rlt_pers in zip(n_must.analysis_result(), n_may.analysis_result(), n_pers.analysis_result()):\n",
    "            # print(rlt_must[0])\n",
    "            for mb, must_f, may_f, pers_f in zip(rlt_must[1], rlt_must[2], rlt_may[2], rlt_pers[2]):\n",
    "            # print(mb, must_f, may_f, pers_f)\n",
    "                if tup[0] <= config.block2address(mb) <= tup[1]:\n",
    "                    if must_f:\n",
    "                        mb_must_hit.append(mb)\n",
    "                    else:\n",
    "                        if pers_f:\n",
    "                            mb_persistent.append(mb)\n",
    "                        else:\n",
    "                            if not may_f:\n",
    "                                mb_must_miss.append(mb)\n",
    "                            else:\n",
    "                                mb_uc.append(mb)\n",
    "\n",
    "    print(tup, \"mb_must_hit: \", mb_must_hit)\n",
    "    print(tup, \"mb_persistent: \", mb_persistent)\n",
    "    print(tup, \"mb_must_miss: \", mb_must_miss)\n",
    "    print(tup, \"mb_uc: \", mb_uc)\n",
    "    mb_must_hit = list()\n",
    "    mb_persistent = list()\n",
    "    mb_must_miss = list()\n",
    "    mb_uc = list()\n"
   ],
   "metadata": {
    "collapsed": false
   }
  },
  {
   "cell_type": "code",
   "execution_count": null,
   "outputs": [],
   "source": [],
   "metadata": {
    "collapsed": false,
    "pycharm": {
     "is_executing": true
    }
   }
  },
  {
   "cell_type": "code",
   "execution_count": 22,
   "outputs": [],
   "source": [],
   "metadata": {
    "collapsed": false
   }
  }
 ],
 "metadata": {
  "kernelspec": {
   "display_name": "Python 3",
   "language": "python",
   "name": "python3"
  },
  "language_info": {
   "codemirror_mode": {
    "name": "ipython",
    "version": 2
   },
   "file_extension": ".py",
   "mimetype": "text/x-python",
   "name": "python",
   "nbconvert_exporter": "python",
   "pygments_lexer": "ipython2",
   "version": "2.7.6"
  }
 },
 "nbformat": 4,
 "nbformat_minor": 0
}
