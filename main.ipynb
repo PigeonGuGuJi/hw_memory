{
 "cells": [
  {
   "cell_type": "code",
   "execution_count": 1,
   "metadata": {
    "collapsed": true
   },
   "outputs": [],
   "source": [
    "ljy_fp = r\"C:\\Users\\13377\\Desktop\\hw-memory-master (1)\\hw-memory-master\\benchmarks\\objdump-D\\-dmanytest.asm\"\n",
    "GuGuJi_fp = r\"/Users/gugujixiao/workspace/project/HWMemory/Code/hw-memory/benchmarks/newlbm.asm\"\n",
    "GuGuJi_oldfp = r\"/Users/gugujixiao/workspace/project/HWMemory/Code/hw-memory/benchmarks/old_benchmark/spec_example/spec2006_470.lbm/lbm_part.asm\"\n",
    "fp = ljy_fp"
   ]
  },
  {
   "cell_type": "code",
   "execution_count": 2,
   "metadata": {
    "collapsed": false
   },
   "outputs": [
    {
     "name": "stdout",
     "output_type": "stream",
     "text": [
      "_init 0000000000400498\n",
      ".plt 00000000004004b0\n",
      "__libc_start_main@plt 00000000004004d0\n",
      "__gmon_start__@plt 00000000004004e0\n",
      "abort@plt 00000000004004f0\n",
      "_start 0000000000400500\n",
      "__wrap_main 0000000000400534\n",
      "_dl_relocate_static_pie 0000000000400540\n",
      "call_weak_fn 0000000000400544\n",
      "deregister_tm_clones 0000000000400560\n",
      "register_tm_clones 0000000000400590\n",
      "__do_global_dtors_aux 00000000004005d0\n",
      "frame_dummy 0000000000400600\n",
      "main 0000000000400604\n",
      "_fini 0000000000400680\n",
      "\n"
     ]
    }
   ],
   "source": [
    "'''读指令, 指令对象化'''\n",
    "from newCFG.cfg import proc_identify\n",
    "from newCFG.isa import Instruction, AddrMode\n",
    "from typing import Tuple\n",
    "from newCFG.read_asm import AsmFileReader, StatementType\n",
    "\n",
    "reader =AsmFileReader(fp)\n",
    "\n",
    "statements = list()\n",
    "temp_stat = list()\n",
    "for s in reader.statements:\n",
    "    s: Tuple[StatementType, tuple]\n",
    "    if s[0] == StatementType.Instruction:\n",
    "        statements.append((s[0], Instruction(s[1])))\n",
    "        temp_stat.append(Instruction(s[1]))\n",
    "    elif s[0] == StatementType.SubProcedure:\n",
    "        statements.append(s)\n",
    "\n",
    "        \n",
    "\n",
    "# for i in temp_stat:\n",
    "#     if i.is_ls:\n",
    "#         if i.ls_handle:\n",
    "#             print(i.tokens,i.ls_reg_target,i.ls_addr_mode,i.ls_addr_offset,i.local_offset)\n",
    "\n",
    "procs = proc_identify(statements)\n",
    "for proc in procs:\n",
    "    print(proc.name, proc.beg_addr.hex_str())\n",
    "    if False and proc.name == 'main':\n",
    "        for inst in proc.instruction:\n",
    "            print(inst.addr.hex_str(), inst.opcode, inst.name, inst.operands, inst.branch_info)\n",
    "print()"
   ]
  },
  {
   "cell_type": "code",
   "execution_count": 3,
   "metadata": {
    "collapsed": false
   },
   "outputs": [
    {
     "data": {
      "text/plain": [
       "'output\\\\procedures.svg'"
      ]
     },
     "execution_count": 3,
     "metadata": {},
     "output_type": "execute_result"
    }
   ],
   "source": [
    "'''分proc'''\n",
    "from graphviz import Digraph\n",
    "from newCFG.cfg import draw_proc, find_cycle, has_cycle, proc_draw_edges\n",
    "\n",
    "proc_draw_edges(procs)\n",
    "\n",
    "is_cycle = has_cycle(procs)\n",
    "if is_cycle:\n",
    "    c = [p.name for p in find_cycle(procs)]\n",
    "    raise RuntimeError(\"Loop between procedures is not allowed: {}.\".format(c))\n",
    "\n",
    "g: Digraph = draw_proc(procs)\n",
    "g.render(filename='procedures', directory='./output', format='svg')"
   ]
  },
  {
   "cell_type": "code",
   "execution_count": 4,
   "metadata": {
    "collapsed": false
   },
   "outputs": [
    {
     "data": {
      "text/plain": [
       "'output\\\\call_graph.svg'"
      ]
     },
     "execution_count": 4,
     "metadata": {},
     "output_type": "execute_result"
    }
   ],
   "source": [
    "'''处理call_graph'''\n",
    "from newCFG.cfg import CallGraph\n",
    "\n",
    "call_graph = CallGraph(procs)\n",
    "\n",
    "g = call_graph.draw_graph()\n",
    "g.render(filename='call_graph', directory='./output', format='svg')"
   ]
  },
  {
   "cell_type": "code",
   "execution_count": 5,
   "metadata": {
    "collapsed": false
   },
   "outputs": [],
   "source": [
    "'''生成TCFG和loop信息'''\n",
    "from newCFG.cfg import TCfg\n",
    "import random\n",
    "\n",
    "tcfg = TCfg(call_graph)\n",
    "tcfg.build_tcfg()\n",
    "\n",
    "tcfg_nodes = tcfg.all_nodes\n",
    "tcfg_edges = tcfg.edges\n",
    "\n",
    "g = tcfg.draw_graph()\n",
    "g.render(filename='tcfg', directory='./output', format='svg')\n",
    "\n",
    "#for node in tcfg_nodes:\n",
    "#    node.set_rw_condition()\n",
    "#    #print(node.name, node.base_proc.name, node.inst_range)\n",
    "#    print(node.name, node.base_proc.name)\n",
    "#    print(\"出边\")\n",
    "#    for i in node.outgoing_edge:\n",
    "#        print(i.dst.name)\n",
    "#    print(\"入边\")\n",
    "#    for i in node.incoming_edge:\n",
    "#        print(i.src.name)\n",
    "#\n",
    "#    print()\n",
    "tcfg.build_loop_hrchy()\n",
    "\n",
    "\n",
    "\n",
    "#for n in tcfg_nodes:\n",
    "#    print(n.name,\"n的值\",n.node_value)\n",
    "        \n",
    "\n",
    "#for e in tcfg_edges:\n",
    "#    print(e.src.name,e.dst.name,e.is_backEdge)\n",
    "\n",
    "\n"
   ]
  },
  {
   "cell_type": "code",
   "execution_count": 6,
   "metadata": {},
   "outputs": [],
   "source": [
    "'''设置node和edge上的的value'''\n",
    "\n",
    "for l in tcfg.loops:\n",
    "    l.back_edge.is_backEdge = True\n",
    "for n in tcfg_nodes:\n",
    "    n.set_rw_data()\n",
    "\n",
    "temp_bool = True\n",
    "\n",
    "while temp_bool:\n",
    "    no_end = False\n",
    "\n",
    "    for n in tcfg_nodes:\n",
    "        n.set_rw_value()\n",
    "        if not n.no_out:\n",
    "            no_end = True\n",
    "        temp_bool = no_end\n",
    "\n",
    "for e in tcfg_edges:\n",
    "    if e.is_backEdge:\n",
    "        e.loop_value = random.randint(0,10)\n",
    "        e.edge_value = 2\n",
    "\n",
    "for e in tcfg_edges:\n",
    "    print(e.src.name,e.dst.name,e.edge_value)"
   ]
  },
  {
   "cell_type": "code",
   "execution_count": 7,
   "metadata": {},
   "outputs": [
    {
     "name": "stdout",
     "output_type": "stream",
     "text": [
      "('40060c', 'b9400000', 'ldr', None, 'w0, [x0]') 4325420\n",
      "('40061c', 'b9000001', 'str', None, 'w1, [x0]') 4325420\n",
      "('400628', 'bd400000', 'ldr', None, 's0, [x0]') 4325416\n",
      "('40064c', 'bd000000', 'str', None, 's0, [x0]') 4325416\n",
      "('400658', 'b9400001', 'ldr', None, 'w1, [x0]') 4325420\n",
      "('400664', 'b9400000', 'ldr', None, 'w0, [x0]') 4325424\n",
      "('400674', 'b9000001', 'str', None, 'w1, [x0]') 4325488\n",
      "('400658', 'b9400001', 'ldr', None, 'w1, [x0]')\n",
      "全局的容错路径为： 13\n",
      "全局的非容错路径为： 15\n"
     ]
    }
   ],
   "source": [
    "'''ls分析和读写特征'''\n",
    "\n",
    "from newCFG.cfg import TCfg\n",
    "from newCFG.loadstore import LSProc\n",
    "from newCFG.rw_condition import RWProc, RWType\n",
    "\n",
    "lsproc = LSProc(tcfg_nodes)\n",
    "\n",
    "lds_table = lsproc.ls_table\n",
    "\n",
    "for i in lds_table:\n",
    "    i.final_addr\n",
    "    i.local_offset\n",
    "\n",
    "for i in lds_table:\n",
    "    print(i.ins.tokens,i.ins.final_addr)\n",
    "\n",
    "rwproc = RWProc(lds_table)\n",
    "\n",
    "Global_Tolerant_value = 0\n",
    "Global_Intolerant_value = 0\n",
    "\n",
    "for rwu in rwproc.rw_table:\n",
    "    #print(rwu.ins.tokens,rwu.find_cycle,rwu.ins.final_addr,rwu.is_torrent)\n",
    "    if rwu.is_torrent == RWType.Global_Tolerant:\n",
    "        Global_Tolerant_value += rwu.find_cycle\n",
    "    elif rwu.is_torrent == RWType.Global_Intolerant:\n",
    "        Global_Intolerant_value += rwu.find_cycle\n",
    "        print(rwu.ins.tokens)\n",
    "\n",
    "print(\"全局的容错路径为：\",Global_Tolerant_value)\n",
    "print(\"全局的非容错路径为：\",Global_Intolerant_value)   "
   ]
  },
  {
   "cell_type": "code",
   "execution_count": 8,
   "metadata": {},
   "outputs": [
    {
     "name": "stdout",
     "output_type": "stream",
     "text": [
      "指令 ('40060c', 'b9400000', 'ldr', None, 'w0, [x0]') 是否是SP False 指令地址 4195852 访存地址 4325420 数据宽度 32 AddrMode.Base\n",
      "指令 ('40061c', 'b9000001', 'str', None, 'w1, [x0]') 是否是SP False 指令地址 4195868 访存地址 4325420 数据宽度 32 AddrMode.Base\n",
      "指令 ('400628', 'bd400000', 'ldr', None, 's0, [x0]') 是否是SP False 指令地址 4195880 访存地址 4325416 数据宽度 32 AddrMode.Base\n",
      "指令 ('40064c', 'bd000000', 'str', None, 's0, [x0]') 是否是SP False 指令地址 4195916 访存地址 4325416 数据宽度 32 AddrMode.Base\n",
      "指令 ('400658', 'b9400001', 'ldr', None, 'w1, [x0]') 是否是SP False 指令地址 4195928 访存地址 4325420 数据宽度 32 AddrMode.Base\n",
      "指令 ('400664', 'b9400000', 'ldr', None, 'w0, [x0]') 是否是SP False 指令地址 4195940 访存地址 4325424 数据宽度 32 AddrMode.Base\n",
      "指令 ('400674', 'b9000001', 'str', None, 'w1, [x0]') 是否是SP False 指令地址 4195956 访存地址 4325488 数据宽度 32 AddrMode.Base\n"
     ]
    }
   ],
   "source": [
    "'''cache分析'''\n",
    "\n",
    "#打印给cache分许需要的数据\n",
    "for i in lds_table:\n",
    "    print(\"指令\",i.ins.tokens,\"是否是SP\",i.is_sp,\"指令地址\",i.ins.addr.val(),\"访存地址\",i.final_addr,\"数据宽度\",i.ins.ls_data_width,i.ins.ls_addr_mode)\n"
   ]
  },
  {
   "cell_type": "code",
   "execution_count": 9,
   "metadata": {},
   "outputs": [
    {
     "name": "stdout",
     "output_type": "stream",
     "text": [
      "n0 None\n",
      "n0\n",
      "load {(4325420, 4325424): 2, (4325416, 4325420): 1, (4325424, 4325428): 1}\n",
      "store {(4325420, 4325424): 1, (4325416, 4325420): 1, (4325488, 4325492): 1}\n"
     ]
    }
   ],
   "source": [
    "from cache_analysis.read_segment import segmentReader\n",
    "from newCFG.heat_analysis import loop_heat\n",
    "bread = segmentReader(r'C:\\Users\\13377\\Desktop\\hw-memory-master (1)\\hw-memory-master\\benchmarks\\objdump-D\\-D manytest.asm')\n",
    "test=loop_heat(tcfg,lsproc,bread)\n",
    "test.loop_heat_analysis()\n",
    "\n"
   ]
  }
 ],
 "metadata": {
  "kernelspec": {
   "display_name": "Python 3",
   "language": "python",
   "name": "python3"
  },
  "language_info": {
   "codemirror_mode": {
    "name": "ipython",
    "version": 3
   },
   "file_extension": ".py",
   "mimetype": "text/x-python",
   "name": "python",
   "nbconvert_exporter": "python",
   "pygments_lexer": "ipython3",
   "version": "3.9.12"
  }
 },
 "nbformat": 4,
 "nbformat_minor": 0
}
