{
 "cells": [
  {
   "cell_type": "code",
   "execution_count": 1,
   "metadata": {
    "collapsed": true
   },
   "outputs": [],
   "source": [
    "fp = r\"/Users/gugujixiao/workspace/project/HWMemory/Code/newCFG/hw-memory/benchmarks/old_example/func.asm\""
   ]
  },
  {
   "cell_type": "code",
   "execution_count": 2,
   "metadata": {
    "collapsed": false
   },
   "outputs": [
    {
     "ename": "FileNotFoundError",
     "evalue": "Unexpected file path /Users/gugujixiao/workspace/project/HWMemory/Code/newCFG/hw-memory/benchmark/old_example/func.asm.",
     "output_type": "error",
     "traceback": [
      "\u001b[0;31m---------------------------------------------------------------------------\u001b[0m",
      "\u001b[0;31mFileNotFoundError\u001b[0m                         Traceback (most recent call last)",
      "Cell \u001b[0;32mIn[2], line 6\u001b[0m\n\u001b[1;32m      3\u001b[0m \u001b[39mfrom\u001b[39;00m \u001b[39mtyping\u001b[39;00m \u001b[39mimport\u001b[39;00m Tuple\n\u001b[1;32m      4\u001b[0m \u001b[39mfrom\u001b[39;00m \u001b[39mnewCFG\u001b[39;00m\u001b[39m.\u001b[39;00m\u001b[39mread_asm\u001b[39;00m \u001b[39mimport\u001b[39;00m AsmFileReader, StatementType\n\u001b[0;32m----> 6\u001b[0m reader \u001b[39m=\u001b[39mAsmFileReader(fp)\n\u001b[1;32m      8\u001b[0m statements \u001b[39m=\u001b[39m \u001b[39mlist\u001b[39m()\n\u001b[1;32m      9\u001b[0m temp_stat \u001b[39m=\u001b[39m \u001b[39mlist\u001b[39m()\n",
      "File \u001b[0;32m~/workspace/project/HWMemory/Code/newCFG/hw-memory/newCFG/read_asm.py:32\u001b[0m, in \u001b[0;36mAsmFileReader.__init__\u001b[0;34m(self, file_path)\u001b[0m\n\u001b[1;32m     29\u001b[0m \u001b[39mself\u001b[39m\u001b[39m.\u001b[39m__statements \u001b[39m=\u001b[39m \u001b[39mlist\u001b[39m()\n\u001b[1;32m     31\u001b[0m \u001b[39mif\u001b[39;00m \u001b[39mnot\u001b[39;00m (os\u001b[39m.\u001b[39mpath\u001b[39m.\u001b[39misfile(\u001b[39mself\u001b[39m\u001b[39m.\u001b[39m__fpath)):\n\u001b[0;32m---> 32\u001b[0m     \u001b[39mraise\u001b[39;00m \u001b[39mFileNotFoundError\u001b[39;00m(\u001b[39m\"\u001b[39m\u001b[39mUnexpected file path \u001b[39m\u001b[39m{}\u001b[39;00m\u001b[39m.\u001b[39m\u001b[39m\"\u001b[39m\u001b[39m.\u001b[39mformat(\u001b[39mself\u001b[39m\u001b[39m.\u001b[39m__fpath))\n\u001b[1;32m     34\u001b[0m statements: \u001b[39mlist\u001b[39m\n\u001b[1;32m     35\u001b[0m \u001b[39mwith\u001b[39;00m \u001b[39mopen\u001b[39m(\u001b[39mself\u001b[39m\u001b[39m.\u001b[39m__fpath, \u001b[39m'\u001b[39m\u001b[39mrt\u001b[39m\u001b[39m'\u001b[39m, encoding\u001b[39m=\u001b[39m\u001b[39m'\u001b[39m\u001b[39mutf-8\u001b[39m\u001b[39m'\u001b[39m) \u001b[39mas\u001b[39;00m fp:\n",
      "\u001b[0;31mFileNotFoundError\u001b[0m: Unexpected file path /Users/gugujixiao/workspace/project/HWMemory/Code/newCFG/hw-memory/benchmark/old_example/func.asm."
     ]
    }
   ],
   "source": [
    "from newCFG.cfg import proc_identify\n",
    "from newCFG.isa import Instruction, AddrMode\n",
    "from typing import Tuple\n",
    "from newCFG.read_asm import AsmFileReader, StatementType\n",
    "\n",
    "reader =AsmFileReader(fp)\n",
    "\n",
    "statements = list()\n",
    "temp_stat = list()\n",
    "for s in reader.statements:\n",
    "    s: Tuple[StatementType, tuple]\n",
    "    if s[0] == StatementType.Instruction:\n",
    "        statements.append((s[0], Instruction(s[1])))\n",
    "        temp_stat.append(Instruction(s[1]))\n",
    "    elif s[0] == StatementType.SubProcedure:\n",
    "        statements.append(s)\n",
    "\n",
    "#for i in temp_stat:\n",
    "#    booltemp = i.is_ls\n",
    "#    if booltemp:\n",
    "#        if i.ls_addr_mode == AddrMode.ImmeAft:\n",
    "#            print(i.ls_reg_traget)\n",
    "\n",
    "procs = proc_identify(statements)\n",
    "for proc in procs:\n",
    "    print(proc.name, proc.beg_addr.hex_str())\n",
    "    if False and proc.name == 'main':\n",
    "        for inst in proc.instruction:\n",
    "            print(inst.addr.hex_str(), inst.opcode, inst.name, inst.operands, inst.branch_info)\n",
    "        print()"
   ]
  },
  {
   "cell_type": "code",
   "execution_count": null,
   "metadata": {
    "collapsed": false
   },
   "outputs": [
    {
     "data": {
      "text/plain": [
       "'output/procedures.svg'"
      ]
     },
     "execution_count": 3,
     "metadata": {},
     "output_type": "execute_result"
    }
   ],
   "source": [
    "from graphviz import Digraph\n",
    "from newCFG.cfg import draw_proc, find_cycle, has_cycle, proc_draw_edges\n",
    "\n",
    "proc_draw_edges(procs)\n",
    "\n",
    "is_cycle = has_cycle(procs)\n",
    "if is_cycle:\n",
    "    c = [p.name for p in find_cycle(procs)]\n",
    "    raise RuntimeError(\"Loop between procedures is not allowed: {}.\".format(c))\n",
    "\n",
    "g: Digraph = draw_proc(procs)\n",
    "g.render(filename='procedures', directory='./output', format='svg')"
   ]
  },
  {
   "cell_type": "code",
   "execution_count": null,
   "metadata": {
    "collapsed": false
   },
   "outputs": [
    {
     "data": {
      "text/plain": [
       "'output/call_graph.svg'"
      ]
     },
     "execution_count": 4,
     "metadata": {},
     "output_type": "execute_result"
    }
   ],
   "source": [
    "from newCFG.cfg import CallGraph\n",
    "\n",
    "call_graph = CallGraph(procs)\n",
    "\n",
    "g = call_graph.draw_graph()\n",
    "g.render(filename='call_graph', directory='./output', format='svg')"
   ]
  },
  {
   "cell_type": "code",
   "execution_count": null,
   "metadata": {
    "collapsed": false
   },
   "outputs": [
    {
     "name": "stdout",
     "output_type": "stream",
     "text": [
      "n0 None\n",
      "n1 None\n",
      "n2 None\n",
      "n3 None\n",
      "n4 None\n",
      "n5 None\n"
     ]
    }
   ],
   "source": [
    "from newCFG.cfg import TCfg\n",
    "\n",
    "tcfg = TCfg(call_graph)\n",
    "tcfg.build_tcfg()\n",
    "\n",
    "tcfg_nodes = tcfg.all_nodes\n",
    "tcfg_edges = tcfg.edges\n",
    "\n",
    "g = tcfg.draw_graph()\n",
    "g.render(filename='tcfg', directory='./output', format='svg')\n",
    "\n",
    "tcfg.build_loop_hrchy()\n",
    "for l in tcfg.loops:\n",
    "    print(\"{} (in {} children {}): {}->{} {}\".format(l.name, l.father.name if l.father is not None else \"None\", [sub_l.name for sub_l in l.children], l.back_edge.src.name, l.back_edge.dst.name, [n.name for n in l.all_nodes]))\n",
    "\n",
    "for n in tcfg.all_nodes:\n",
    "    temp = n.inside_loop.name if n.inside_loop is not None else 'None'\n",
    "    print(\"{} {}\".format(n.name, temp))\n"
   ]
  }
 ],
 "metadata": {
  "kernelspec": {
   "display_name": "Python 3",
   "language": "python",
   "name": "python3"
  },
  "language_info": {
   "codemirror_mode": {
    "name": "ipython",
    "version": 3
   },
   "file_extension": ".py",
   "mimetype": "text/x-python",
   "name": "python",
   "nbconvert_exporter": "python",
   "pygments_lexer": "ipython3",
   "version": "3.8.16"
  }
 },
 "nbformat": 4,
 "nbformat_minor": 0
}
