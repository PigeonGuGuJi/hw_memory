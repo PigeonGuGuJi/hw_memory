{
 "cells": [
  {
   "cell_type": "code",
   "execution_count": 3,
   "metadata": {
    "collapsed": true
   },
   "outputs": [],
   "source": [
    "fp = f\"/Users/gugujixiao/workspace/project/HWMemory/Code/HW-Memory/example/old_example/func.asm\""
   ]
  },
  {
   "cell_type": "code",
   "execution_count": 5,
   "metadata": {
    "collapsed": false
   },
   "outputs": [
    {
     "name": "stdout",
     "output_type": "stream",
     "text": [
      "here\n",
      "('400644', 'b9401fe0', 'ldr', None, 'w0, [x12], #12')\n",
      "<re.Match object; span=(0, 10), match='[x12], #12'>\n",
      "here\n",
      "('400644', 'b9401fe0', 'ldr', None, 'w0, [x12], #12')\n",
      "<re.Match object; span=(0, 10), match='[x12], #12'>\n",
      "x12\n"
     ]
    }
   ],
   "source": [
    "from sample.cfg import proc_identify\n",
    "from sample.isa import Instruction, AddrMode\n",
    "from typing import Tuple\n",
    "from sample.read_asm import AsmFileReader, StatementType\n",
    "\n",
    "reader =AsmFileReader(fp)\n",
    "\n",
    "statements = list()\n",
    "temp_stat = list()\n",
    "for s in reader.statements:\n",
    "    s: Tuple[StatementType, tuple]\n",
    "    if s[0] == StatementType.Instruction:\n",
    "        statements.append((s[0], Instruction(s[1])))\n",
    "        temp_stat.append(Instruction(s[1]))\n",
    "    elif s[0] == StatementType.SubProcedure:\n",
    "        statements.append(s)\n",
    "\n",
    "#for i in temp_stat:\n",
    "#    booltemp = i.is_ls\n",
    "#    if booltemp:\n",
    "#        if i.ls_addr_mode == AddrMode.ImmeAft:\n",
    "#            print(i.ls_reg_traget)\n",
    "\n",
    "#procs = proc_identify(statements)\n",
    "#for proc in procs:\n",
    "#    print(proc.name, proc.beg_addr.hex_str())\n",
    "#    if False and proc.name == 'main':\n",
    "#        for inst in proc.instruction:\n",
    "#            print(inst.addr.hex_str(), inst.opcode, inst.name, inst.operands, inst.branch_info)\n",
    "#        print()"
   ]
  },
  {
   "cell_type": "code",
   "execution_count": 2,
   "metadata": {
    "collapsed": false
   },
   "outputs": [
    {
     "ename": "NameError",
     "evalue": "name 'procs' is not defined",
     "output_type": "error",
     "traceback": [
      "\u001b[0;31m---------------------------------------------------------------------------\u001b[0m",
      "\u001b[0;31mNameError\u001b[0m                                 Traceback (most recent call last)",
      "Cell \u001b[0;32mIn[2], line 4\u001b[0m\n\u001b[1;32m      1\u001b[0m \u001b[39mfrom\u001b[39;00m \u001b[39mgraphviz\u001b[39;00m \u001b[39mimport\u001b[39;00m Digraph\n\u001b[1;32m      2\u001b[0m \u001b[39mfrom\u001b[39;00m \u001b[39msample\u001b[39;00m\u001b[39m.\u001b[39;00m\u001b[39mcfg\u001b[39;00m \u001b[39mimport\u001b[39;00m draw_proc, find_cycle, has_cycle, proc_draw_edges\n\u001b[0;32m----> 4\u001b[0m proc_draw_edges(procs)\n\u001b[1;32m      6\u001b[0m is_cycle \u001b[39m=\u001b[39m has_cycle(procs)\n\u001b[1;32m      7\u001b[0m \u001b[39mif\u001b[39;00m is_cycle:\n",
      "\u001b[0;31mNameError\u001b[0m: name 'procs' is not defined"
     ]
    }
   ],
   "source": [
    "from graphviz import Digraph\n",
    "from sample.cfg import draw_proc, find_cycle, has_cycle, proc_draw_edges\n",
    "\n",
    "proc_draw_edges(procs)\n",
    "\n",
    "is_cycle = has_cycle(procs)\n",
    "if is_cycle:\n",
    "    c = [p.name for p in find_cycle(procs)]\n",
    "    raise RuntimeError(\"Loop between procedures is not allowed: {}.\".format(c))\n",
    "\n",
    "g: Digraph = draw_proc(procs)\n",
    "g.render(filename='procedures', directory='./', format='svg')"
   ]
  },
  {
   "cell_type": "code",
   "execution_count": 12,
   "metadata": {
    "collapsed": false
   },
   "outputs": [
    {
     "data": {
      "text/plain": [
       "'call_graph.svg'"
      ]
     },
     "execution_count": 12,
     "metadata": {},
     "output_type": "execute_result"
    }
   ],
   "source": [
    "from sample.cfg import CallGraph\n",
    "\n",
    "call_graph = CallGraph(procs)\n",
    "\n",
    "g = call_graph.draw_graph()\n",
    "g.render(filename='call_graph', directory='./', format='svg')"
   ]
  },
  {
   "cell_type": "code",
   "execution_count": 16,
   "metadata": {
    "collapsed": false
   },
   "outputs": [
    {
     "name": "stdout",
     "output_type": "stream",
     "text": [
      "n0 main (<sample.isa.Address object at 0x107d2a490>, <sample.isa.Address object at 0x107d9f730>)\n",
      "n1 main (<sample.isa.Address object at 0x107d9f910>, <sample.isa.Address object at 0x107da22b0>)\n",
      "n2 main (<sample.isa.Address object at 0x107da2490>, <sample.isa.Address object at 0x107d99cd0>)\n",
      "n3 main (<sample.isa.Address object at 0x107d4e3a0>, <sample.isa.Address object at 0x107da7100>)\n",
      "n4 main (<sample.isa.Address object at 0x107da72e0>, <sample.isa.Address object at 0x107da2ac0>)\n",
      "n5 main (<sample.isa.Address object at 0x107da27f0>, <sample.isa.Address object at 0x107da78e0>)\n",
      "n6 main (<sample.isa.Address object at 0x107da7ac0>, <sample.isa.Address object at 0x107dab160>)\n",
      "n7 main (<sample.isa.Address object at 0x107dab340>, <sample.isa.Address object at 0x107dae4c0>)\n",
      "n8 main (<sample.isa.Address object at 0x107dae6a0>, <sample.isa.Address object at 0x107dae8e0>)\n",
      "n9 main|7b4#printf@plt (<sample.isa.Address object at 0x107d2a940>, <sample.isa.Address object at 0x107d2a400>)\n",
      "n10 main|7c4#Duo (<sample.isa.Address object at 0x107daea00>, <sample.isa.Address object at 0x107db2e20>)\n",
      "n11 main|7f0#printf@plt (<sample.isa.Address object at 0x107d2a940>, <sample.isa.Address object at 0x107d2a400>)\n",
      "n12 main|81c#printf@plt (<sample.isa.Address object at 0x107d2a940>, <sample.isa.Address object at 0x107d2a400>)\n",
      "n13 main|82c#square (<sample.isa.Address object at 0x107db2f40>, <sample.isa.Address object at 0x107db2310>)\n",
      "n14 main|858#printf@plt (<sample.isa.Address object at 0x107d2a940>, <sample.isa.Address object at 0x107d2a400>)\n",
      "n15 main|868#cube (<sample.isa.Address object at 0x107db21f0>, <sample.isa.Address object at 0x107db57c0>)\n",
      "n16 main|868#cube (<sample.isa.Address object at 0x107db5610>, <sample.isa.Address object at 0x107db5610>)\n",
      "n17 main|894#printf@plt (<sample.isa.Address object at 0x107d2a940>, <sample.isa.Address object at 0x107d2a400>)\n"
     ]
    },
    {
     "data": {
      "text/plain": [
       "'tcfg.svg'"
      ]
     },
     "execution_count": 16,
     "metadata": {},
     "output_type": "execute_result"
    }
   ],
   "source": [
    "from sample.cfg import TCfg\n",
    "\n",
    "tcfg = TCfg(call_graph)\n",
    "tcfg_nodes = tcfg.all_nodes\n",
    "tcfg_edges = tcfg.edges\n",
    "\n",
    "for node in tcfg_nodes:\n",
    "    print(node.name, node.base_proc.name, node.inst_range)\n",
    "\n",
    "#for edge in tcfg_edges:\n",
    "#    print(edge.src.name, edge.dst.name, edge.kind.name)\n",
    "\n",
    "g = tcfg.draw_graph()\n",
    "g.render(filename='tcfg', directory='./', format='svg')"
   ]
  }
 ],
 "metadata": {
  "kernelspec": {
   "display_name": "Python 3",
   "language": "python",
   "name": "python3"
  },
  "language_info": {
   "codemirror_mode": {
    "name": "ipython",
    "version": 3
   },
   "file_extension": ".py",
   "mimetype": "text/x-python",
   "name": "python",
   "nbconvert_exporter": "python",
   "pygments_lexer": "ipython3",
   "version": "3.8.16"
  }
 },
 "nbformat": 4,
 "nbformat_minor": 0
}
