{
 "cells": [
  {
   "cell_type": "code",
   "execution_count": 1,
   "metadata": {
    "collapsed": true
   },
   "outputs": [],
   "source": [
    "fp = f\"./example/old_example/all.asm\""
   ]
  },
  {
   "cell_type": "code",
   "execution_count": 2,
   "outputs": [
    {
     "name": "stdout",
     "output_type": "stream",
     "text": [
      "_init 00000000004004d0\n",
      ".plt 00000000004004f0\n",
      "__libc_start_main@plt 0000000000400510\n",
      "__gmon_start__@plt 0000000000400520\n",
      "abort@plt 0000000000400530\n",
      "printf@plt 0000000000400540\n",
      "_start 0000000000400580\n",
      "__wrap_main 00000000004005b4\n",
      ".annobin_abi_note.c 00000000004005bc\n",
      "_dl_relocate_static_pie 00000000004005c0\n",
      "call_weak_fn 00000000004005c8\n",
      "deregister_tm_clones 00000000004005e0\n",
      "register_tm_clones 0000000000400610\n",
      "__do_global_dtors_aux 0000000000400650\n",
      "frame_dummy 0000000000400690\n",
      "varFunc 0000000000400698\n",
      "main 00000000004006b0\n",
      "_fini 0000000000400788\n"
     ]
    }
   ],
   "source": [
    "from sample.cfg import proc_identify\n",
    "from sample.isa import Instruction\n",
    "from typing import Tuple\n",
    "from sample.read_asm import AsmFileReader, StatementType\n",
    "\n",
    "reader =AsmFileReader(fp)\n",
    "\n",
    "statements = list()\n",
    "for s in reader.statements:\n",
    "    s: Tuple[StatementType, tuple]\n",
    "    if s[0] == StatementType.Instruction:\n",
    "        statements.append((s[0], Instruction(s[1])))\n",
    "    elif s[0] == StatementType.SubProcedure:\n",
    "        statements.append(s)\n",
    "\n",
    "procs = proc_identify(statements)\n",
    "for proc in procs:\n",
    "    print(proc.name, proc.beg_addr.hex_str())\n",
    "    if False and proc.name == 'main':\n",
    "        for inst in proc.instruction:\n",
    "            print(inst.addr.hex_str(), inst.opcode, inst.name, inst.operands, inst.branch_info)\n",
    "        print()"
   ],
   "metadata": {
    "collapsed": false
   }
  },
  {
   "cell_type": "code",
   "execution_count": 3,
   "outputs": [],
   "source": [
    "from graphviz import Digraph\n",
    "from sample.cfg import draw_proc, find_cycle, has_cycle, proc_draw_edges\n",
    "\n",
    "proc_draw_edges(procs)\n",
    "\n",
    "is_cycle = has_cycle(procs)\n",
    "if is_cycle:\n",
    "    c = [p.name for p in find_cycle(procs)]\n",
    "    raise RuntimeError(\"Loop between procedures is not allowed: {}.\".format(c))\n",
    "\n",
    "g: Digraph = draw_proc(procs)\n",
    "# g.view(quiet_view=True)\n",
    "# print(g.__str__())"
   ],
   "metadata": {
    "collapsed": false
   }
  },
  {
   "cell_type": "code",
   "execution_count": 4,
   "outputs": [
    {
     "data": {
      "text/plain": "'call_graph.gv.svg'"
     },
     "execution_count": 4,
     "metadata": {},
     "output_type": "execute_result"
    }
   ],
   "source": [
    "from sample.cfg import CallGraph\n",
    "\n",
    "call_graph = CallGraph(procs)\n",
    "g = call_graph.draw_graph()\n",
    "\n",
    "g.view(quiet_view=True)\n",
    "# print(g.__str__())"
   ],
   "metadata": {
    "collapsed": false
   }
  },
  {
   "cell_type": "code",
   "execution_count": 5,
   "outputs": [
    {
     "name": "stdout",
     "output_type": "stream",
     "text": [
      "main ('4006b0', '400700')\n",
      "main ('400704', '40071c')\n",
      "main ('400720', '400738')\n",
      "main ('40073c', '400754')\n",
      "main ('400758', '400758')\n",
      "main ('40075c', '400768')\n",
      "main ('40076c', '400778')\n",
      "main ('40077c', '400784')\n",
      "main|400700#printf@plt ('400540', '40054c')\n",
      "main|40071c#printf@plt ('400540', '40054c')\n",
      "main|400738#printf@plt ('400540', '40054c')\n",
      "main|400754#printf@plt ('400540', '40054c')\n",
      "main|400758#varFunc ('400698', '4006ac')\n",
      "main|400768#printf@plt ('400540', '40054c')\n",
      "main|400778#printf@plt ('400540', '40054c')\n"
     ]
    }
   ],
   "source": [
    "from sample.cfg import TCfg\n",
    "\n",
    "tcfg = TCfg(call_graph)\n",
    "tcfg_nodes = tcfg.nodes\n",
    "\n",
    "for node in tcfg_nodes:\n",
    "    print(node.base_proc.name, node.inst_range)\n"
   ],
   "metadata": {
    "collapsed": false
   }
  }
 ],
 "metadata": {
  "kernelspec": {
   "display_name": "Python 3",
   "language": "python",
   "name": "python3"
  },
  "language_info": {
   "codemirror_mode": {
    "name": "ipython",
    "version": 2
   },
   "file_extension": ".py",
   "mimetype": "text/x-python",
   "name": "python",
   "nbconvert_exporter": "python",
   "pygments_lexer": "ipython2",
   "version": "2.7.6"
  }
 },
 "nbformat": 4,
 "nbformat_minor": 0
}
