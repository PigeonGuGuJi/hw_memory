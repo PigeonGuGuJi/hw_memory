{
 "cells": [
  {
   "cell_type": "code",
   "execution_count": 6,
   "metadata": {
    "collapsed": true,
    "ExecuteTime": {
     "start_time": "2023-04-05T21:01:38.941315Z",
     "end_time": "2023-04-05T21:01:38.950650Z"
    }
   },
   "outputs": [],
   "source": [
    "ljy_fp = r\"D:\\workspace\\hw-memory\\benchmarks\\final_benchmark\\spec_benchmark.asm\"\n",
    "GuGuJi_fp = r\"D:\\workspace\\hw-memory\\benchmarks\\final_benchmark\\spec_benchmark.asm\"\n",
    "GuGuJi_spec_fp = r\"D:\\workspace\\hw-memory\\benchmarks\\final_benchmark\\spec_benchmark.asm\"\n",
    "GuGuJi_oldfp = r\"/benchmarks/old_benchmark/spec_example/spec2006_470.lbm/lbm_part.asm\"\n",
    "fp = ljy_fp\n",
    "guguji_segfp = r\"D:\\workspace\\hw-memory\\benchmarks\\final_benchmark\\spec_benchmarkD.asm\"\n",
    "seg_fp = r'D:\\workspace\\hw-memory\\benchmarks\\final_benchmark\\spec_benchmarkD.asm'\n"
   ]
  },
  {
   "cell_type": "code",
   "execution_count": 7,
   "metadata": {
    "collapsed": false,
    "ExecuteTime": {
     "start_time": "2023-04-05T21:01:38.941315Z",
     "end_time": "2023-04-05T21:01:38.984475Z"
    }
   },
   "outputs": [],
   "source": [
    "'''读指令, 指令对象化'''\n",
    "from newCFG.cfg import proc_identify\n",
    "from newCFG.isa import Instruction, AddrMode\n",
    "from typing import Tuple\n",
    "from newCFG.read_asm import AsmFileReader, StatementType\n",
    "from cache_analysis.read_segment import segmentReader\n",
    "\n",
    "reader =AsmFileReader(fp)\n",
    "segreader = segmentReader(seg_fp)\n",
    "\n",
    "statements = list()\n",
    "temp_stat = list()\n",
    "for s in reader.statements:\n",
    "    s: Tuple[StatementType, tuple]\n",
    "    if s[0] == StatementType.Instruction:\n",
    "        statements.append((s[0], Instruction(s[1])))\n",
    "        temp_stat.append(Instruction(s[1]))\n",
    "    elif s[0] == StatementType.SubProcedure:\n",
    "        statements.append(s)\n",
    "\n",
    "        \n",
    "\n",
    "for i in temp_stat:\n",
    "     if i.is_ls:\n",
    "        print(i.tokens,i.ls_reg_target,i.ls_reg_target_list,i.ls_addr_offset)\n",
    "\n",
    "procs = proc_identify(statements)\n",
    "for proc in procs:\n",
    "    print(proc.name, proc.beg_addr.hex_str())\n",
    "    if False and proc.name == 'main':\n",
    "        for inst in proc.instruction:\n",
    "            print(inst.addr.hex_str(), inst.opcode, inst.name, inst.operands, inst.branch_info)\n",
    "print()"
   ]
  },
  {
   "cell_type": "code",
   "execution_count": 8,
   "metadata": {
    "collapsed": false,
    "ExecuteTime": {
     "start_time": "2023-04-05T21:01:38.941315Z",
     "end_time": "2023-04-05T21:01:39.126827Z"
    }
   },
   "outputs": [],
   "source": [
    "'''分proc'''\n",
    "from graphviz import Digraph\n",
    "from newCFG.cfg import draw_proc, find_cycle, has_cycle, proc_draw_edges\n",
    "\n",
    "proc_draw_edges(procs)\n",
    "\n",
    "is_cycle = has_cycle(procs)\n",
    "if is_cycle:\n",
    "    c = [p.name for p in find_cycle(procs)]\n",
    "    raise RuntimeError(\"Loop between procedures is not allowed: {}.\".format(c))\n",
    "\n",
    "g: Digraph = draw_proc(procs)\n",
    "g.render(filename='procedures', directory='./output', format='svg')"
   ]
  },
  {
   "cell_type": "code",
   "execution_count": 9,
   "metadata": {
    "collapsed": false,
    "ExecuteTime": {
     "start_time": "2023-04-05T21:01:38.941315Z",
     "end_time": "2023-04-05T21:01:39.280332Z"
    }
   },
   "outputs": [],
   "source": [
    "'''处理call_graph'''\n",
    "from newCFG.cfg import CallGraph\n",
    "\n",
    "call_graph = CallGraph(procs)\n",
    "\n",
    "g = call_graph.draw_graph()\n",
    "g.render(filename='call_graph', directory='./output', format='svg')"
   ]
  },
  {
   "cell_type": "code",
   "execution_count": 10,
   "metadata": {
    "collapsed": false,
    "ExecuteTime": {
     "start_time": "2023-04-05T21:01:38.941315Z",
     "end_time": "2023-04-05T21:01:39.443060Z"
    }
   },
   "outputs": [],
   "source": [
    "'''生成TCFG和loop信息'''\n",
    "from newCFG.cfg import TCfg\n",
    "\n",
    "\n",
    "tcfg = TCfg(call_graph)\n",
    "tcfg.build_tcfg()\n",
    "\n",
    "tcfg_nodes = tcfg.all_nodes\n",
    "tcfg_edges = tcfg.edges\n",
    "\n",
    "g = tcfg.draw_graph()\n",
    "g.render(filename='tcfg', directory='./output', format='svg')\n",
    "\n",
    "#for node in tcfg_nodes:\n",
    "#    node.set_rw_condition()\n",
    "#    #print(node.name, node.base_proc.name, node.inst_range)\n",
    "#    print(node.name, node.base_proc.name)\n",
    "#    print(\"出边\")\n",
    "#    for i in node.outgoing_edge:\n",
    "#        print(i.dst.name)\n",
    "#    print(\"入边\")\n",
    "#    for i in node.incoming_edge:\n",
    "#        print(i.src.name)\n",
    "#\n",
    "#    print()\n",
    "tcfg.build_loop_hrchy()\n",
    "tcfg.add_loop_bound(r'D:\\workspace\\hw-memory\\benchmarks\\loop_bound.txt')\n",
    "for l in tcfg.loops:\n",
    "    print(\"{} (in {} children {}): {}->{} {}\".format(l.name, l.father.name if l.father is not None else \"None\", [sub_l.name for sub_l in l.children], l.back_edge.src.name, l.back_edge.dst.name, [n.name for n in l.all_nodes]))\n",
    "    l.back_edge.is_backEdge = True\n",
    "for n in tcfg.all_nodes:\n",
    "    temp = n.inside_loop.name if n.inside_loop is not None else 'None'\n",
    "    print(\"{} {}\".format(n.name, temp))\n",
    "\n",
    "\n",
    "\n",
    "#for n in tcfg_nodes:\n",
    "#    print(n.name,\"n的值\",n.node_value)\n",
    "        \n",
    "\n",
    "#for e in tcfg_edges:\n",
    "#    print(e.src.name,e.dst.name,e.is_backEdge)\n",
    "\n",
    "\n"
   ]
  },
  {
   "cell_type": "code",
   "execution_count": 11,
   "metadata": {
    "ExecuteTime": {
     "start_time": "2023-04-05T21:01:38.941315Z",
     "end_time": "2023-04-05T21:01:39.704961Z"
    }
   },
   "outputs": [],
   "source": [
    "from rwcond_out import loadstore_Obj\n",
    "lds_obj = loadstore_Obj(segreader,tcfg)\n",
    "lsproc = lds_obj.lsproc\n",
    "ls_loop_info = lds_obj.loop_info\n",
    "\n",
    "for k,v in ls_loop_info.items():\n",
    "    print(k,v)"
   ]
  },
  {
   "cell_type": "code",
   "execution_count": 12,
   "metadata": {
    "ExecuteTime": {
     "start_time": "2023-04-05T21:01:38.941315Z",
     "end_time": "2023-04-05T21:01:39.706430Z"
    }
   },
   "outputs": [],
   "source": [
    "# '''设置node和edge上的的value'''\n",
    "# import random\n",
    "# for l in tcfg.loops:\n",
    "#     l.back_edge.is_backEdge = True\n",
    "# for n in tcfg_nodes:\n",
    "#     n.set_rw_data()\n",
    "\n",
    "# temp_bool = True\n",
    "\n",
    "# while temp_bool:\n",
    "#     no_end = False\n",
    "\n",
    "#     for n in tcfg_nodes:\n",
    "#         n.set_rw_value()\n",
    "#         if not n.no_out:\n",
    "#             no_end = True\n",
    "#         temp_bool = no_end\n",
    "\n",
    "# for e in tcfg_edges:\n",
    "#     if e.is_backEdge:\n",
    "#         e.loop_value = random.randint(0,10)\n",
    "#         e.edge_value = 2\n",
    "\n",
    "# #for e in tcfg_edges:\n",
    "# #    print(e.src.name,e.dst.name,e.edge_value)"
   ]
  },
  {
   "cell_type": "code",
   "execution_count": 13,
   "metadata": {
    "ExecuteTime": {
     "start_time": "2023-04-05T21:01:38.941315Z",
     "end_time": "2023-04-05T21:01:39.711318Z"
    }
   },
   "outputs": [],
   "source": [
    "# '''ls分析和读写特征'''\n",
    "\n",
    "# from newCFG.cfg import TCfg\n",
    "# from newCFG.loadstore import LSProc\n",
    "# from newCFG.rw_condition import RWProc, RWType\n",
    "\n",
    "# lsproc = LSProc(tcfg_nodes)\n",
    "\n",
    "# lds_table = lsproc.ls_table\n",
    "\n",
    "# for i in lds_table:\n",
    "#     i.final_addr\n",
    "#     i.local_offset\n",
    "\n",
    "# #for i in lds_table:\n",
    "# #    if i.target_num == 1:\n",
    "#  #       pass\n",
    "#         #print(i.ins.tokens,i.reg_target,i.addr_offset) \n",
    "#  #   else:\n",
    "#         #print(i.ins.tokens,i.reg_target_list[0],i.reg_target_list[1],i.addr_offset,i.final_addr)\n",
    "\n",
    "# rwproc = RWProc(lds_table)\n",
    "\n",
    "# Global_Tolerant_value = 0\n",
    "# Global_Intolerant_value = 0\n",
    "\n",
    "# for rwu in rwproc.rw_table:\n",
    "#     #print(rwu.ins.tokens,rwu.find_cycle,rwu.ins.final_addr,rwu.is_torrent)\n",
    "#     if rwu.is_torrent == RWType.Global_Tolerant:\n",
    "#         Global_Tolerant_value += rwu.find_cycle\n",
    "#         print(rwu.ins.tokens,rwu.ins.final_addr,rwu.node.name)\n",
    "# print()\n",
    "# for rwu in rwproc.rw_table:\n",
    "#     #print(rwu.ins.tokens,rwu.find_cycle,rwu.ins.final_addr,rwu.is_torrent)\n",
    "#     if rwu.is_torrent == RWType.Global_Intolerant:\n",
    "#         Global_Intolerant_value += rwu.find_cycle\n",
    "#         print(rwu.ins.tokens,rwu.ins.final_addr,rwu.node.name)\n",
    "\n",
    "# print(\"全局的容错路径为：\",Global_Tolerant_value)\n",
    "# print(\"全局的非容错路径为：\",Global_Intolerant_value)   "
   ]
  },
  {
   "cell_type": "code",
   "execution_count": 14,
   "metadata": {
    "ExecuteTime": {
     "start_time": "2023-04-05T21:01:38.941315Z",
     "end_time": "2023-04-05T21:01:39.715956Z"
    }
   },
   "outputs": [],
   "source": [
    "# '''cache分析'''\n",
    "\n",
    "# #打印给cache分许需要的数据\n",
    "# for i in lds_table:\n",
    "#     print(\"指令\",i.ins.tokens,\"是否是SP\",i.is_sp,\"指令地址\",i.ins.addr.val(),\"访存地址\",i.final_addr,\"数据宽度\",i.ins.ls_data_width,\"是否是加入一个数组\",i.ins.is_data_group)\n"
   ]
  },
  {
   "cell_type": "code",
   "execution_count": 15,
   "metadata": {},
   "outputs": [],
   "source": [
    "from newCFG.heat_analysis import loop_heat\n",
    "test=loop_heat(tcfg,lsproc,r'C:\\Users\\13377\\Desktop\\hw-memory-master (5)\\hw-memory-master\\benchmarks\\final_benchmark\\spec_benchD.asm')\n",
    "test.do_it()\n"
   ]
  },
  {
   "cell_type": "code",
   "execution_count": null,
   "metadata": {},
   "outputs": [],
   "source": [
    "\n",
    "# TODO.\n"
   ]
  },
  {
   "cell_type": "code",
   "execution_count": null,
   "metadata": {},
   "outputs": [],
   "source": [
    "\n",
    "# from newCFG.rw_condition import RWProc, RWType\n",
    "# from newCFG.rw_condition_out import RWOut_Proc\n",
    "\n",
    "\n",
    "\n",
    "# rwout = RWOut_Proc(tcfg_nodes,segreader,rwproc.rw_table,tcfg.loops)\n",
    "\n",
    "\n",
    "\n",
    "\n"
   ]
  }
 ],
 "metadata": {
  "kernelspec": {
   "display_name": "Python 3",
   "language": "python",
   "name": "python3"
  },
  "language_info": {
   "codemirror_mode": {
    "name": "ipython",
    "version": 3
   },
   "file_extension": ".py",
   "mimetype": "text/x-python",
   "name": "python",
   "nbconvert_exporter": "python",
   "pygments_lexer": "ipython3",
   "version": "3.9.12"
  }
 },
 "nbformat": 4,
 "nbformat_minor": 0
}
