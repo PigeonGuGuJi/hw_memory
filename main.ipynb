{
 "cells": [
  {
   "cell_type": "code",
   "execution_count": 86,
   "metadata": {
    "collapsed": true
   },
   "outputs": [],
   "source": [
    "ljy_fp = r\"C:\\Users\\13377\\Desktop\\hw-memory-master (1)\\hw-memory-master\\benchmarks\\objdump-D\\-dmanytest.asm\"\n",
    "GuGuJi_fp = r\"/Users/gugujixiao/workspace/project/HWMemory/Code/newCFG/hw-memory/benchmarks/spec_example/spec2006_470.lbm/lbm_part.asm\"\n",
    "fp = ljy_fp"
   ]
  },
  {
   "cell_type": "code",
   "execution_count": 87,
   "metadata": {
    "collapsed": false
   },
   "outputs": [
    {
     "name": "stdout",
     "output_type": "stream",
     "text": [
      "('4004b8', 'f947fe11', 'ldr', None, 'x17, [x16, #4088]') x16 AddrMode.ImmeOffset 4088 0\n",
      "('4004d4', 'f9400211', 'ldr', None, 'x17, [x16]') x16 AddrMode.Base 0 0\n",
      "('4004e4', 'f9400611', 'ldr', None, 'x17, [x16, #8]') x16 AddrMode.ImmeOffset 8 0\n",
      "('4004f4', 'f9400a11', 'ldr', None, 'x17, [x16, #16]') x16 AddrMode.ImmeOffset 16 0\n",
      "('400510', 'f94003e1', 'ldr', None, 'x1, [sp]') sp AddrMode.Base 0 0\n",
      "('400548', 'f947ec00', 'ldr', None, 'x0, [x0, #4056]') x0 AddrMode.ImmeOffset 4056 0\n",
      "('40057c', 'f947e821', 'ldr', None, 'x1, [x1, #4048]') x1 AddrMode.ImmeOffset 4048 0\n",
      "('4005b8', 'f947f042', 'ldr', None, 'x2, [x2, #4064]') x2 AddrMode.ImmeOffset 4064 0\n",
      "('4005d8', 'f9000bf3', 'str', None, 'x19, [sp, #16]') sp AddrMode.ImmeOffset 16 16\n",
      "('4005e0', '39410260', 'ldrb', None, 'w0, [x19, #64]') x19 AddrMode.ImmeOffset 64 0\n",
      "('4005f0', '39010260', 'strb', None, 'w0, [x19, #64]') x19 AddrMode.ImmeOffset 64 0\n",
      "('4005f4', 'f9400bf3', 'ldr', None, 'x19, [sp, #16]') sp AddrMode.ImmeOffset 16 16\n",
      "('40060c', 'b9400000', 'ldr', None, 'w0, [x0]') x0 AddrMode.Base 0 0\n",
      "('40061c', 'b9000001', 'str', None, 'w1, [x0]') x0 AddrMode.Base 0 0\n",
      "('400628', 'bd400000', 'ldr', None, 's0, [x0]') x0 AddrMode.Base 0 0\n",
      "('40064c', 'bd000000', 'str', None, 's0, [x0]') x0 AddrMode.Base 0 0\n",
      "('400658', 'b9400001', 'ldr', None, 'w1, [x0]') x0 AddrMode.Base 0 0\n",
      "('400664', 'b9400000', 'ldr', None, 'w0, [x0]') x0 AddrMode.Base 0 0\n",
      "('400674', 'b9000001', 'str', None, 'w1, [x0]') x0 AddrMode.Base 0 0\n",
      "_init 0000000000400498\n",
      ".plt 00000000004004b0\n",
      "__libc_start_main@plt 00000000004004d0\n",
      "__gmon_start__@plt 00000000004004e0\n",
      "abort@plt 00000000004004f0\n",
      "_start 0000000000400500\n",
      "__wrap_main 0000000000400534\n",
      "_dl_relocate_static_pie 0000000000400540\n",
      "call_weak_fn 0000000000400544\n",
      "deregister_tm_clones 0000000000400560\n",
      "register_tm_clones 0000000000400590\n",
      "__do_global_dtors_aux 00000000004005d0\n",
      "frame_dummy 0000000000400600\n",
      "main 0000000000400604\n",
      "_fini 0000000000400680\n"
     ]
    }
   ],
   "source": [
    "'''读指令, 指令对象化'''\n",
    "from newCFG.cfg import proc_identify\n",
    "from newCFG.isa import Instruction, AddrMode\n",
    "from typing import Tuple\n",
    "from newCFG.read_asm import AsmFileReader, StatementType\n",
    "\n",
    "reader =AsmFileReader(fp)\n",
    "\n",
    "statements = list()\n",
    "temp_stat = list()\n",
    "for s in reader.statements:\n",
    "    s: Tuple[StatementType, tuple]\n",
    "    if s[0] == StatementType.Instruction:\n",
    "        statements.append((s[0], Instruction(s[1])))\n",
    "        temp_stat.append(Instruction(s[1]))\n",
    "    elif s[0] == StatementType.SubProcedure:\n",
    "        statements.append(s)\n",
    "\n",
    "for i in temp_stat:\n",
    "    if i.is_ls:\n",
    "        if i.ls_handle:\n",
    "            print(i.tokens,i.ls_reg_target,i.ls_addr_mode,i.ls_addr_offset,i.local_offset)\n",
    "\n",
    "procs = proc_identify(statements)\n",
    "for proc in procs:\n",
    "    print(proc.name, proc.beg_addr.hex_str())\n",
    "    if False and proc.name == 'main':\n",
    "        for inst in proc.instruction:\n",
    "            print(inst.addr.hex_str(), inst.opcode, inst.name, inst.operands, inst.branch_info)\n",
    "        print()"
   ]
  },
  {
   "cell_type": "code",
   "execution_count": 88,
   "metadata": {
    "collapsed": false
   },
   "outputs": [
    {
     "data": {
      "text/plain": [
       "'output\\\\procedures.svg'"
      ]
     },
     "execution_count": 88,
     "metadata": {},
     "output_type": "execute_result"
    }
   ],
   "source": [
    "'''分proc'''\n",
    "from graphviz import Digraph\n",
    "from newCFG.cfg import draw_proc, find_cycle, has_cycle, proc_draw_edges\n",
    "\n",
    "proc_draw_edges(procs)\n",
    "\n",
    "is_cycle = has_cycle(procs)\n",
    "if is_cycle:\n",
    "    c = [p.name for p in find_cycle(procs)]\n",
    "    raise RuntimeError(\"Loop between procedures is not allowed: {}.\".format(c))\n",
    "\n",
    "g: Digraph = draw_proc(procs)\n",
    "g.render(filename='procedures', directory='./output', format='svg')"
   ]
  },
  {
   "cell_type": "code",
   "execution_count": 89,
   "metadata": {
    "collapsed": false
   },
   "outputs": [
    {
     "data": {
      "text/plain": [
       "'output\\\\call_graph.svg'"
      ]
     },
     "execution_count": 89,
     "metadata": {},
     "output_type": "execute_result"
    }
   ],
   "source": [
    "'''处理call_graph'''\n",
    "from newCFG.cfg import CallGraph\n",
    "\n",
    "call_graph = CallGraph(procs)\n",
    "\n",
    "g = call_graph.draw_graph()\n",
    "g.render(filename='call_graph', directory='./output', format='svg')"
   ]
  },
  {
   "cell_type": "code",
   "execution_count": 90,
   "metadata": {
    "collapsed": false
   },
   "outputs": [],
   "source": [
    "'''生成TCFG和loop信息'''\n",
    "from newCFG.cfg import TCfg\n",
    "import random\n",
    "\n",
    "tcfg = TCfg(call_graph)\n",
    "tcfg.build_tcfg()\n",
    "\n",
    "tcfg_nodes = tcfg.all_nodes\n",
    "tcfg_edges = tcfg.edges\n",
    "\n",
    "g = tcfg.draw_graph()\n",
    "g.render(filename='tcfg', directory='./output', format='svg')\n",
    "\n",
    "#for node in tcfg_nodes:\n",
    "#    node.set_rw_condition()\n",
    "#    #print(node.name, node.base_proc.name, node.inst_range)\n",
    "#    print(node.name, node.base_proc.name)\n",
    "#    print(\"出边\")\n",
    "#    for i in node.outgoing_edge:\n",
    "#        print(i.dst.name)\n",
    "#    print(\"入边\")\n",
    "#    for i in node.incoming_edge:\n",
    "#        print(i.src.name)\n",
    "#\n",
    "#    print()\n",
    "tcfg.build_loop_hrchy()\n",
    "\n",
    "\n",
    "\n",
    "#for n in tcfg_nodes:\n",
    "#    print(n.name,\"n的值\",n.node_value)\n",
    "        \n",
    "\n",
    "#for e in tcfg_edges:\n",
    "#    print(e.src.name,e.dst.name,e.is_backEdge)\n",
    "\n",
    "\n"
   ]
  },
  {
   "cell_type": "code",
   "execution_count": 91,
   "metadata": {},
   "outputs": [],
   "source": [
    "'''设置node和edge上的的value'''\n",
    "\n",
    "for l in tcfg.loops:\n",
    "    l.back_edge.is_backEdge = True\n",
    "for n in tcfg_nodes:\n",
    "    n.set_rw_data()\n",
    "\n",
    "temp_bool = True\n",
    "\n",
    "while temp_bool:\n",
    "    no_end = False\n",
    "\n",
    "    for n in tcfg_nodes:\n",
    "        n.set_rw_value()\n",
    "        if not n.no_out:\n",
    "            no_end = True\n",
    "        temp_bool = no_end\n",
    "\n",
    "for e in tcfg_edges:\n",
    "    if e.is_backEdge:\n",
    "        e.loop_value = random.randint(0,10)\n",
    "        e.edge_value = 2\n",
    "\n",
    "for e in tcfg_edges:\n",
    "    print(e.src.name,e.dst.name,e.edge_value)"
   ]
  },
  {
   "cell_type": "code",
   "execution_count": 92,
   "metadata": {},
   "outputs": [
    {
     "name": "stdout",
     "output_type": "stream",
     "text": [
      "全局的容错路径为： 13\n",
      "全局的非容错路径为： 15\n"
     ]
    }
   ],
   "source": [
    "'''ls分析和读写特征'''\n",
    "\n",
    "from newCFG.cfg import TCfg\n",
    "from newCFG.loadstore import LSProc\n",
    "from newCFG.rw_condition import RWProc, RWType\n",
    "\n",
    "lsproc = LSProc(tcfg_nodes)\n",
    "\n",
    "lds_table = lsproc.ls_table\n",
    "\n",
    "\n",
    "\n",
    "\n",
    "for i in lds_table:\n",
    "    i.final_addr\n",
    "    i.local_offset\n",
    "\n",
    "rwproc = RWProc(lds_table)\n",
    "\n",
    "Global_Tolerant_value = 0\n",
    "Global_Intolerant_value = 0\n",
    "\n",
    "for rwu in rwproc.rw_table:\n",
    "    #print(rwu.ins.tokens,rwu.find_cycle,rwu.ins.final_addr,rwu.is_torrent)\n",
    "    if rwu.is_torrent == RWType.Global_Tolerant:\n",
    "        Global_Tolerant_value += rwu.find_cycle\n",
    "    elif rwu.is_torrent == RWType.Global_Intolerant:\n",
    "        Global_Intolerant_value += rwu.find_cycle\n",
    "\n",
    "print(\"全局的容错路径为：\",Global_Tolerant_value)\n",
    "print(\"全局的非容错路径为：\",Global_Intolerant_value)   "
   ]
  },
  {
   "cell_type": "code",
   "execution_count": 93,
   "metadata": {},
   "outputs": [
    {
     "name": "stdout",
     "output_type": "stream",
     "text": [
      "指令 ('40060c', 'b9400000', 'ldr', None, 'w0, [x0]') 是否是SP False 指令地址 4195852 访存地址 4325420 数据宽度 32\n",
      "指令 ('40061c', 'b9000001', 'str', None, 'w1, [x0]') 是否是SP False 指令地址 4195868 访存地址 4325420 数据宽度 32\n",
      "指令 ('400628', 'bd400000', 'ldr', None, 's0, [x0]') 是否是SP False 指令地址 4195880 访存地址 4325416 数据宽度 32\n",
      "指令 ('40064c', 'bd000000', 'str', None, 's0, [x0]') 是否是SP False 指令地址 4195916 访存地址 4325416 数据宽度 32\n",
      "指令 ('400658', 'b9400001', 'ldr', None, 'w1, [x0]') 是否是SP False 指令地址 4195928 访存地址 4325420 数据宽度 32\n",
      "指令 ('400664', 'b9400000', 'ldr', None, 'w0, [x0]') 是否是SP False 指令地址 4195940 访存地址 4325424 数据宽度 32\n",
      "指令 ('400674', 'b9000001', 'str', None, 'w1, [x0]') 是否是SP False 指令地址 4195956 访存地址 4325488 数据宽度 32\n"
     ]
    }
   ],
   "source": [
    "'''cache分析'''\n",
    "\n",
    "#打印给cache分许需要的数据\n",
    "for i in lds_table:\n",
    "    print(\"指令\",i.ins.tokens,\"是否是SP\",i.is_sp,\"指令地址\",i.ins.addr.val(),\"访存地址\",i.final_addr,\"数据宽度\",i.ins.ls_data_width)\n"
   ]
  },
  {
   "cell_type": "code",
   "execution_count": 94,
   "metadata": {},
   "outputs": [
    {
     "name": "stdout",
     "output_type": "stream",
     "text": [
      "[['0000000000420040', 'completed.0', 4325440, 4325448], ['0000000000420048', 'test', 4325448, 4325488], ['0000000000420070', 'n', 4325488, 4325492]]\n",
      "[['0000000000420018', '__data_start', 4325400, 4325408], ['0000000000420020', '__dso_handle', 4325408, 4325416], ['0000000000420028', 'i', 4325416, 4325420], ['000000000042002c', 'j', 4325420, 4325424], ['0000000000420030', 'k', 4325424, 4325432], ['0000000000420038', 'h', 4325432, 4325436]]\n",
      "n0 None\n",
      "n0\n",
      "load {(4325420, 4325424): 2, (4325416, 4325420): 1, (4325424, 4325432): 1}\n",
      "store {(4325420, 4325424): 1, (4325416, 4325420): 1, (4325488, 4325492): 1}\n"
     ]
    }
   ],
   "source": [
    "from cache_analysis.read_segment import segmentReader\n",
    "bread = segmentReader(r'C:\\Users\\13377\\Desktop\\hw-memory-master (1)\\hw-memory-master\\benchmarks\\objdump-D\\-D manytest.asm')\n",
    "a=bread.getbss()\n",
    "b=bread.getdata()\n",
    "print(a)\n",
    "print(b)\n",
    "'''热度分析'''\n",
    "def find_range(addr:int):\n",
    "    for i in a:\n",
    "        if int(addr)==i[2]:\n",
    "            return i[3]\n",
    "    for i in b:\n",
    "        if int(addr)==i[2]:\n",
    "            return i[3]\n",
    "for l in tcfg.loops:\n",
    "    print(\"{} (in {} children {}): {}->{} {}\".format(l.name, l.father.name if l.father is not None else \"None\", [sub_l.name for sub_l in l.children], l.back_edge.src.name, l.back_edge.dst.name, [n.name for n in l.all_nodes]))\n",
    "    l.back_edge.is_backEdge = True\n",
    "for n in tcfg.all_nodes:\n",
    "    temp = n.inside_loop.name if n.inside_loop is not None else 'None'\n",
    "    print(\"{} {}\".format(n.name, temp))\n",
    "#将对应的指令添加到node的热度信息表中\n",
    "for i in lds_table:\n",
    "    if i.ins.name[0:1] == \"l\":\n",
    "        #print(i.ins.tokens)\n",
    "        i.node.loadlist.append((i.ins,i.final_addr))\n",
    "    elif i.ins.name[0:1] == \"s\":\n",
    "        i.node.storelist.append((i.ins,i.final_addr))\n",
    "\n",
    "for node in tcfg_nodes:\n",
    "    for i in node.loadlist:\n",
    "        node.heat_ld_result[i[1],find_range(i[1])]=0\n",
    "    for i in node.loadlist:\n",
    "        node.heat_ld_result[i[1],find_range(i[1])]+=1\n",
    "    for i in node.storelist:\n",
    "        node.heat_st_result[i[1],find_range(i[1])]=0\n",
    "    for i in node.storelist:\n",
    "        node.heat_st_result[i[1],find_range(i[1])]+=1\n",
    "for node in tcfg_nodes:\n",
    "    print(node.name)\n",
    "    print('load',node.heat_ld_result)\n",
    "    print('store',node.heat_st_result)\n",
    "for l in tcfg.loops:\n",
    "    print(\"{} (in {} children {}): {}->{} {}\".format(l.name, l.father.name if l.father is not None else \"None\", [sub_l.name for sub_l in l.children], l.back_edge.src.name, l.back_edge.dst.name, [n.name for n in l.all_nodes]))\n",
    "    l.back_edge.is_backEdge = True\n",
    "    for j in l.all_nodes:\n",
    "        print(j.name,j.heat_ld_result,j.heat_st_result)\n",
    "        for key,value in j.heat_ld_result.items():\n",
    "            if key in l.loop_ld_heat:\n",
    "                l.loop_ld_heat[key]+=value\n",
    "            else:\n",
    "                l.loop_ld_heat[key]=value\n",
    "        for key,value in j.heat_st_result.items():\n",
    "            if key in l.loop_st_heat:\n",
    "                l.loop_st_heat[key]+=value\n",
    "            else:\n",
    "                l.loop_st_heat[key]=value\n",
    "    \n",
    "    print(l.name,'ld_heat_analysis',l.loop_ld_heat,'st_heat_analysis',l.loop_st_heat)\n",
    "\n"
   ]
  }
 ],
 "metadata": {
  "kernelspec": {
   "display_name": "Python 3",
   "language": "python",
   "name": "python3"
  },
  "language_info": {
   "codemirror_mode": {
    "name": "ipython",
    "version": 3
   },
   "file_extension": ".py",
   "mimetype": "text/x-python",
   "name": "python",
   "nbconvert_exporter": "python",
   "pygments_lexer": "ipython3",
   "version": "3.9.12"
  }
 },
 "nbformat": 4,
 "nbformat_minor": 0
}
