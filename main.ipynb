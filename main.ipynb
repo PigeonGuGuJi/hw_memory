{
 "cells": [
  {
   "cell_type": "code",
   "execution_count": 1,
   "metadata": {
    "collapsed": true
   },
   "outputs": [],
   "source": [
    "ljy_fp = r\"C:\\Users\\13377\\Desktop\\hw-memory-master (1)\\hw-memory-master\\benchmarks\\objdump-D\\-dmanytest.asm\"\n",
    "GuGuJi_fp = r\"/Users/gugujixiao/allsync/hw_benchmark/LBM/try.asm\"\n",
    "GuGuJi_oldfp = r\"/Users/gugujixiao/workspace/project/HWMemory/Code/hw-memory/benchmarks/old_benchmark/spec_example/spec2006_470.lbm/lbm_part.asm\"\n",
    "fp = GuGuJi_fp"
   ]
  },
  {
   "cell_type": "code",
   "execution_count": 2,
   "metadata": {
    "collapsed": false
   },
   "outputs": [
    {
     "name": "stdout",
     "output_type": "stream",
     "text": [
      "here\n",
      "('x0', '', 'x1', 'lsl', '', '2')\n",
      "here\n",
      "('x0', '', 'x1', 'lsl', '', '2')\n",
      "('40049c', 'a9bf7bfd', 'stp', None, 'x29, x30, [sp, #-16]!') None [] None\n",
      "('4004a8', 'a8c17bfd', 'ldp', None, 'x29, x30, [sp], #16') None [] None\n",
      "('4004b0', 'a9bf7bf0', 'stp', None, 'x16, x30, [sp, #-16]!') None [] None\n",
      "('4004b8', 'f947fe11', 'ldr', None, 'x17, [x16, #4088]') x16 [] AddrMode.ImmeOffset\n",
      "('4004d4', 'f9400211', 'ldr', None, 'x17, [x16]') x16 [] AddrMode.Base\n",
      "('4004e4', 'f9400611', 'ldr', None, 'x17, [x16, #8]') x16 [] AddrMode.ImmeOffset\n",
      "('4004f4', 'f9400a11', 'ldr', None, 'x17, [x16, #16]') x16 [] AddrMode.ImmeOffset\n",
      "('400510', 'f94003e1', 'ldr', None, 'x1, [sp]') sp [] AddrMode.Base\n",
      "('400548', 'f947ec00', 'ldr', None, 'x0, [x0, #4056]') x0 [] AddrMode.ImmeOffset\n",
      "('40057c', 'f947e821', 'ldr', None, 'x1, [x1, #4048]') x1 [] AddrMode.ImmeOffset\n",
      "('4005b8', 'f947f042', 'ldr', None, 'x2, [x2, #4064]') x2 [] AddrMode.ImmeOffset\n",
      "('4005d0', 'a9be7bfd', 'stp', None, 'x29, x30, [sp, #-32]!') None [] None\n",
      "('4005d8', 'f9000bf3', 'str', None, 'x19, [sp, #16]') sp [] AddrMode.ImmeOffset\n",
      "('4005e0', '3940a260', 'ldrb', None, 'w0, [x19, #40]') x19 [] AddrMode.ImmeOffset\n",
      "('4005f0', '3900a260', 'strb', None, 'w0, [x19, #40]') x19 [] AddrMode.ImmeOffset\n",
      "('4005f4', 'f9400bf3', 'ldr', None, 'x19, [sp, #16]') sp [] AddrMode.ImmeOffset\n",
      "('4005f8', 'a8c27bfd', 'ldp', None, 'x29, x30, [sp], #32') None [] None\n",
      "('400608', 'b9000fe0', 'str', None, 'w0, [sp, #12]') sp [] AddrMode.ImmeOffset\n",
      "('40060c', 'f90003e1', 'str', None, 'x1, [sp]') sp [] AddrMode.Base\n",
      "('400610', 'b9001fff', 'str', None, 'wzr, [sp, #28]') sp [] AddrMode.ImmeOffset\n",
      "('400620', 'b9801fe1', 'ldrsw', None, 'x1, [sp, #28]') sp [] AddrMode.ImmeOffset\n",
      "('40062c', 'b8217802', 'str', None, 'w2, [x0, x1, lsl #2]') None ['x0', ['', 'x1']] AddrMode.RegShift\n",
      "('400630', 'b9401fe0', 'ldr', None, 'w0, [sp, #28]') sp [] AddrMode.ImmeOffset\n",
      "('400638', 'b9001fe0', 'str', None, 'w0, [sp, #28]') sp [] AddrMode.ImmeOffset\n",
      "('40063c', 'b9401fe0', 'ldr', None, 'w0, [sp, #28]') sp [] AddrMode.ImmeOffset\n",
      "('400658', 'a9bf7bfd', 'stp', None, 'x29, x30, [sp, #-16]!') None [] None\n",
      "('400660', 'a8c17bfd', 'ldp', None, 'x29, x30, [sp], #16') None [] None\n",
      "_init 0000000000400498\n",
      ".plt 00000000004004b0\n",
      "__libc_start_main@plt 00000000004004d0\n",
      "__gmon_start__@plt 00000000004004e0\n",
      "abort@plt 00000000004004f0\n",
      "_start 0000000000400500\n",
      "__wrap_main 0000000000400534\n",
      "_dl_relocate_static_pie 0000000000400540\n",
      "call_weak_fn 0000000000400544\n",
      "deregister_tm_clones 0000000000400560\n",
      "register_tm_clones 0000000000400590\n",
      "__do_global_dtors_aux 00000000004005d0\n",
      "frame_dummy 0000000000400600\n",
      "main 0000000000400604\n",
      "_fini 0000000000400654\n",
      "\n"
     ]
    }
   ],
   "source": [
    "'''读指令, 指令对象化'''\n",
    "from newCFG.cfg import proc_identify\n",
    "from newCFG.isa import Instruction, AddrMode\n",
    "from typing import Tuple\n",
    "from newCFG.read_asm import AsmFileReader, StatementType\n",
    "\n",
    "reader =AsmFileReader(fp)\n",
    "\n",
    "statements = list()\n",
    "temp_stat = list()\n",
    "for s in reader.statements:\n",
    "    s: Tuple[StatementType, tuple]\n",
    "    if s[0] == StatementType.Instruction:\n",
    "        statements.append((s[0], Instruction(s[1])))\n",
    "        temp_stat.append(Instruction(s[1]))\n",
    "    elif s[0] == StatementType.SubProcedure:\n",
    "        statements.append(s)\n",
    "\n",
    "        \n",
    "\n",
    "for i in temp_stat:\n",
    "     if i.is_ls:\n",
    "        print(i.tokens,i.ls_reg_target,i.ls_reg_target_list,i.ls_addr_mode)\n",
    "\n",
    "procs = proc_identify(statements)\n",
    "for proc in procs:\n",
    "    print(proc.name, proc.beg_addr.hex_str())\n",
    "    if False and proc.name == 'main':\n",
    "        for inst in proc.instruction:\n",
    "            print(inst.addr.hex_str(), inst.opcode, inst.name, inst.operands, inst.branch_info)\n",
    "print()"
   ]
  },
  {
   "cell_type": "code",
   "execution_count": 3,
   "metadata": {
    "collapsed": false
   },
   "outputs": [
    {
     "data": {
      "text/plain": [
       "'output/procedures.svg'"
      ]
     },
     "execution_count": 3,
     "metadata": {},
     "output_type": "execute_result"
    }
   ],
   "source": [
    "'''分proc'''\n",
    "from graphviz import Digraph\n",
    "from newCFG.cfg import draw_proc, find_cycle, has_cycle, proc_draw_edges\n",
    "\n",
    "proc_draw_edges(procs)\n",
    "\n",
    "is_cycle = has_cycle(procs)\n",
    "if is_cycle:\n",
    "    c = [p.name for p in find_cycle(procs)]\n",
    "    raise RuntimeError(\"Loop between procedures is not allowed: {}.\".format(c))\n",
    "\n",
    "g: Digraph = draw_proc(procs)\n",
    "g.render(filename='procedures', directory='./output', format='svg')"
   ]
  },
  {
   "cell_type": "code",
   "execution_count": 4,
   "metadata": {
    "collapsed": false
   },
   "outputs": [
    {
     "data": {
      "text/plain": [
       "'output/call_graph.svg'"
      ]
     },
     "execution_count": 4,
     "metadata": {},
     "output_type": "execute_result"
    }
   ],
   "source": [
    "'''处理call_graph'''\n",
    "from newCFG.cfg import CallGraph\n",
    "\n",
    "call_graph = CallGraph(procs)\n",
    "\n",
    "g = call_graph.draw_graph()\n",
    "g.render(filename='call_graph', directory='./output', format='svg')"
   ]
  },
  {
   "cell_type": "code",
   "execution_count": 5,
   "metadata": {
    "collapsed": false
   },
   "outputs": [],
   "source": [
    "'''生成TCFG和loop信息'''\n",
    "from newCFG.cfg import TCfg\n",
    "import random\n",
    "\n",
    "tcfg = TCfg(call_graph)\n",
    "tcfg.build_tcfg()\n",
    "\n",
    "tcfg_nodes = tcfg.all_nodes\n",
    "tcfg_edges = tcfg.edges\n",
    "\n",
    "g = tcfg.draw_graph()\n",
    "g.render(filename='tcfg', directory='./output', format='svg')\n",
    "\n",
    "#for node in tcfg_nodes:\n",
    "#    node.set_rw_condition()\n",
    "#    #print(node.name, node.base_proc.name, node.inst_range)\n",
    "#    print(node.name, node.base_proc.name)\n",
    "#    print(\"出边\")\n",
    "#    for i in node.outgoing_edge:\n",
    "#        print(i.dst.name)\n",
    "#    print(\"入边\")\n",
    "#    for i in node.incoming_edge:\n",
    "#        print(i.src.name)\n",
    "#\n",
    "#    print()\n",
    "tcfg.build_loop_hrchy()\n",
    "\n",
    "\n",
    "\n",
    "#for n in tcfg_nodes:\n",
    "#    print(n.name,\"n的值\",n.node_value)\n",
    "        \n",
    "\n",
    "#for e in tcfg_edges:\n",
    "#    print(e.src.name,e.dst.name,e.is_backEdge)\n",
    "\n",
    "\n"
   ]
  },
  {
   "cell_type": "code",
   "execution_count": 6,
   "metadata": {},
   "outputs": [
    {
     "name": "stdout",
     "output_type": "stream",
     "text": [
      "n0 n2 1.0\n",
      "n1 n2 2\n",
      "n2 n1 0.5\n",
      "n2 n3 0.5\n"
     ]
    }
   ],
   "source": [
    "'''设置node和edge上的的value'''\n",
    "\n",
    "for l in tcfg.loops:\n",
    "    l.back_edge.is_backEdge = True\n",
    "for n in tcfg_nodes:\n",
    "    n.set_rw_data()\n",
    "\n",
    "temp_bool = True\n",
    "\n",
    "while temp_bool:\n",
    "    no_end = False\n",
    "\n",
    "    for n in tcfg_nodes:\n",
    "        n.set_rw_value()\n",
    "        if not n.no_out:\n",
    "            no_end = True\n",
    "        temp_bool = no_end\n",
    "\n",
    "for e in tcfg_edges:\n",
    "    if e.is_backEdge:\n",
    "        e.loop_value = random.randint(0,10)\n",
    "        e.edge_value = 2\n",
    "\n",
    "for e in tcfg_edges:\n",
    "    print(e.src.name,e.dst.name,e.edge_value)"
   ]
  },
  {
   "cell_type": "code",
   "execution_count": 7,
   "metadata": {},
   "outputs": [
    {
     "ename": "AttributeError",
     "evalue": "'RWUnit' object has no attribute 'ls_reg_target'",
     "output_type": "error",
     "traceback": [
      "\u001b[0;31m---------------------------------------------------------------------------\u001b[0m",
      "\u001b[0;31mAttributeError\u001b[0m                            Traceback (most recent call last)",
      "Cell \u001b[0;32mIn[7], line 30\u001b[0m\n\u001b[1;32m     28\u001b[0m     \u001b[39mif\u001b[39;00m rwu\u001b[39m.\u001b[39mis_torrent \u001b[39m==\u001b[39m RWType\u001b[39m.\u001b[39mGlobal_Intolerant:\n\u001b[1;32m     29\u001b[0m         Global_Intolerant_value \u001b[39m+\u001b[39m\u001b[39m=\u001b[39m rwu\u001b[39m.\u001b[39mfind_cycle\n\u001b[0;32m---> 30\u001b[0m         \u001b[39mprint\u001b[39m(rwu\u001b[39m.\u001b[39mins\u001b[39m.\u001b[39mtokens,rwu\u001b[39m.\u001b[39mins\u001b[39m.\u001b[39mfinal_addr,rwu\u001b[39m.\u001b[39;49mls_reg_target)\n\u001b[1;32m     32\u001b[0m \u001b[39mprint\u001b[39m(\u001b[39m\"\u001b[39m\u001b[39m全局的容错路径为：\u001b[39m\u001b[39m\"\u001b[39m,Global_Tolerant_value)\n\u001b[1;32m     33\u001b[0m \u001b[39mprint\u001b[39m(\u001b[39m\"\u001b[39m\u001b[39m全局的非容错路径为：\u001b[39m\u001b[39m\"\u001b[39m,Global_Intolerant_value)   \n",
      "\u001b[0;31mAttributeError\u001b[0m: 'RWUnit' object has no attribute 'ls_reg_target'"
     ]
    }
   ],
   "source": [
    "'''ls分析和读写特征'''\n",
    "\n",
    "from newCFG.cfg import TCfg\n",
    "from newCFG.loadstore import LSProc\n",
    "from newCFG.rw_condition import RWProc, RWType\n",
    "\n",
    "lsproc = LSProc(tcfg_nodes)\n",
    "\n",
    "lds_table = lsproc.ls_table\n",
    "\n",
    "for i in lds_table:\n",
    "    i.final_addr\n",
    "    i.local_offset\n",
    "\n",
    "#for i in lds_table:\n",
    "    #print(i.ins.tokens,i.ins.final_addr)\n",
    "\n",
    "rwproc = RWProc(lds_table)\n",
    "\n",
    "Global_Tolerant_value = 0\n",
    "Global_Intolerant_value = 0\n",
    "\n",
    "for rwu in rwproc.rw_table:\n",
    "    #print(rwu.ins.tokens,rwu.find_cycle,rwu.ins.final_addr,rwu.is_torrent)\n",
    "    if rwu.is_torrent == RWType.Global_Tolerant:\n",
    "        Global_Tolerant_value += rwu.find_cycle\n",
    "        print(rwu.ins.tokens,rwu.ins.final_addr,rwu.ls_reg_target)\n",
    "    if rwu.is_torrent == RWType.Global_Intolerant:\n",
    "        Global_Intolerant_value += rwu.find_cycle\n",
    "        print(rwu.ins.tokens,rwu.ins.final_addr,rwu.ls_reg_target)\n",
    "\n",
    "print(\"全局的容错路径为：\",Global_Tolerant_value)\n",
    "print(\"全局的非容错路径为：\",Global_Intolerant_value)   "
   ]
  },
  {
   "cell_type": "code",
   "execution_count": null,
   "metadata": {},
   "outputs": [
    {
     "name": "stdout",
     "output_type": "stream",
     "text": [
      "指令 ('400608', 'b9000fe0', 'str', None, 'w0, [sp, #12]') 是否是SP True 指令地址 4195848 访存地址 0 数据宽度 32 AddrMode.ImmeOffset\n",
      "指令 ('40060c', 'f90003e1', 'str', None, 'x1, [sp]') 是否是SP True 指令地址 4195852 访存地址 0 数据宽度 32 AddrMode.Base\n",
      "指令 ('400610', 'b9001fff', 'str', None, 'wzr, [sp, #28]') 是否是SP True 指令地址 4195856 访存地址 0 数据宽度 32 AddrMode.ImmeOffset\n",
      "指令 ('400620', 'b9801fe1', 'ldrsw', None, 'x1, [sp, #28]') 是否是SP True 指令地址 4195872 访存地址 0 数据宽度 32 AddrMode.ImmeOffset\n",
      "指令 ('40062c', 'b8217802', 'str', None, 'w2, [x0, x1, lsl #2]') 是否是SP False 指令地址 4195884 访存地址 0 数据宽度 32 AddrMode.RegShift\n",
      "指令 ('400630', 'b9401fe0', 'ldr', None, 'w0, [sp, #28]') 是否是SP True 指令地址 4195888 访存地址 0 数据宽度 32 AddrMode.ImmeOffset\n",
      "指令 ('400638', 'b9001fe0', 'str', None, 'w0, [sp, #28]') 是否是SP True 指令地址 4195896 访存地址 0 数据宽度 32 AddrMode.ImmeOffset\n",
      "指令 ('40063c', 'b9401fe0', 'ldr', None, 'w0, [sp, #28]') 是否是SP True 指令地址 4195900 访存地址 0 数据宽度 32 AddrMode.ImmeOffset\n"
     ]
    }
   ],
   "source": [
    "'''cache分析'''\n",
    "\n",
    "#打印给cache分许需要的数据\n",
    "for i in lds_table:\n",
    "    print(\"指令\",i.ins.tokens,\"是否是SP\",i.is_sp,\"指令地址\",i.ins.addr.val(),\"访存地址\",i.final_addr,\"数据宽度\",i.ins.ls_data_width,i.ins.ls_addr_mode)\n"
   ]
  },
  {
   "cell_type": "code",
   "execution_count": null,
   "metadata": {},
   "outputs": [
    {
     "ename": "FileNotFoundError",
     "evalue": "[Errno 2] No such file or directory: 'C:\\\\Users\\\\13377\\\\Desktop\\\\hw-memory-master (1)\\\\hw-memory-master\\\\benchmarks\\\\objdump-D\\\\-D manytest.asm'",
     "output_type": "error",
     "traceback": [
      "\u001b[0;31m---------------------------------------------------------------------------\u001b[0m",
      "\u001b[0;31mFileNotFoundError\u001b[0m                         Traceback (most recent call last)",
      "Cell \u001b[0;32mIn[9], line 3\u001b[0m\n\u001b[1;32m      1\u001b[0m \u001b[39mfrom\u001b[39;00m \u001b[39mcache_analysis\u001b[39;00m\u001b[39m.\u001b[39;00m\u001b[39mread_segment\u001b[39;00m \u001b[39mimport\u001b[39;00m segmentReader\n\u001b[1;32m      2\u001b[0m \u001b[39mfrom\u001b[39;00m \u001b[39mnewCFG\u001b[39;00m\u001b[39m.\u001b[39;00m\u001b[39mheat_analysis\u001b[39;00m \u001b[39mimport\u001b[39;00m loop_heat\n\u001b[0;32m----> 3\u001b[0m bread \u001b[39m=\u001b[39m segmentReader(\u001b[39mr\u001b[39;49m\u001b[39m'\u001b[39;49m\u001b[39mC:\u001b[39;49m\u001b[39m\\\u001b[39;49m\u001b[39mUsers\u001b[39;49m\u001b[39m\\\u001b[39;49m\u001b[39m13377\u001b[39;49m\u001b[39m\\\u001b[39;49m\u001b[39mDesktop\u001b[39;49m\u001b[39m\\\u001b[39;49m\u001b[39mhw-memory-master (1)\u001b[39;49m\u001b[39m\\\u001b[39;49m\u001b[39mhw-memory-master\u001b[39;49m\u001b[39m\\\u001b[39;49m\u001b[39mbenchmarks\u001b[39;49m\u001b[39m\\\u001b[39;49m\u001b[39mobjdump-D\u001b[39;49m\u001b[39m\\\u001b[39;49m\u001b[39m-D manytest.asm\u001b[39;49m\u001b[39m'\u001b[39;49m)\n\u001b[1;32m      4\u001b[0m test\u001b[39m=\u001b[39mloop_heat(tcfg,lsproc,bread)\n\u001b[1;32m      5\u001b[0m test\u001b[39m.\u001b[39mloop_heat_analysis()\n",
      "File \u001b[0;32m~/workspace/project/HWMemory/Code/hw-memory/cache_analysis/read_segment.py:13\u001b[0m, in \u001b[0;36msegmentReader.__init__\u001b[0;34m(self, fp)\u001b[0m\n\u001b[1;32m     10\u001b[0m \u001b[39mself\u001b[39m\u001b[39m.\u001b[39m__fpath \u001b[39m=\u001b[39m fp\n\u001b[1;32m     12\u001b[0m \u001b[39m# 打开文件并读取内容\u001b[39;00m\n\u001b[0;32m---> 13\u001b[0m \u001b[39mwith\u001b[39;00m \u001b[39mopen\u001b[39;49m(\u001b[39mself\u001b[39;49m\u001b[39m.\u001b[39;49m__fpath, \u001b[39m'\u001b[39;49m\u001b[39mr\u001b[39;49m\u001b[39m'\u001b[39;49m, encoding\u001b[39m=\u001b[39;49m\u001b[39m'\u001b[39;49m\u001b[39mutf-8\u001b[39;49m\u001b[39m'\u001b[39;49m) \u001b[39mas\u001b[39;00m f:\n\u001b[1;32m     14\u001b[0m     \u001b[39mself\u001b[39m\u001b[39m.\u001b[39mcontent \u001b[39m=\u001b[39m f\u001b[39m.\u001b[39mread()\n",
      "\u001b[0;31mFileNotFoundError\u001b[0m: [Errno 2] No such file or directory: 'C:\\\\Users\\\\13377\\\\Desktop\\\\hw-memory-master (1)\\\\hw-memory-master\\\\benchmarks\\\\objdump-D\\\\-D manytest.asm'"
     ]
    }
   ],
   "source": [
    "from cache_analysis.read_segment import segmentReader\n",
    "from newCFG.heat_analysis import loop_heat\n",
    "bread = segmentReader(r'C:\\Users\\13377\\Desktop\\hw-memory-master (1)\\hw-memory-master\\benchmarks\\objdump-D\\-D manytest.asm')\n",
    "test=loop_heat(tcfg,lsproc,bread)\n",
    "test.loop_heat_analysis()\n",
    "\n"
   ]
  }
 ],
 "metadata": {
  "kernelspec": {
   "display_name": "Python 3",
   "language": "python",
   "name": "python3"
  },
  "language_info": {
   "codemirror_mode": {
    "name": "ipython",
    "version": 3
   },
   "file_extension": ".py",
   "mimetype": "text/x-python",
   "name": "python",
   "nbconvert_exporter": "python",
   "pygments_lexer": "ipython3",
   "version": "3.8.16"
  }
 },
 "nbformat": 4,
 "nbformat_minor": 0
}
