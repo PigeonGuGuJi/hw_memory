{
 "cells": [
  {
   "cell_type": "code",
   "execution_count": 28,
   "metadata": {
    "collapsed": true
   },
   "outputs": [],
   "source": [
    "ljy_fp = r\"C:\\Users\\13377\\Desktop\\hw-memory-master\\hw-memory-master\\benchmarks\\spec_example\\spec2006_470.lbm\\lbm_part.asm\"\n",
    "GuGuJi_fp = r\"/Users/gugujixiao/workspace/project/HWMemory/Code/newCFG/hw-memory/benchmarks/spec_example/spec2006_470.lbm/lbm_part.asm\"\n",
    "fp = ljy_fp"
   ]
  },
  {
   "cell_type": "code",
   "execution_count": 29,
   "metadata": {
    "collapsed": false
   },
   "outputs": [
    {
     "name": "stdout",
     "output_type": "stream",
     "text": [
      "_init 00000000000005e8\n",
      ".plt 0000000000000600\n",
      "__cxa_finalize@plt 0000000000000620\n",
      "__libc_start_main@plt 0000000000000630\n",
      "__gmon_start__@plt 0000000000000640\n",
      "abort@plt 0000000000000650\n",
      "printf@plt 0000000000000660\n",
      "_start 0000000000000670\n",
      "call_weak_fn 00000000000006a8\n",
      "deregister_tm_clones 00000000000006c0\n",
      "register_tm_clones 00000000000006f0\n",
      "__do_global_dtors_aux 0000000000000730\n",
      "frame_dummy 0000000000000778\n",
      "main 000000000000077c\n",
      "initializerandommesh 00000000000007dc\n",
      "swapMesh 000000000000086c\n",
      "SET_FLAG 00000000000008ac\n",
      "__libc_csu_init 0000000000000920\n",
      "__libc_csu_fini 00000000000009a0\n",
      "_fini 00000000000009a4\n"
     ]
    }
   ],
   "source": [
    "'''读指令，处理'''\n",
    "from newCFG.cfg import proc_identify\n",
    "from newCFG.isa import Instruction, AddrMode\n",
    "from typing import Tuple\n",
    "from newCFG.read_asm import AsmFileReader, StatementType\n",
    "\n",
    "reader =AsmFileReader(fp)\n",
    "\n",
    "statements = list()\n",
    "temp_stat = list()\n",
    "for s in reader.statements:\n",
    "    s: Tuple[StatementType, tuple]\n",
    "    if s[0] == StatementType.Instruction:\n",
    "        statements.append((s[0], Instruction(s[1])))\n",
    "        temp_stat.append(Instruction(s[1]))\n",
    "    elif s[0] == StatementType.SubProcedure:\n",
    "        statements.append(s)\n",
    "\n",
    "#for i in temp_stat:\n",
    "#    booltemp = i.is_ls\n",
    "#    if booltemp:\n",
    "#        if i.ls_addr_mode == AddrMode.ImmeAft:\n",
    "#            print(i.ls_reg_traget)\n",
    "\n",
    "procs = proc_identify(statements)\n",
    "for proc in procs:\n",
    "    print(proc.name, proc.beg_addr.hex_str())\n",
    "    if False and proc.name == 'main':\n",
    "        for inst in proc.instruction:\n",
    "            print(inst.addr.hex_str(), inst.opcode, inst.name, inst.operands, inst.branch_info)\n",
    "        print()"
   ]
  },
  {
   "cell_type": "code",
   "execution_count": 30,
   "metadata": {
    "collapsed": false
   },
   "outputs": [
    {
     "data": {
      "text/plain": [
       "'output\\\\procedures.svg'"
      ]
     },
     "execution_count": 30,
     "metadata": {},
     "output_type": "execute_result"
    }
   ],
   "source": [
    "'''分proc？不要动'''\n",
    "from graphviz import Digraph\n",
    "from newCFG.cfg import draw_proc, find_cycle, has_cycle, proc_draw_edges\n",
    "\n",
    "proc_draw_edges(procs)\n",
    "\n",
    "is_cycle = has_cycle(procs)\n",
    "if is_cycle:\n",
    "    c = [p.name for p in find_cycle(procs)]\n",
    "    raise RuntimeError(\"Loop between procedures is not allowed: {}.\".format(c))\n",
    "\n",
    "g: Digraph = draw_proc(procs)\n",
    "g.render(filename='procedures', directory='./output', format='svg')"
   ]
  },
  {
   "cell_type": "code",
   "execution_count": 31,
   "metadata": {
    "collapsed": false
   },
   "outputs": [
    {
     "data": {
      "text/plain": [
       "'output\\\\call_graph.svg'"
      ]
     },
     "execution_count": 31,
     "metadata": {},
     "output_type": "execute_result"
    }
   ],
   "source": [
    "'''处理call_graph，不要动'''\n",
    "from newCFG.cfg import CallGraph\n",
    "\n",
    "call_graph = CallGraph(procs)\n",
    "\n",
    "g = call_graph.draw_graph()\n",
    "g.render(filename='call_graph', directory='./output', format='svg')"
   ]
  },
  {
   "cell_type": "code",
   "execution_count": 32,
   "metadata": {
    "collapsed": false
   },
   "outputs": [],
   "source": [
    "'''生成TCFG和loop信息'''\n",
    "from newCFG.cfg import TCfg\n",
    "import random\n",
    "\n",
    "tcfg = TCfg(call_graph)\n",
    "tcfg.build_tcfg()\n",
    "\n",
    "tcfg_nodes = tcfg.all_nodes\n",
    "tcfg_edges = tcfg.edges\n",
    "\n",
    "g = tcfg.draw_graph()\n",
    "g.render(filename='tcfg', directory='./output', format='svg')\n",
    "\n",
    "#for node in tcfg_nodes:\n",
    "#    node.set_rw_condition()\n",
    "#    #print(node.name, node.base_proc.name, node.inst_range)\n",
    "#    print(node.name, node.base_proc.name)\n",
    "#    print(\"出边\")\n",
    "#    for i in node.outgoing_edge:\n",
    "#        print(i.dst.name)\n",
    "#    print(\"入边\")\n",
    "#    for i in node.incoming_edge:\n",
    "#        print(i.src.name)\n",
    "#\n",
    "#    print()\n",
    "tcfg.build_loop_hrchy()\n",
    "\n",
    "\n",
    "\n",
    "#for n in tcfg_nodes:\n",
    "#    print(n.name,\"n的值\",n.node_value)\n",
    "        \n",
    "\n",
    "#for e in tcfg_edges:\n",
    "#    print(e.src.name,e.dst.name,e.is_backEdge)\n",
    "\n",
    "\n"
   ]
  },
  {
   "cell_type": "code",
   "execution_count": 33,
   "metadata": {},
   "outputs": [
    {
     "name": "stdout",
     "output_type": "stream",
     "text": [
      "n0 n3 1.0\n",
      "n13 n1 0.5\n",
      "n1 n14 0.5\n",
      "n14 n2 0.5\n",
      "n3 n12 1.0\n",
      "n4 n10 0.5\n",
      "n5 n8 0.25\n",
      "n6 n15 0.125\n",
      "n15 n7 0.125\n",
      "n7 n8 2\n",
      "n8 n6 0.125\n",
      "n8 n9 0.125\n",
      "n9 n10 2\n",
      "n10 n5 0.25\n",
      "n10 n11 0.25\n",
      "n11 n12 2\n",
      "n12 n4 0.5\n",
      "n12 n13 0.5\n"
     ]
    }
   ],
   "source": [
    "'''设置node和edge上的的value'''\n",
    "\n",
    "for l in tcfg.loops:\n",
    "    l.back_edge.is_backEdge = True\n",
    "for n in tcfg_nodes:\n",
    "    n.set_rw_data()\n",
    "\n",
    "temp_bool = True\n",
    "\n",
    "while temp_bool:\n",
    "    no_end = False\n",
    "\n",
    "    for n in tcfg_nodes:\n",
    "        n.set_rw_value()\n",
    "        if not n.no_out:\n",
    "            no_end = True\n",
    "        temp_bool = no_end\n",
    "\n",
    "for e in tcfg_edges:\n",
    "    if e.is_backEdge:\n",
    "        e.loop_value = random.randint(0,10)\n",
    "        e.edge_value = 2\n",
    "\n",
    "for e in tcfg_edges:\n",
    "    print(e.src.name,e.dst.name,e.edge_value)"
   ]
  },
  {
   "cell_type": "code",
   "execution_count": 34,
   "metadata": {},
   "outputs": [
    {
     "name": "stdout",
     "output_type": "stream",
     "text": [
      "('784', 'b9001fe0', 'str', None, 'w0, [sp, #28]') 0 0 RWType.Unknown\n",
      "('788', 'f9000be1', 'str', None, 'x1, [sp, #16]') 0 0 RWType.Unknown\n",
      "('790', 'f947fc00', 'ldr', None, 'x0, [x0, #4088]') 5 69624 RWType.Unknown\n",
      "('798', 'fd000000', 'str', None, 'd0, [x0]') 7 65536 RWType.Unknown\n",
      "('7a0', 'f947fc00', 'ldr', None, 'x0, [x0, #4088]') 4 69624 RWType.Tolerant\n",
      "('7a4', 'f900041f', 'str', None, 'xzr, [x0, #8]') 10 65544 RWType.Unknown\n",
      "('7ac', 'f947fc00', 'ldr', None, 'x0, [x0, #4088]') 3 69624 RWType.Tolerant\n",
      "('7b8', 'f947fc00', 'ldr', None, 'x0, [x0, #4088]') 2.5 69624 RWType.Unknown\n",
      "('7c0', 'fd6f4000', 'ldr', None, 'd0, [x0, #24192]') 3.5 89976 RWType.Unknown\n",
      "('7e4', 'f9000fe0', 'str', None, 'x0, [sp, #24]') 0 0 RWType.Unknown\n",
      "('7e8', 'b9002fff', 'str', None, 'wzr, [sp, #44]') 0 0 RWType.Unknown\n",
      "('7f0', 'b9002bff', 'str', None, 'wzr, [sp, #40]') 0 0 RWType.Unknown\n",
      "('7f8', 'b90027ff', 'str', None, 'wzr, [sp, #36]') 0 0 RWType.Unknown\n",
      "('800', 'b9402fe3', 'ldr', None, 'w3, [sp, #44]') 0 0 RWType.Unknown\n",
      "('804', 'b9402be2', 'ldr', None, 'w2, [sp, #40]') 0 0 RWType.Unknown\n",
      "('808', 'b94027e1', 'ldr', None, 'w1, [sp, #36]') 0 0 RWType.Unknown\n",
      "('80c', 'f9400fe0', 'ldr', None, 'x0, [sp, #24]') 0 0 RWType.Unknown\n",
      "('814', 'b94027e0', 'ldr', None, 'w0, [sp, #36]') 0 0 RWType.Unknown\n",
      "('81c', 'b90027e0', 'str', None, 'w0, [sp, #36]') 0 0 RWType.Unknown\n",
      "('820', 'b94027e0', 'ldr', None, 'w0, [sp, #36]') 0 0 RWType.Unknown\n",
      "('82c', 'b9402be0', 'ldr', None, 'w0, [sp, #40]') 0 0 RWType.Unknown\n",
      "('834', 'b9002be0', 'str', None, 'w0, [sp, #40]') 0 0 RWType.Unknown\n",
      "('838', 'b9402be0', 'ldr', None, 'w0, [sp, #40]') 0 0 RWType.Unknown\n",
      "('844', 'b9402fe0', 'ldr', None, 'w0, [sp, #44]') 0 0 RWType.Unknown\n",
      "('84c', 'b9002fe0', 'str', None, 'w0, [sp, #44]') 0 0 RWType.Unknown\n",
      "('850', 'b9402fe0', 'ldr', None, 'w0, [sp, #44]') 0 0 RWType.Unknown\n",
      "('664', 'f947da11', 'ldr', None, 'x17, [x16, #4016]') 4.0 69552 RWType.Unknown\n",
      "('8b0', 'f9000fe0', 'str', None, 'x0, [sp, #24]') 0 0 RWType.Unknown\n",
      "('8b4', 'b90017e1', 'str', None, 'w1, [sp, #20]') 0 0 RWType.Unknown\n",
      "('8b8', 'b90013e2', 'str', None, 'w2, [sp, #16]') 0 0 RWType.Unknown\n",
      "('8bc', 'b9000fe3', 'str', None, 'w3, [sp, #12]') 0 0 RWType.Unknown\n",
      "('8c0', 'b9400fe1', 'ldr', None, 'w1, [sp, #12]') 0 0 RWType.Unknown\n",
      "('8cc', 'b94017e2', 'ldr', None, 'w2, [sp, #20]') 0 0 RWType.Unknown\n",
      "('8e0', 'b9002fe0', 'str', None, 'w0, [sp, #44]') 0 0 RWType.Unknown\n",
      "('8e4', 'b94017e1', 'ldr', None, 'w1, [sp, #20]') 0 0 RWType.Unknown\n",
      "('8e8', 'b94013e0', 'ldr', None, 'w0, [sp, #16]') 0 0 RWType.Unknown\n",
      "('8f0', 'b9400fe0', 'ldr', None, 'w0, [sp, #12]') 0 0 RWType.Unknown\n",
      "('8f8', 'b9802fe0', 'ldrsw', None, 'x0, [sp, #44]') 0 0 RWType.Unknown\n",
      "('900', 'f9400fe2', 'ldr', None, 'x2, [sp, #24]') 0 0 RWType.Unknown\n",
      "('90c', 'fd000000', 'str', None, 'd0, [x0]') 3.625 65536 RWType.Unknown\n"
     ]
    }
   ],
   "source": [
    "'''ls分析和读写特征'''\n",
    "\n",
    "from newCFG.cfg import TCfg\n",
    "from newCFG.loadstore import LSProc\n",
    "from newCFG.rw_condition import RWProc\n",
    "\n",
    "lsproc = LSProc(tcfg_nodes)\n",
    "\n",
    "lds_table = lsproc.ls_table\n",
    "\n",
    "\n",
    "\n",
    "\n",
    "for i in lds_table:\n",
    "    i.final_addr\n",
    "\n",
    "rwproc = RWProc(lds_table)\n",
    "\n",
    "for rwu in rwproc.rw_table:\n",
    "    print(rwu.ins.tokens,rwu.find_cycle,rwu.ins.final_addr,rwu.is_torrent)"
   ]
  },
  {
   "cell_type": "code",
   "execution_count": 35,
   "metadata": {},
   "outputs": [
    {
     "data": {
      "text/plain": [
       "'cache分析'"
      ]
     },
     "execution_count": 35,
     "metadata": {},
     "output_type": "execute_result"
    }
   ],
   "source": [
    "'''cache分析'''\n",
    "\n",
    "#打印给cache分许需要的数据\n",
    "#for i in lds_table:\n",
    "#    print(\"指令\",i.ins.tokens,\"是否是SP\",i.is_sp,\"指令地址\",i.ins.addr.val(),\"访存地址\",i.final_addr)\n"
   ]
  },
  {
   "cell_type": "code",
   "execution_count": 37,
   "metadata": {},
   "outputs": [
    {
     "name": "stdout",
     "output_type": "stream",
     "text": [
      "l2 (in l1 children []): n7->n8 ['n15', 'n7', 'n6', 'n8']\n",
      "l1 (in l0 children ['l2']): n9->n10 ['n8', 'n15', 'n7', 'n5', 'n10', 'n9', 'n6']\n",
      "l0 (in None children ['l1']): n11->n12 ['n8', 'n15', 'n7', 'n5', 'n10', 'n12', 'n11', 'n9', 'n6', 'n4']\n",
      "n0 None\n",
      "n1 None\n",
      "n2 None\n",
      "n3 None\n",
      "n4 l0\n",
      "n5 l1\n",
      "n6 l2\n",
      "n7 l2\n",
      "n8 l2\n",
      "n9 l1\n",
      "n10 l1\n",
      "n11 l0\n",
      "n12 l0\n",
      "n13 None\n",
      "n14 None\n",
      "n15 l2\n",
      "n16 None\n",
      "n0\n",
      "load {69624: 6}\n",
      "store {0: 4, 65536: 2, 65544: 2}\n",
      "n1\n",
      "load {69624: 2, 89976: 2}\n",
      "store {}\n",
      "n2\n",
      "load {}\n",
      "store {}\n",
      "n3\n",
      "load {}\n",
      "store {0: 4}\n",
      "n4\n",
      "load {}\n",
      "store {0: 2}\n",
      "n5\n",
      "load {}\n",
      "store {0: 2}\n",
      "n6\n",
      "load {0: 8}\n",
      "store {}\n",
      "n7\n",
      "load {0: 2}\n",
      "store {0: 2}\n",
      "n8\n",
      "load {0: 2}\n",
      "store {}\n",
      "n9\n",
      "load {0: 2}\n",
      "store {0: 2}\n",
      "n10\n",
      "load {0: 2}\n",
      "store {}\n",
      "n11\n",
      "load {0: 2}\n",
      "store {0: 2}\n",
      "n12\n",
      "load {0: 2}\n",
      "store {}\n",
      "n13\n",
      "load {}\n",
      "store {}\n",
      "n14\n",
      "load {69552: 2}\n",
      "store {}\n",
      "n15\n",
      "load {0: 14}\n",
      "store {0: 10, 65536: 2}\n",
      "n16\n",
      "load {}\n",
      "store {}\n",
      "l2 (in l1 children []): n7->n8 ['n15', 'n7', 'n6', 'n8']\n",
      "n15 {0: 14} {0: 10, 65536: 2}\n",
      "n7 {0: 2} {0: 2}\n",
      "n6 {0: 8} {}\n",
      "n8 {0: 2} {}\n",
      "l2 ld_heat_analysis {0: 39} st_heat_analysis {0: 18, 65536: 3}\n",
      "l1 (in l0 children ['l2']): n9->n10 ['n8', 'n15', 'n7', 'n5', 'n10', 'n9', 'n6']\n",
      "n8 {0: 2} {}\n",
      "n15 {0: 14} {0: 10, 65536: 2}\n",
      "n7 {0: 2} {0: 2}\n",
      "n5 {} {0: 2}\n",
      "n10 {0: 2} {}\n",
      "n9 {0: 2} {0: 2}\n",
      "n6 {0: 8} {}\n",
      "l1 ld_heat_analysis {0: 45} st_heat_analysis {0: 24, 65536: 3}\n",
      "l0 (in None children ['l1']): n11->n12 ['n8', 'n15', 'n7', 'n5', 'n10', 'n12', 'n11', 'n9', 'n6', 'n4']\n",
      "n8 {0: 2} {}\n",
      "n15 {0: 14} {0: 10, 65536: 2}\n",
      "n7 {0: 2} {0: 2}\n",
      "n5 {} {0: 2}\n",
      "n10 {0: 2} {}\n",
      "n12 {0: 2} {}\n",
      "n11 {0: 2} {0: 2}\n",
      "n9 {0: 2} {0: 2}\n",
      "n6 {0: 8} {}\n",
      "n4 {} {0: 2}\n",
      "l0 ld_heat_analysis {0: 51} st_heat_analysis {0: 30, 65536: 3}\n"
     ]
    }
   ],
   "source": [
    "'''热度分析'''\n",
    "for l in tcfg.loops:\n",
    "    print(\"{} (in {} children {}): {}->{} {}\".format(l.name, l.father.name if l.father is not None else \"None\", [sub_l.name for sub_l in l.children], l.back_edge.src.name, l.back_edge.dst.name, [n.name for n in l.all_nodes]))\n",
    "    l.back_edge.is_backEdge = True\n",
    "for n in tcfg.all_nodes:\n",
    "    temp = n.inside_loop.name if n.inside_loop is not None else 'None'\n",
    "    print(\"{} {}\".format(n.name, temp))\n",
    "#将对应的指令添加到node的热度信息表中\n",
    "for i in lds_table:\n",
    "    if i.ins.name[0:1] == \"l\":\n",
    "        #print(i.ins.tokens)\n",
    "        i.node.loadlist.append((i.ins,i.final_addr))\n",
    "    elif i.ins.name[0:1] == \"s\":\n",
    "        i.node.storelist.append((i.ins,i.final_addr))\n",
    "\n",
    "for node in tcfg_nodes:\n",
    "    for i in node.loadlist:\n",
    "        node.heat_ld_result[i[1]]=0\n",
    "    for i in node.loadlist:\n",
    "        node.heat_ld_result[i[1]]+=1\n",
    "    for i in node.storelist:\n",
    "        node.heat_st_result[i[1]]=0\n",
    "    for i in node.storelist:\n",
    "        node.heat_st_result[i[1]]+=1\n",
    "for node in tcfg_nodes:\n",
    "    print(node.name)\n",
    "    print('load',node.heat_ld_result)\n",
    "    print('store',node.heat_st_result)\n",
    "for l in tcfg.loops:\n",
    "    print(\"{} (in {} children {}): {}->{} {}\".format(l.name, l.father.name if l.father is not None else \"None\", [sub_l.name for sub_l in l.children], l.back_edge.src.name, l.back_edge.dst.name, [n.name for n in l.all_nodes]))\n",
    "    l.back_edge.is_backEdge = True\n",
    "    for j in l.all_nodes:\n",
    "        print(j.name,j.heat_ld_result,j.heat_st_result)\n",
    "        for key,value in j.heat_ld_result.items():\n",
    "            if key in l.loop_ld_heat:\n",
    "                l.loop_ld_heat[key]+=value\n",
    "            else:\n",
    "                l.loop_ld_heat[key]=value\n",
    "        for key,value in j.heat_st_result.items():\n",
    "            if key in l.loop_st_heat:\n",
    "                l.loop_st_heat[key]+=value\n",
    "            else:\n",
    "                l.loop_st_heat[key]=value\n",
    "    \n",
    "    print(l.name,'ld_heat_analysis',l.loop_ld_heat,'st_heat_analysis',l.loop_st_heat)\n"
   ]
  }
 ],
 "metadata": {
  "kernelspec": {
   "display_name": "Python 3",
   "language": "python",
   "name": "python3"
  },
  "language_info": {
   "codemirror_mode": {
    "name": "ipython",
    "version": 3
   },
   "file_extension": ".py",
   "mimetype": "text/x-python",
   "name": "python",
   "nbconvert_exporter": "python",
   "pygments_lexer": "ipython3",
   "version": "3.9.12"
  }
 },
 "nbformat": 4,
 "nbformat_minor": 0
}
