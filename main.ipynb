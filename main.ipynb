{
 "cells": [
  {
   "cell_type": "code",
   "execution_count": 1,
   "metadata": {
    "collapsed": true
   },
   "outputs": [],
   "source": [
    "fp = r\"/Users/gugujixiao/workspace/project/HWMemory/Code/newCFG/hw-memory/benchmarks/spec_example/spec2006_470.lbm/lbm_part.asm\""
   ]
  },
  {
   "cell_type": "code",
   "execution_count": 2,
   "metadata": {
    "collapsed": false
   },
   "outputs": [
    {
     "name": "stdout",
     "output_type": "stream",
     "text": [
      "_init 00000000000005e8\n",
      ".plt 0000000000000600\n",
      "__cxa_finalize@plt 0000000000000620\n",
      "__libc_start_main@plt 0000000000000630\n",
      "__gmon_start__@plt 0000000000000640\n",
      "abort@plt 0000000000000650\n",
      "printf@plt 0000000000000660\n",
      "_start 0000000000000670\n",
      "call_weak_fn 00000000000006a8\n",
      "deregister_tm_clones 00000000000006c0\n",
      "register_tm_clones 00000000000006f0\n",
      "__do_global_dtors_aux 0000000000000730\n",
      "frame_dummy 0000000000000778\n",
      "main 000000000000077c\n",
      "initializerandommesh 00000000000007dc\n",
      "swapMesh 000000000000086c\n",
      "SET_FLAG 00000000000008ac\n",
      "__libc_csu_init 0000000000000920\n",
      "__libc_csu_fini 00000000000009a0\n",
      "_fini 00000000000009a4\n"
     ]
    }
   ],
   "source": [
    "from newCFG.cfg import proc_identify\n",
    "from newCFG.isa import Instruction, AddrMode\n",
    "from typing import Tuple\n",
    "from newCFG.read_asm import AsmFileReader, StatementType\n",
    "\n",
    "reader =AsmFileReader(fp)\n",
    "\n",
    "statements = list()\n",
    "temp_stat = list()\n",
    "for s in reader.statements:\n",
    "    s: Tuple[StatementType, tuple]\n",
    "    if s[0] == StatementType.Instruction:\n",
    "        statements.append((s[0], Instruction(s[1])))\n",
    "        temp_stat.append(Instruction(s[1]))\n",
    "    elif s[0] == StatementType.SubProcedure:\n",
    "        statements.append(s)\n",
    "\n",
    "#for i in temp_stat:\n",
    "#    booltemp = i.is_ls\n",
    "#    if booltemp:\n",
    "#        if i.ls_addr_mode == AddrMode.ImmeAft:\n",
    "#            print(i.ls_reg_traget)\n",
    "\n",
    "procs = proc_identify(statements)\n",
    "for proc in procs:\n",
    "    print(proc.name, proc.beg_addr.hex_str())\n",
    "    if False and proc.name == 'main':\n",
    "        for inst in proc.instruction:\n",
    "            print(inst.addr.hex_str(), inst.opcode, inst.name, inst.operands, inst.branch_info)\n",
    "        print()"
   ]
  },
  {
   "cell_type": "code",
   "execution_count": 3,
   "metadata": {
    "collapsed": false
   },
   "outputs": [
    {
     "data": {
      "text/plain": [
       "'output/procedures.svg'"
      ]
     },
     "execution_count": 3,
     "metadata": {},
     "output_type": "execute_result"
    }
   ],
   "source": [
    "from graphviz import Digraph\n",
    "from newCFG.cfg import draw_proc, find_cycle, has_cycle, proc_draw_edges\n",
    "\n",
    "proc_draw_edges(procs)\n",
    "\n",
    "is_cycle = has_cycle(procs)\n",
    "if is_cycle:\n",
    "    c = [p.name for p in find_cycle(procs)]\n",
    "    raise RuntimeError(\"Loop between procedures is not allowed: {}.\".format(c))\n",
    "\n",
    "g: Digraph = draw_proc(procs)\n",
    "g.render(filename='procedures', directory='./output', format='svg')"
   ]
  },
  {
   "cell_type": "code",
   "execution_count": 4,
   "metadata": {
    "collapsed": false
   },
   "outputs": [
    {
     "data": {
      "text/plain": [
       "'output/call_graph.svg'"
      ]
     },
     "execution_count": 4,
     "metadata": {},
     "output_type": "execute_result"
    }
   ],
   "source": [
    "from newCFG.cfg import CallGraph\n",
    "\n",
    "call_graph = CallGraph(procs)\n",
    "\n",
    "g = call_graph.draw_graph()\n",
    "g.render(filename='call_graph', directory='./output', format='svg')"
   ]
  },
  {
   "cell_type": "code",
   "execution_count": 5,
   "metadata": {
    "collapsed": false
   },
   "outputs": [
    {
     "name": "stdout",
     "output_type": "stream",
     "text": [
      "n0 n3 1.0\n",
      "n13 n1 0.5\n",
      "n1 n14 0.5\n",
      "n14 n2 0.5\n",
      "n3 n12 1.0\n",
      "n4 n10 0.5\n",
      "n5 n8 0.25\n",
      "n6 n15 0.125\n",
      "n15 n7 0.125\n",
      "n7 n8 1\n",
      "n8 n6 0.125\n",
      "n8 n9 0.125\n",
      "n9 n10 1\n",
      "n10 n5 0.25\n",
      "n10 n11 0.25\n",
      "n11 n12 1\n",
      "n12 n4 0.5\n",
      "n12 n13 0.5\n",
      "n0 n的值 1 n的出边 1\n",
      "n1 n的值 0.5 n的出边 1\n",
      "n2 n的值 0.5 n的出边 0\n",
      "n3 n的值 1.0 n的出边 1\n",
      "n4 n的值 0.5 n的出边 1\n",
      "n5 n的值 0.25 n的出边 1\n",
      "n6 n的值 0.125 n的出边 1\n",
      "n7 n的值 0.125 n的出边 0\n",
      "n8 n的值 0.25 n的出边 2\n",
      "n9 n的值 0.125 n的出边 0\n",
      "n10 n的值 0.5 n的出边 2\n",
      "n11 n的值 0.25 n的出边 0\n",
      "n12 n的值 1.0 n的出边 2\n",
      "n13 n的值 0.5 n的出边 1\n",
      "n14 n的值 0.5 n的出边 1\n",
      "n15 n的值 0.125 n的出边 1\n",
      "n16 n的值 1 n的出边 0\n"
     ]
    }
   ],
   "source": [
    "from newCFG.cfg import TCfg\n",
    "import random\n",
    "\n",
    "tcfg = TCfg(call_graph)\n",
    "tcfg.build_tcfg()\n",
    "\n",
    "tcfg_nodes = tcfg.all_nodes\n",
    "tcfg_edges = tcfg.edges\n",
    "\n",
    "g = tcfg.draw_graph()\n",
    "g.render(filename='tcfg', directory='./output', format='svg')\n",
    "\n",
    "#for node in tcfg_nodes:\n",
    "#    node.set_rw_condition()\n",
    "#    #print(node.name, node.base_proc.name, node.inst_range)\n",
    "#    print(node.name, node.base_proc.name)\n",
    "#    print(\"出边\")\n",
    "#    for i in node.outgoing_edge:\n",
    "#        print(i.dst.name)\n",
    "#    print(\"入边\")\n",
    "#    for i in node.incoming_edge:\n",
    "#        print(i.src.name)\n",
    "#\n",
    "#    print()\n",
    "\n",
    "tcfg.build_loop_hrchy()\n",
    "for l in tcfg.loops:\n",
    "    #print(\"{} (in {} children {}): {}->{} {}\".format(l.name, l.father.name if l.father is not None else \"None\", [sub_l.name for sub_l in l.children], l.back_edge.src.name, l.back_edge.dst.name, [n.name for n in l.all_nodes]))\n",
    "    #print(l.back_edge.src.name,l.back_edge.dst.name)\n",
    "    l.back_edge.is_backEdge = True\n",
    "\n",
    "for e in tcfg_edges:\n",
    "    if e.is_backEdge:\n",
    "        e.loop_value = random.randint(0,10)\n",
    "        e.edge_value = 1\n",
    "\n",
    "for n in tcfg_nodes:\n",
    "    n.set_rw_data()\n",
    "\n",
    "temp_bool = True\n",
    "\n",
    "while temp_bool:\n",
    "    no_end = False\n",
    "\n",
    "    for n in tcfg_nodes:\n",
    "        n.set_rw_value()\n",
    "        if not n.no_out:\n",
    "            no_end = True\n",
    "        temp_bool = no_end\n",
    "\n",
    "\n",
    "#for e in tcfg_edges:\n",
    "#    print(e.src.name,e.dst.name,e.edge_value)\n",
    "\n",
    "\n",
    "for n in tcfg_nodes:\n",
    "    print(n.name,\"n的值\",n.node_value,\"n的出边\",n.out_num)\n",
    "        \n",
    "\n",
    "#for e in tcfg_edges:\n",
    "#    print(e.src.name,e.dst.name,e.is_backEdge)\n",
    "\n",
    "#for n in tcfg.all_nodes:\n",
    "#    temp = n.inside_loop.name if n.inside_loop is not None else 'None'\n",
    "#    print(\"{} {}\".format(n.name, temp))\n"
   ]
  },
  {
   "cell_type": "code",
   "execution_count": null,
   "metadata": {},
   "outputs": [],
   "source": []
  }
 ],
 "metadata": {
  "kernelspec": {
   "display_name": "Python 3",
   "language": "python",
   "name": "python3"
  },
  "language_info": {
   "codemirror_mode": {
    "name": "ipython",
    "version": 3
   },
   "file_extension": ".py",
   "mimetype": "text/x-python",
   "name": "python",
   "nbconvert_exporter": "python",
   "pygments_lexer": "ipython3",
   "version": "3.8.16"
  }
 },
 "nbformat": 4,
 "nbformat_minor": 0
}
