{
 "cells": [
  {
   "cell_type": "code",
   "execution_count": 17,
   "metadata": {
    "collapsed": true
   },
   "outputs": [],
   "source": [
    "fp = r\"C:\\Users\\13377\\Desktop\\hw-memory-master (1)\\hw-memory-master\\benchmarks\\spec_example\\spec2006_470.lbm\\lbm_part.asm\""
   ]
  },
  {
   "cell_type": "code",
   "execution_count": 18,
   "metadata": {
    "collapsed": false
   },
   "outputs": [
    {
     "name": "stdout",
     "output_type": "stream",
     "text": [
      "_init 00000000000005e8\n",
      ".plt 0000000000000600\n",
      "__cxa_finalize@plt 0000000000000620\n",
      "__libc_start_main@plt 0000000000000630\n",
      "__gmon_start__@plt 0000000000000640\n",
      "abort@plt 0000000000000650\n",
      "printf@plt 0000000000000660\n",
      "_start 0000000000000670\n",
      "call_weak_fn 00000000000006a8\n",
      "deregister_tm_clones 00000000000006c0\n",
      "register_tm_clones 00000000000006f0\n",
      "__do_global_dtors_aux 0000000000000730\n",
      "frame_dummy 0000000000000778\n",
      "main 000000000000077c\n",
      "initializerandommesh 00000000000007dc\n",
      "swapMesh 000000000000086c\n",
      "SET_FLAG 00000000000008ac\n",
      "__libc_csu_init 0000000000000920\n",
      "__libc_csu_fini 00000000000009a0\n",
      "_fini 00000000000009a4\n"
     ]
    }
   ],
   "source": [
    "from newCFG.cfg import proc_identify\n",
    "from newCFG.isa import Instruction, AddrMode\n",
    "from typing import Tuple\n",
    "from newCFG.read_asm import AsmFileReader, StatementType\n",
    "\n",
    "reader =AsmFileReader(fp)\n",
    "\n",
    "statements = list()\n",
    "temp_stat = list()\n",
    "for s in reader.statements:\n",
    "    s: Tuple[StatementType, tuple]\n",
    "    if s[0] == StatementType.Instruction:\n",
    "        statements.append((s[0], Instruction(s[1])))\n",
    "        temp_stat.append(Instruction(s[1]))\n",
    "    elif s[0] == StatementType.SubProcedure:\n",
    "        statements.append(s)\n",
    "\n",
    "#for i in temp_stat:\n",
    "#    booltemp = i.is_ls\n",
    "#    if booltemp:\n",
    "#        if i.ls_addr_mode == AddrMode.ImmeAft:\n",
    "#            print(i.ls_reg_traget)\n",
    "\n",
    "procs = proc_identify(statements)\n",
    "for proc in procs:\n",
    "    print(proc.name, proc.beg_addr.hex_str())\n",
    "    if False and proc.name == 'main':\n",
    "        for inst in proc.instruction:\n",
    "            print(inst.addr.hex_str(), inst.opcode, inst.name, inst.operands, inst.branch_info)\n",
    "        print()"
   ]
  },
  {
   "cell_type": "code",
   "execution_count": 19,
   "metadata": {
    "collapsed": false
   },
   "outputs": [
    {
     "data": {
      "text/plain": [
       "'output\\\\procedures.svg'"
      ]
     },
     "execution_count": 19,
     "metadata": {},
     "output_type": "execute_result"
    }
   ],
   "source": [
    "from graphviz import Digraph\n",
    "from newCFG.cfg import draw_proc, find_cycle, has_cycle, proc_draw_edges\n",
    "\n",
    "proc_draw_edges(procs)\n",
    "\n",
    "is_cycle = has_cycle(procs)\n",
    "if is_cycle:\n",
    "    c = [p.name for p in find_cycle(procs)]\n",
    "    raise RuntimeError(\"Loop between procedures is not allowed: {}.\".format(c))\n",
    "\n",
    "g: Digraph = draw_proc(procs)\n",
    "g.render(filename='procedures', directory='./output', format='svg')"
   ]
  },
  {
   "cell_type": "code",
   "execution_count": 20,
   "metadata": {
    "collapsed": false
   },
   "outputs": [
    {
     "data": {
      "text/plain": [
       "'output\\\\call_graph.svg'"
      ]
     },
     "execution_count": 20,
     "metadata": {},
     "output_type": "execute_result"
    }
   ],
   "source": [
    "from newCFG.cfg import CallGraph\n",
    "\n",
    "call_graph = CallGraph(procs)\n",
    "\n",
    "g = call_graph.draw_graph()\n",
    "g.render(filename='call_graph', directory='./output', format='svg')"
   ]
  },
  {
   "cell_type": "code",
   "execution_count": 21,
   "metadata": {
    "collapsed": false
   },
   "outputs": [
    {
     "name": "stdout",
     "output_type": "stream",
     "text": [
      "n0 n3 1.0\n",
      "n13 n1 0.5\n",
      "n1 n14 0.5\n",
      "n14 n2 0.5\n",
      "n3 n12 1.0\n",
      "n4 n10 0.5\n",
      "n5 n8 0.25\n",
      "n6 n15 0.125\n",
      "n15 n7 0.125\n",
      "n7 n8 2\n",
      "n8 n6 0.125\n",
      "n8 n9 0.125\n",
      "n9 n10 2\n",
      "n10 n5 0.25\n",
      "n10 n11 0.25\n",
      "n11 n12 2\n",
      "n12 n4 0.5\n",
      "n12 n13 0.5\n"
     ]
    }
   ],
   "source": [
    "from newCFG.cfg import TCfg\n",
    "import random\n",
    "\n",
    "tcfg = TCfg(call_graph)\n",
    "tcfg.build_tcfg()\n",
    "\n",
    "tcfg_nodes = tcfg.all_nodes\n",
    "tcfg_edges = tcfg.edges\n",
    "\n",
    "g = tcfg.draw_graph()\n",
    "g.render(filename='tcfg', directory='./output', format='svg')\n",
    "\n",
    "#for node in tcfg_nodes:\n",
    "#    node.set_rw_condition()\n",
    "#    #print(node.name, node.base_proc.name, node.inst_range)\n",
    "#    print(node.name, node.base_proc.name)\n",
    "#    print(\"出边\")\n",
    "#    for i in node.outgoing_edge:\n",
    "#        print(i.dst.name)\n",
    "#    print(\"入边\")\n",
    "#    for i in node.incoming_edge:\n",
    "#        print(i.src.name)\n",
    "#\n",
    "#    print()\n",
    "tcfg.build_loop_hrchy()\n",
    "for l in tcfg.loops:\n",
    "    l.back_edge.is_backEdge = True\n",
    "for n in tcfg_nodes:\n",
    "    n.set_rw_data()\n",
    "\n",
    "temp_bool = True\n",
    "\n",
    "while temp_bool:\n",
    "    no_end = False\n",
    "\n",
    "    for n in tcfg_nodes:\n",
    "        n.set_rw_value()\n",
    "        if not n.no_out:\n",
    "            no_end = True\n",
    "        temp_bool = no_end\n",
    "\n",
    "for e in tcfg_edges:\n",
    "    if e.is_backEdge:\n",
    "        e.loop_value = random.randint(0,10)\n",
    "        e.edge_value = 2\n",
    "\n",
    "for e in tcfg_edges:\n",
    "    print(e.src.name,e.dst.name,e.edge_value)\n",
    "\n",
    "\n",
    "#for n in tcfg_nodes:\n",
    "#    print(n.name,\"n的值\",n.node_value)\n",
    "        \n",
    "\n",
    "#for e in tcfg_edges:\n",
    "#    print(e.src.name,e.dst.name,e.is_backEdge)\n",
    "\n",
    "\n"
   ]
  },
  {
   "cell_type": "code",
   "execution_count": null,
   "metadata": {},
   "outputs": [],
   "source": []
  },
  {
   "cell_type": "code",
   "execution_count": 22,
   "metadata": {},
   "outputs": [
    {
     "name": "stdout",
     "output_type": "stream",
     "text": [
      "指令 ('784', 'b9001fe0', 'str', None, 'w0, [sp, #28]') 是否是SP True 指令地址 1924 访存地址 0\n",
      "指令 ('788', 'f9000be1', 'str', None, 'x1, [sp, #16]') 是否是SP True 指令地址 1928 访存地址 0\n",
      "指令 ('790', 'f947fc00', 'ldr', None, 'x0, [x0, #4088]') 是否是SP False 指令地址 1936 访存地址 69624\n",
      "指令 ('798', 'fd000000', 'str', None, 'd0, [x0]') 是否是SP False 指令地址 1944 访存地址 65536\n",
      "指令 ('7a0', 'f947fc00', 'ldr', None, 'x0, [x0, #4088]') 是否是SP False 指令地址 1952 访存地址 69624\n",
      "指令 ('7a4', 'f900041f', 'str', None, 'xzr, [x0, #8]') 是否是SP False 指令地址 1956 访存地址 65544\n",
      "指令 ('7ac', 'f947fc00', 'ldr', None, 'x0, [x0, #4088]') 是否是SP False 指令地址 1964 访存地址 69624\n",
      "指令 ('7b8', 'f947fc00', 'ldr', None, 'x0, [x0, #4088]') 是否是SP False 指令地址 1976 访存地址 69624\n",
      "指令 ('7c0', 'fd6f4000', 'ldr', None, 'd0, [x0, #24192]') 是否是SP False 指令地址 1984 访存地址 89976\n",
      "指令 ('7e4', 'f9000fe0', 'str', None, 'x0, [sp, #24]') 是否是SP True 指令地址 2020 访存地址 0\n",
      "指令 ('7e8', 'b9002fff', 'str', None, 'wzr, [sp, #44]') 是否是SP True 指令地址 2024 访存地址 0\n",
      "指令 ('7f0', 'b9002bff', 'str', None, 'wzr, [sp, #40]') 是否是SP True 指令地址 2032 访存地址 0\n",
      "指令 ('7f8', 'b90027ff', 'str', None, 'wzr, [sp, #36]') 是否是SP True 指令地址 2040 访存地址 0\n",
      "指令 ('800', 'b9402fe3', 'ldr', None, 'w3, [sp, #44]') 是否是SP True 指令地址 2048 访存地址 0\n",
      "指令 ('804', 'b9402be2', 'ldr', None, 'w2, [sp, #40]') 是否是SP True 指令地址 2052 访存地址 0\n",
      "指令 ('808', 'b94027e1', 'ldr', None, 'w1, [sp, #36]') 是否是SP True 指令地址 2056 访存地址 0\n",
      "指令 ('80c', 'f9400fe0', 'ldr', None, 'x0, [sp, #24]') 是否是SP True 指令地址 2060 访存地址 0\n",
      "指令 ('814', 'b94027e0', 'ldr', None, 'w0, [sp, #36]') 是否是SP True 指令地址 2068 访存地址 0\n",
      "指令 ('81c', 'b90027e0', 'str', None, 'w0, [sp, #36]') 是否是SP True 指令地址 2076 访存地址 0\n",
      "指令 ('820', 'b94027e0', 'ldr', None, 'w0, [sp, #36]') 是否是SP True 指令地址 2080 访存地址 0\n",
      "指令 ('82c', 'b9402be0', 'ldr', None, 'w0, [sp, #40]') 是否是SP True 指令地址 2092 访存地址 0\n",
      "指令 ('834', 'b9002be0', 'str', None, 'w0, [sp, #40]') 是否是SP True 指令地址 2100 访存地址 0\n",
      "指令 ('838', 'b9402be0', 'ldr', None, 'w0, [sp, #40]') 是否是SP True 指令地址 2104 访存地址 0\n",
      "指令 ('844', 'b9402fe0', 'ldr', None, 'w0, [sp, #44]') 是否是SP True 指令地址 2116 访存地址 0\n",
      "指令 ('84c', 'b9002fe0', 'str', None, 'w0, [sp, #44]') 是否是SP True 指令地址 2124 访存地址 0\n",
      "指令 ('850', 'b9402fe0', 'ldr', None, 'w0, [sp, #44]') 是否是SP True 指令地址 2128 访存地址 0\n",
      "指令 ('664', 'f947da11', 'ldr', None, 'x17, [x16, #4016]') 是否是SP False 指令地址 1636 访存地址 69552\n",
      "指令 ('8b0', 'f9000fe0', 'str', None, 'x0, [sp, #24]') 是否是SP True 指令地址 2224 访存地址 0\n",
      "指令 ('8b4', 'b90017e1', 'str', None, 'w1, [sp, #20]') 是否是SP True 指令地址 2228 访存地址 0\n",
      "指令 ('8b8', 'b90013e2', 'str', None, 'w2, [sp, #16]') 是否是SP True 指令地址 2232 访存地址 0\n",
      "指令 ('8bc', 'b9000fe3', 'str', None, 'w3, [sp, #12]') 是否是SP True 指令地址 2236 访存地址 0\n",
      "指令 ('8c0', 'b9400fe1', 'ldr', None, 'w1, [sp, #12]') 是否是SP True 指令地址 2240 访存地址 0\n",
      "指令 ('8cc', 'b94017e2', 'ldr', None, 'w2, [sp, #20]') 是否是SP True 指令地址 2252 访存地址 0\n",
      "指令 ('8e0', 'b9002fe0', 'str', None, 'w0, [sp, #44]') 是否是SP True 指令地址 2272 访存地址 0\n",
      "指令 ('8e4', 'b94017e1', 'ldr', None, 'w1, [sp, #20]') 是否是SP True 指令地址 2276 访存地址 0\n",
      "指令 ('8e8', 'b94013e0', 'ldr', None, 'w0, [sp, #16]') 是否是SP True 指令地址 2280 访存地址 0\n",
      "指令 ('8f0', 'b9400fe0', 'ldr', None, 'w0, [sp, #12]') 是否是SP True 指令地址 2288 访存地址 0\n",
      "指令 ('8f8', 'b9802fe0', 'ldrsw', None, 'x0, [sp, #44]') 是否是SP True 指令地址 2296 访存地址 0\n",
      "指令 ('900', 'f9400fe2', 'ldr', None, 'x2, [sp, #24]') 是否是SP True 指令地址 2304 访存地址 0\n",
      "指令 ('90c', 'fd000000', 'str', None, 'd0, [x0]') 是否是SP False 指令地址 2316 访存地址 65536\n"
     ]
    }
   ],
   "source": [
    "from newCFG.cfg import TCfg\n",
    "from newCFG.loadstore import LSProc\n",
    "from newCFG.rw_condition import RWProc\n",
    "\n",
    "lsproc = LSProc(tcfg_nodes)\n",
    "\n",
    "lds_table = lsproc.ls_table\n",
    "\n",
    "for i in lds_table:\n",
    "    print(\"指令\",i.ins.tokens,\"是否是SP\",i.is_sp,\"指令地址\",i.ins.addr.val(),\"访存地址\",i.final_addr)\n",
    "\n",
    "rwproc = RWProc(lds_table)\n",
    "\n",
    "#for rwu in rwproc.rw_table:\n",
    "#    print(rwu.ins.tokens,rwu.find_cycle,rwu.ins.final_addr,rwu.is_torrent)"
   ]
  },
  {
   "cell_type": "code",
   "execution_count": 23,
   "metadata": {},
   "outputs": [
    {
     "name": "stdout",
     "output_type": "stream",
     "text": [
      "l2 (in l1 children []): n7->n8 ['n6', 'n15', 'n7', 'n8']\n",
      "l1 (in l0 children ['l2']): n9->n10 ['n9', 'n6', 'n15', 'n5', 'n7', 'n8', 'n10']\n",
      "l0 (in None children ['l1']): n11->n12 ['n9', 'n6', 'n15', 'n5', 'n4', 'n12', 'n7', 'n8', 'n10', 'n11']\n",
      "n0 None\n",
      "n1 None\n",
      "n2 None\n",
      "n3 None\n",
      "n4 l0\n",
      "n5 l1\n",
      "n6 l2\n",
      "n7 l2\n",
      "n8 l2\n",
      "n9 l1\n",
      "n10 l1\n",
      "n11 l0\n",
      "n12 l0\n",
      "n13 None\n",
      "n14 None\n",
      "n15 l2\n",
      "n16 None\n"
     ]
    }
   ],
   "source": [
    "for l in tcfg.loops:\n",
    "    print(\"{} (in {} children {}): {}->{} {}\".format(l.name, l.father.name if l.father is not None else \"None\", [sub_l.name for sub_l in l.children], l.back_edge.src.name, l.back_edge.dst.name, [n.name for n in l.all_nodes]))\n",
    "    l.back_edge.is_backEdge = True\n",
    "\n",
    "\n",
    "for n in tcfg.all_nodes:\n",
    "    temp = n.inside_loop.name if n.inside_loop is not None else 'None'\n",
    "    print(\"{} {}\".format(n.name, temp))"
   ]
  }
 ],
 "metadata": {
  "kernelspec": {
   "display_name": "Python 3",
   "language": "python",
   "name": "python3"
  },
  "language_info": {
   "codemirror_mode": {
    "name": "ipython",
    "version": 3
   },
   "file_extension": ".py",
   "mimetype": "text/x-python",
   "name": "python",
   "nbconvert_exporter": "python",
   "pygments_lexer": "ipython3",
   "version": "3.9.12"
  }
 },
 "nbformat": 4,
 "nbformat_minor": 0
}
