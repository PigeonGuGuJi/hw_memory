{
 "cells": [
  {
   "cell_type": "code",
   "execution_count": 1,
   "metadata": {
    "collapsed": true
   },
   "outputs": [],
   "source": [
    "fp = f\"/Users/gugujixiao/workspace/project/HWMemory/Code/HW-Memory/example/old_example/func.asm\""
   ]
  },
  {
   "cell_type": "code",
   "execution_count": 2,
   "metadata": {
    "collapsed": false
   },
   "outputs": [
    {
     "name": "stdout",
     "output_type": "stream",
     "text": [
      "_init 0000000000400498\n",
      ".plt 00000000004004b0\n",
      "__libc_start_main@plt 00000000004004d0\n",
      "__gmon_start__@plt 00000000004004e0\n",
      "abort@plt 00000000004004f0\n",
      "_start 0000000000400500\n",
      "__wrap_main 0000000000400534\n",
      "_dl_relocate_static_pie 0000000000400540\n",
      "call_weak_fn 0000000000400544\n",
      "deregister_tm_clones 0000000000400560\n",
      "register_tm_clones 0000000000400590\n",
      "__do_global_dtors_aux 00000000004005d0\n",
      "frame_dummy 0000000000400600\n",
      "compare 0000000000400604\n",
      "main 0000000000400634\n",
      "_fini 0000000000400658\n"
     ]
    }
   ],
   "source": [
    "from sample.cfg import proc_identify\n",
    "from sample.isa import Instruction, AddrMode\n",
    "from typing import Tuple\n",
    "from sample.read_asm import AsmFileReader, StatementType\n",
    "\n",
    "reader =AsmFileReader(fp)\n",
    "\n",
    "statements = list()\n",
    "temp_stat = list()\n",
    "for s in reader.statements:\n",
    "    s: Tuple[StatementType, tuple]\n",
    "    if s[0] == StatementType.Instruction:\n",
    "        statements.append((s[0], Instruction(s[1])))\n",
    "        temp_stat.append(Instruction(s[1]))\n",
    "    elif s[0] == StatementType.SubProcedure:\n",
    "        statements.append(s)\n",
    "\n",
    "#for i in temp_stat:\n",
    "#    booltemp = i.is_ls\n",
    "#    if booltemp:\n",
    "#        if i.ls_addr_mode == AddrMode.ImmeAft:\n",
    "#            print(i.ls_reg_traget)\n",
    "\n",
    "procs = proc_identify(statements)\n",
    "for proc in procs:\n",
    "    print(proc.name, proc.beg_addr.hex_str())\n",
    "    if False and proc.name == 'main':\n",
    "        for inst in proc.instruction:\n",
    "            print(inst.addr.hex_str(), inst.opcode, inst.name, inst.operands, inst.branch_info)\n",
    "        print()"
   ]
  },
  {
   "cell_type": "code",
   "execution_count": 3,
   "metadata": {
    "collapsed": false
   },
   "outputs": [
    {
     "data": {
      "text/plain": [
       "'output/procedures.svg'"
      ]
     },
     "execution_count": 3,
     "metadata": {},
     "output_type": "execute_result"
    }
   ],
   "source": [
    "from graphviz import Digraph\n",
    "from sample.cfg import draw_proc, find_cycle, has_cycle, proc_draw_edges\n",
    "\n",
    "proc_draw_edges(procs)\n",
    "\n",
    "is_cycle = has_cycle(procs)\n",
    "if is_cycle:\n",
    "    c = [p.name for p in find_cycle(procs)]\n",
    "    raise RuntimeError(\"Loop between procedures is not allowed: {}.\".format(c))\n",
    "\n",
    "g: Digraph = draw_proc(procs)\n",
    "g.render(filename='procedures', directory='./output', format='svg')"
   ]
  },
  {
   "cell_type": "code",
   "execution_count": 4,
   "metadata": {
    "collapsed": false
   },
   "outputs": [
    {
     "data": {
      "text/plain": [
       "'output/call_graph.svg'"
      ]
     },
     "execution_count": 4,
     "metadata": {},
     "output_type": "execute_result"
    }
   ],
   "source": [
    "from sample.cfg import CallGraph\n",
    "\n",
    "call_graph = CallGraph(procs)\n",
    "\n",
    "g = call_graph.draw_graph()\n",
    "g.render(filename='call_graph', directory='./output', format='svg')"
   ]
  },
  {
   "cell_type": "code",
   "execution_count": 6,
   "metadata": {
    "collapsed": false
   },
   "outputs": [
    {
     "name": "stdout",
     "output_type": "stream",
     "text": [
      "n0\n",
      "来的点\n",
      "出去的点\n",
      "n2\n",
      "指令\n",
      "('400634', 'a9be7bfd', 'stp', None, 'x29, x30, [sp, #-32]!')\n",
      "('400638', '910003fd', 'mov', None, 'x29, sp')\n",
      "('40063c', '528001e0', 'mov', None, 'w0, #0xf                        ')\n",
      "('400640', 'b9001fe0', 'mov', None, 'x33, sp')\n",
      "('400644', 'b9401fe0', 'ldr', None, 'w0, [x12], #12')\n",
      "('400648', '97ffffef', 'bl', None, '400604 <compare>')\n",
      "\n",
      "n1\n",
      "来的点\n",
      "n5\n",
      "出去的点\n",
      "指令\n",
      "('40064c', '52800000', 'mov', None, 'w0, #0x0                        ')\n",
      "('400650', 'a8c27bfd', 'ldp', None, 'x29, x30, [sp], #32')\n",
      "('400654', 'd65f03c0', 'ret', None, '')\n",
      "\n",
      "n2\n",
      "来的点\n",
      "n0\n",
      "出去的点\n",
      "n4\n",
      "n3\n",
      "指令\n",
      "('400604', 'd10083ff', 'sub', None, 'sp, sp, #0x20')\n",
      "('400608', 'b9000fe0', 'str', None, 'w0, [sp, #12]')\n",
      "('40060c', '52800140', 'mov', None, 'w0, #0xa                        ')\n",
      "('400610', 'b9001fe0', 'adrp', None, 'x33, 41f000 <__FRAME_END__+0x1e868>')\n",
      "('400614', 'b9400fe0', 'ldr', None, 'w0, [x33, #0x12]!')\n",
      "('400618', '7100281f', 'cmp', None, 'w0, #0xa')\n",
      "('40061c', '5400006d', 'b', 'le', '400628 <compare+0x24>')\n",
      "\n",
      "n3\n",
      "来的点\n",
      "n2\n",
      "出去的点\n",
      "n5\n",
      "指令\n",
      "('400620', 'b9400fe0', 'ldr', None, 'w0, [sp, #12]')\n",
      "('400624', '14000002', 'b', None, '40062c <compare+0x28>')\n",
      "\n",
      "n4\n",
      "来的点\n",
      "n2\n",
      "出去的点\n",
      "n5\n",
      "指令\n",
      "('400628', '52800140', 'mov', None, 'w0, #0xa                        ')\n",
      "\n",
      "n5\n",
      "来的点\n",
      "n3\n",
      "n4\n",
      "出去的点\n",
      "n1\n",
      "指令\n",
      "('40062c', '910083ff', 'add', None, 'sp, sp, #0x20')\n",
      "('400630', 'd65f03c0', 'ret', None, '')\n",
      "\n"
     ]
    },
    {
     "data": {
      "text/plain": [
       "'output/tcfg.svg'"
      ]
     },
     "execution_count": 6,
     "metadata": {},
     "output_type": "execute_result"
    }
   ],
   "source": [
    "from sample.cfg import TCfg\n",
    "from sample.rw_condition import hw_CFG_Node\n",
    "\n",
    "tcfg = TCfg(call_graph)\n",
    "tcfg_nodes = tcfg.all_nodes\n",
    "tcfg_edges = tcfg.edges\n",
    "\n",
    "hw_cfg_node_list = list()\n",
    "\n",
    "for node in tcfg_nodes:\n",
    "    #print(node.name, node.base_proc.name)\n",
    "    #print(node.name, node.base_proc.name, node.inst_range)\\\n",
    "    #print(\"入边\")\n",
    "    #for i in node.to_edge:\n",
    "    #    print(i.src.name)\n",
    "    #print(\"出边\")\n",
    "    #for i in node.from_edge:\n",
    "    #    print(i.dst.name)\n",
    "    \n",
    "    #instr = node.instructions\n",
    "    #for ins in instr:\n",
    "    #    booltemp = ins.is_ls\n",
    "    #    if booltemp:\n",
    "    #        print(ins.tokens)\n",
    "    #print()\n",
    "    #print()\n",
    "    temp = hw_CFG_Node(node)\n",
    "    hw_cfg_node_list.append(temp)\n",
    "\n",
    "for i in hw_cfg_node_list:\n",
    "    print(i.node_self.name)\n",
    "    print(\"来的点\")\n",
    "    for j in i.node_from:\n",
    "        print(j.name)\n",
    "    print(\"出去的点\")\n",
    "    for k in i.node_to:\n",
    "        print(k.name)\n",
    "    print(\"指令\")\n",
    "    for a in i.instr:\n",
    "        print(a.tokens)\n",
    "    print()\n",
    "\n",
    "#for edge in tcfg_edges:\n",
    "#    print(edge.src.name, edge.dst.name, edge.kind.name)\n",
    "\n",
    "g = tcfg.draw_graph()\n",
    "g.render(filename='tcfg', directory='./output', format='svg')"
   ]
  }
 ],
 "metadata": {
  "kernelspec": {
   "display_name": "Python 3",
   "language": "python",
   "name": "python3"
  },
  "language_info": {
   "codemirror_mode": {
    "name": "ipython",
    "version": 3
   },
   "file_extension": ".py",
   "mimetype": "text/x-python",
   "name": "python",
   "nbconvert_exporter": "python",
   "pygments_lexer": "ipython3",
   "version": "3.8.16"
  }
 },
 "nbformat": 4,
 "nbformat_minor": 0
}
