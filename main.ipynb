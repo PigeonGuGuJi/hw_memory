{
 "cells": [
  {
   "cell_type": "code",
   "execution_count": 1,
   "metadata": {
    "collapsed": true
   },
   "outputs": [],
   "source": [
    "fp = r\"/Users/gugujixiao/workspace/project/HWMemory/Code/newCFG/hw-memory/benchmarks/spec_example/spec2006_470.lbm/lbm_part.asm\""
   ]
  },
  {
   "cell_type": "code",
   "execution_count": 2,
   "metadata": {
    "collapsed": false
   },
   "outputs": [
    {
     "name": "stdout",
     "output_type": "stream",
     "text": [
      "_init 0000000000400498\n",
      ".plt 00000000004004b0\n",
      "__libc_start_main@plt 00000000004004d0\n",
      "__gmon_start__@plt 00000000004004e0\n",
      "abort@plt 00000000004004f0\n",
      "_start 0000000000400500\n",
      "__wrap_main 0000000000400534\n",
      "_dl_relocate_static_pie 0000000000400540\n",
      "call_weak_fn 0000000000400544\n",
      "deregister_tm_clones 0000000000400560\n",
      "register_tm_clones 0000000000400590\n",
      "__do_global_dtors_aux 00000000004005d0\n",
      "frame_dummy 0000000000400600\n",
      "compare 0000000000400604\n",
      "main 0000000000400634\n",
      "_fini 0000000000400658\n"
     ]
    }
   ],
   "source": [
    "from newCFG.cfg import proc_identify\n",
    "from newCFG.isa import Instruction, AddrMode\n",
    "from typing import Tuple\n",
    "from newCFG.read_asm import AsmFileReader, StatementType\n",
    "\n",
    "reader =AsmFileReader(fp)\n",
    "\n",
    "statements = list()\n",
    "temp_stat = list()\n",
    "for s in reader.statements:\n",
    "    s: Tuple[StatementType, tuple]\n",
    "    if s[0] == StatementType.Instruction:\n",
    "        statements.append((s[0], Instruction(s[1])))\n",
    "        temp_stat.append(Instruction(s[1]))\n",
    "    elif s[0] == StatementType.SubProcedure:\n",
    "        statements.append(s)\n",
    "\n",
    "#for i in temp_stat:\n",
    "#    booltemp = i.is_ls\n",
    "#    if booltemp:\n",
    "#        if i.ls_addr_mode == AddrMode.ImmeAft:\n",
    "#            print(i.ls_reg_traget)\n",
    "\n",
    "procs = proc_identify(statements)\n",
    "for proc in procs:\n",
    "    print(proc.name, proc.beg_addr.hex_str)\n",
    "    if False and proc.name == 'main':\n",
    "        for inst in proc.instruction:\n",
    "            print(inst.addr.hex_str, inst.opcode, inst.name, inst.operands, inst.branch_info)\n",
    "        print()"
   ]
  },
  {
   "cell_type": "code",
   "execution_count": 3,
   "metadata": {
    "collapsed": false
   },
   "outputs": [
    {
     "data": {
      "text/plain": [
       "'output/procedures.svg'"
      ]
     },
     "execution_count": 3,
     "metadata": {},
     "output_type": "execute_result"
    }
   ],
   "source": [
    "from graphviz import Digraph\n",
    "from newCFG.cfg import draw_proc, find_cycle, has_cycle, proc_draw_edges\n",
    "\n",
    "proc_draw_edges(procs)\n",
    "\n",
    "is_cycle = has_cycle(procs)\n",
    "if is_cycle:\n",
    "    c = [p.name for p in find_cycle(procs)]\n",
    "    raise RuntimeError(\"Loop between procedures is not allowed: {}.\".format(c))\n",
    "\n",
    "g: Digraph = draw_proc(procs)\n",
    "g.render(filename='procedures', directory='./output', format='svg')"
   ]
  },
  {
   "cell_type": "code",
   "execution_count": 4,
   "metadata": {
    "collapsed": false
   },
   "outputs": [
    {
     "ename": "TypeError",
     "evalue": "'str' object is not callable",
     "output_type": "error",
     "traceback": [
      "\u001b[0;31m---------------------------------------------------------------------------\u001b[0m",
      "\u001b[0;31mTypeError\u001b[0m                                 Traceback (most recent call last)",
      "Cell \u001b[0;32mIn[4], line 3\u001b[0m\n\u001b[1;32m      1\u001b[0m \u001b[39mfrom\u001b[39;00m \u001b[39mnewCFG\u001b[39;00m\u001b[39m.\u001b[39;00m\u001b[39mcfg\u001b[39;00m \u001b[39mimport\u001b[39;00m CallGraph\n\u001b[0;32m----> 3\u001b[0m call_graph \u001b[39m=\u001b[39m CallGraph(procs)\n\u001b[1;32m      5\u001b[0m g \u001b[39m=\u001b[39m call_graph\u001b[39m.\u001b[39mdraw_graph()\n\u001b[1;32m      6\u001b[0m g\u001b[39m.\u001b[39mrender(filename\u001b[39m=\u001b[39m\u001b[39m'\u001b[39m\u001b[39mcall_graph\u001b[39m\u001b[39m'\u001b[39m, directory\u001b[39m=\u001b[39m\u001b[39m'\u001b[39m\u001b[39m./output\u001b[39m\u001b[39m'\u001b[39m, \u001b[39mformat\u001b[39m\u001b[39m=\u001b[39m\u001b[39m'\u001b[39m\u001b[39msvg\u001b[39m\u001b[39m'\u001b[39m)\n",
      "File \u001b[0;32m~/workspace/project/HWMemory/Code/newCFG/hw-memory/newCFG/cfg.py:172\u001b[0m, in \u001b[0;36mCallGraph.__init__\u001b[0;34m(self, procedures, start_label)\u001b[0m\n\u001b[1;32m    170\u001b[0m \u001b[39mself\u001b[39m\u001b[39m.\u001b[39m__nodes: Tuple[CallGraphNode] \u001b[39m=\u001b[39m \u001b[39mtuple\u001b[39m()\n\u001b[1;32m    171\u001b[0m \u001b[39mself\u001b[39m\u001b[39m.\u001b[39m__edges: Tuple[CallGraphEdge] \u001b[39m=\u001b[39m \u001b[39mtuple\u001b[39m()\n\u001b[0;32m--> 172\u001b[0m \u001b[39mself\u001b[39;49m\u001b[39m.\u001b[39;49m__build()\n",
      "File \u001b[0;32m~/workspace/project/HWMemory/Code/newCFG/hw-memory/newCFG/cfg.py:189\u001b[0m, in \u001b[0;36mCallGraph.__build\u001b[0;34m(self)\u001b[0m\n\u001b[1;32m    187\u001b[0m b, _, label, _, _ \u001b[39m=\u001b[39m inst\u001b[39m.\u001b[39mbranch_info\n\u001b[1;32m    188\u001b[0m \u001b[39mif\u001b[39;00m b \u001b[39mand\u001b[39;00m (label \u001b[39m!=\u001b[39m proc\u001b[39m.\u001b[39mname):\n\u001b[0;32m--> 189\u001b[0m     new_node \u001b[39m=\u001b[39m CallGraphNode(\u001b[39m\"\u001b[39m\u001b[39m{}\u001b[39;00m\u001b[39m|\u001b[39m\u001b[39m{}\u001b[39;00m\u001b[39m#\u001b[39m\u001b[39m{}\u001b[39;00m\u001b[39m\"\u001b[39m\u001b[39m.\u001b[39mformat(node\u001b[39m.\u001b[39mname, inst\u001b[39m.\u001b[39;49maddr\u001b[39m.\u001b[39;49mhex_str(), label), proc_mapping[label])\n\u001b[1;32m    190\u001b[0m     edge \u001b[39m=\u001b[39m CallGraphEdge(node, new_node)\n\u001b[1;32m    191\u001b[0m     node\u001b[39m.\u001b[39mto_edges\u001b[39m.\u001b[39mappend(edge)\n",
      "\u001b[0;31mTypeError\u001b[0m: 'str' object is not callable"
     ]
    }
   ],
   "source": [
    "from newCFG.cfg import CallGraph\n",
    "\n",
    "call_graph = CallGraph(procs)\n",
    "\n",
    "g = call_graph.draw_graph()\n",
    "g.render(filename='call_graph', directory='./output', format='svg')"
   ]
  },
  {
   "cell_type": "code",
   "execution_count": null,
   "metadata": {
    "collapsed": false
   },
   "outputs": [
    {
     "name": "stdout",
     "output_type": "stream",
     "text": [
      "n0 n2 1.0\n",
      "n5 n1 1.0\n",
      "n2 n4 0.5\n",
      "n2 n3 0.5\n",
      "n3 n5 0.5\n",
      "n4 n5 0.5\n"
     ]
    }
   ],
   "source": [
    "from newCFG.cfg import TCfg\n",
    "import random\n",
    "\n",
    "tcfg = TCfg(call_graph)\n",
    "tcfg.build_tcfg()\n",
    "\n",
    "tcfg_nodes = tcfg.all_nodes\n",
    "tcfg_edges = tcfg.edges\n",
    "\n",
    "g = tcfg.draw_graph()\n",
    "g.render(filename='tcfg', directory='./output', format='svg')\n",
    "\n",
    "#for node in tcfg_nodes:\n",
    "#    node.set_rw_condition()\n",
    "#    #print(node.name, node.base_proc.name, node.inst_range)\n",
    "#    print(node.name, node.base_proc.name)\n",
    "#    print(\"出边\")\n",
    "#    for i in node.outgoing_edge:\n",
    "#        print(i.dst.name)\n",
    "#    print(\"入边\")\n",
    "#    for i in node.incoming_edge:\n",
    "#        print(i.src.name)\n",
    "#\n",
    "#    print()\n",
    "\n",
    "tcfg.build_loop_hrchy()\n",
    "for l in tcfg.loops:\n",
    "    #print(\"{} (in {} children {}): {}->{} {}\".format(l.name, l.father.name if l.father is not None else \"None\", [sub_l.name for sub_l in l.children], l.back_edge.src.name, l.back_edge.dst.name, [n.name for n in l.all_nodes]))\n",
    "    #print(l.back_edge.src.name,l.back_edge.dst.name)\n",
    "    l.back_edge.is_backEdge = True\n",
    "\n",
    "#for n in tcfg.all_nodes:\n",
    "#    temp = n.inside_loop.name if n.inside_loop is not None else 'None'\n",
    "#    print(\"{} {}\".format(n.name, temp))\n",
    "\n",
    "for n in tcfg_nodes:\n",
    "    n.set_rw_data()\n",
    "\n",
    "temp_bool = True\n",
    "\n",
    "while temp_bool:\n",
    "    no_end = False\n",
    "\n",
    "    for n in tcfg_nodes:\n",
    "        n.set_rw_value()\n",
    "        if not n.no_out:\n",
    "            no_end = True\n",
    "        temp_bool = no_end\n",
    "\n",
    "for e in tcfg_edges:\n",
    "    if e.is_backEdge:\n",
    "        e.loop_value = random.randint(0,10)\n",
    "        e.edge_value = 2\n",
    "\n",
    "for e in tcfg_edges:\n",
    "    print(e.src.name,e.dst.name,e.edge_value)\n",
    "\n",
    "\n",
    "#for n in tcfg_nodes:\n",
    "#    print(n.name,\"n的值\",n.node_value)\n",
    "        \n",
    "\n",
    "#for e in tcfg_edges:\n",
    "#    print(e.src.name,e.dst.name,e.is_backEdge)\n",
    "\n",
    "\n"
   ]
  },
  {
   "cell_type": "code",
   "execution_count": null,
   "metadata": {},
   "outputs": [],
   "source": []
  },
  {
   "cell_type": "code",
   "execution_count": null,
   "metadata": {},
   "outputs": [
    {
     "name": "stdout",
     "output_type": "stream",
     "text": [
      "str False ('400640', 'b9001fe0', 'str', None, 'w0, [x34, #28]') 0\n",
      "ldr True ('400644', 'b9401fe0', 'ldr', None, 'w0, [x33, #28]') 0\n",
      "str False ('400608', 'b9000fe0', 'str', None, 'w0, [x35, #14]') 4321294\n",
      "ldr False ('400614', 'b9400fe0', 'ldr', None, 'w0, [x33, #12]') 4321292\n",
      "ldr True ('400620', 'b9400fe0', 'ldr', None, 'w0, [sp, #12]') 0\n",
      "('400640', 'b9001fe0', 'str', None, 'w0, [x34, #28]') 0 0 RWType.Unknown\n",
      "('400644', 'b9401fe0', 'ldr', None, 'w0, [x33, #28]') 0 0 RWType.Unknown\n",
      "('400608', 'b9000fe0', 'str', None, 'w0, [x35, #14]') 7.0 4321294 RWType.Unknown\n",
      "('400614', 'b9400fe0', 'ldr', None, 'w0, [x33, #12]') 10.0 4321292 RWType.Unknown\n",
      "('400620', 'b9400fe0', 'ldr', None, 'w0, [sp, #12]') 0 0 RWType.Unknown\n"
     ]
    }
   ],
   "source": [
    "from newCFG.cfg import TCfg\n",
    "from newCFG.loadstore import LSProc\n",
    "from newCFG.rw_condition import RWProc\n",
    "\n",
    "lsproc = LSProc(tcfg_nodes)\n",
    "\n",
    "lds_table = lsproc.ls_table\n",
    "\n",
    "for i in lds_table:\n",
    "    print(i.ins.name,i.is_sp,i.ins.tokens,i.final_addr)\n",
    "\n",
    "rwproc = RWProc(lds_table)\n",
    "\n",
    "for rwu in rwproc.rw_table:\n",
    "    print(rwu.ins.tokens,rwu.find_cycle,rwu.ins.final_addr,rwu.is_torrent)"
   ]
  }
 ],
 "metadata": {
  "kernelspec": {
   "display_name": "Python 3",
   "language": "python",
   "name": "python3"
  },
  "language_info": {
   "codemirror_mode": {
    "name": "ipython",
    "version": 3
   },
   "file_extension": ".py",
   "mimetype": "text/x-python",
   "name": "python",
   "nbconvert_exporter": "python",
   "pygments_lexer": "ipython3",
   "version": "3.8.16"
  }
 },
 "nbformat": 4,
 "nbformat_minor": 0
}
