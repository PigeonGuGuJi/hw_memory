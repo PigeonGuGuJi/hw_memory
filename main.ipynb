{
 "cells": [
  {
   "cell_type": "code",
   "execution_count": 3,
   "metadata": {
    "collapsed": true
   },
   "outputs": [],
   "source": [
    "fp = f\"/Users/gugujixiao/workspace/project/HWMemory/Code/HW-Memory/example/old_example/benchmarkF.asm\""
   ]
  },
  {
   "cell_type": "code",
   "execution_count": 5,
   "metadata": {
    "collapsed": false
   },
   "outputs": [
    {
     "name": "stdout",
     "output_type": "stream",
     "text": [
      "('400c88', 'f947fe11', 'ldr', None, 'x17, [x16, #4088]')\n",
      "('400cb4', 'f9400611', 'ldr', None, 'x17, [x16, #8]')\n",
      "('400cc4', 'f9400a11', 'ldr', None, 'x17, [x16, #16]')\n",
      "('400cd4', 'f9400e11', 'ldr', None, 'x17, [x16, #24]')\n",
      "('400ce4', 'f9401211', 'ldr', None, 'x17, [x16, #32]')\n",
      "('400cf4', 'f9401611', 'ldr', None, 'x17, [x16, #40]')\n",
      "('400d04', 'f9401a11', 'ldr', None, 'x17, [x16, #48]')\n",
      "('400d14', 'f9401e11', 'ldr', None, 'x17, [x16, #56]')\n",
      "('400d24', 'f9402211', 'ldr', None, 'x17, [x16, #64]')\n",
      "('400d34', 'f9402611', 'ldr', None, 'x17, [x16, #72]')\n",
      "('400d44', 'f9402a11', 'ldr', None, 'x17, [x16, #80]')\n",
      "('400d54', 'f9402e11', 'ldr', None, 'x17, [x16, #88]')\n",
      "('400d64', 'f9403211', 'ldr', None, 'x17, [x16, #96]')\n",
      "('400d74', 'f9403611', 'ldr', None, 'x17, [x16, #104]')\n",
      "('400d84', 'f9403a11', 'ldr', None, 'x17, [x16, #112]')\n",
      "('400d94', 'f9403e11', 'ldr', None, 'x17, [x16, #120]')\n",
      "('400da4', 'f9404211', 'ldr', None, 'x17, [x16, #128]')\n",
      "('400db4', 'f9404611', 'ldr', None, 'x17, [x16, #136]')\n",
      "('400dc4', 'f9404a11', 'ldr', None, 'x17, [x16, #144]')\n",
      "('400dd4', 'f9404e11', 'ldr', None, 'x17, [x16, #152]')\n",
      "('400de4', 'f9405211', 'ldr', None, 'x17, [x16, #160]')\n",
      "('400df4', 'f9405611', 'ldr', None, 'x17, [x16, #168]')\n",
      "('400e04', 'f9405a11', 'ldr', None, 'x17, [x16, #176]')\n",
      "('400e14', 'f9405e11', 'ldr', None, 'x17, [x16, #184]')\n",
      "('400e24', 'f9406211', 'ldr', None, 'x17, [x16, #192]')\n",
      "('400e34', 'f9406611', 'ldr', None, 'x17, [x16, #200]')\n",
      "('400e44', 'f9406a11', 'ldr', None, 'x17, [x16, #208]')\n",
      "('400e54', 'f9406e11', 'ldr', None, 'x17, [x16, #216]')\n",
      "('400e64', 'f9407211', 'ldr', None, 'x17, [x16, #224]')\n",
      "('400e74', 'f9407611', 'ldr', None, 'x17, [x16, #232]')\n",
      "('400e84', 'f9407a11', 'ldr', None, 'x17, [x16, #240]')\n",
      "('400e94', 'f9407e11', 'ldr', None, 'x17, [x16, #248]')\n",
      "('400ea4', 'f9408211', 'ldr', None, 'x17, [x16, #256]')\n",
      "('400eb4', 'f9408611', 'ldr', None, 'x17, [x16, #264]')\n",
      "('400ec4', 'f9408a11', 'ldr', None, 'x17, [x16, #272]')\n",
      "('400ed4', 'f9408e11', 'ldr', None, 'x17, [x16, #280]')\n",
      "('400ee4', 'f9409211', 'ldr', None, 'x17, [x16, #288]')\n",
      "('400ef4', 'f9409611', 'ldr', None, 'x17, [x16, #296]')\n",
      "('400f48', 'f947ec00', 'ldr', None, 'x0, [x0, #4056]')\n",
      "('400f7c', 'f947e821', 'ldr', None, 'x1, [x1, #4048]')\n",
      "('400fb8', 'f947f042', 'ldr', None, 'x2, [x2, #4064]')\n",
      "('400fe0', '39450260', 'ldrb', None, 'w0, [x19, #320]')\n",
      "('400ff0', '39050260', 'strb', None, 'w0, [x19, #320]')\n",
      "('4012e8', 'b8407021', 'ldur', None, 'w1, [x1, #7]')\n",
      "('4012ec', 'b8007001', 'stur', None, 'w1, [x0, #7]')\n",
      "('401390', 'b9400821', 'ldr', None, 'w1, [x1, #8]')\n",
      "('401394', 'b9000801', 'str', None, 'w1, [x0, #8]')\n",
      "('401b7c', '79402060', 'ldrh', None, 'w0, [x3, #16]')\n",
      "('401b80', '79002040', 'strh', None, 'w0, [x2, #16]')\n",
      "('401bc0', 'f9400822', 'ldr', None, 'x2, [x1, #16]')\n",
      "('401bc4', 'f9000802', 'str', None, 'x2, [x0, #16]')\n",
      "('401bc8', '39406021', 'ldrb', None, 'w1, [x1, #24]')\n",
      "('401bcc', '39006001', 'strb', None, 'w1, [x0, #24]')\n",
      "('401c44', '39400821', 'ldrb', None, 'w1, [x1, #2]')\n",
      "('401c48', '39000801', 'strb', None, 'w1, [x0, #2]')\n"
     ]
    }
   ],
   "source": [
    "from sample.cfg import proc_identify\n",
    "from sample.isa import Instruction, AddrMode\n",
    "from typing import Tuple\n",
    "from sample.read_asm import AsmFileReader, StatementType\n",
    "\n",
    "reader =AsmFileReader(fp)\n",
    "\n",
    "statements = list()\n",
    "temp_stat = list()\n",
    "for s in reader.statements:\n",
    "    s: Tuple[StatementType, tuple]\n",
    "    if s[0] == StatementType.Instruction:\n",
    "        statements.append((s[0], Instruction(s[1])))\n",
    "        temp_stat.append(Instruction(s[1]))\n",
    "    elif s[0] == StatementType.SubProcedure:\n",
    "        statements.append(s)\n",
    "\n",
    "for i in temp_stat:\n",
    "    booltemp = i.is_ls\n",
    "    if booltemp:\n",
    "        if i.ls_addr_mode == AddrMode.ImmeOffset:\n",
    "            print(i.tokens,i.ls_reg_target,i.ls_addr_offset)\n",
    "\n",
    "#procs = proc_identify(statements)\n",
    "#for proc in procs:\n",
    "#    print(proc.name, proc.beg_addr.hex_str())\n",
    "#    if False and proc.name == 'main':\n",
    "#        for inst in proc.instruction:\n",
    "#            print(inst.addr.hex_str(), inst.opcode, inst.name, inst.operands, inst.branch_info)\n",
    "#        print()"
   ]
  },
  {
   "cell_type": "code",
   "execution_count": 2,
   "metadata": {
    "collapsed": false
   },
   "outputs": [
    {
     "ename": "NameError",
     "evalue": "name 'procs' is not defined",
     "output_type": "error",
     "traceback": [
      "\u001b[0;31m---------------------------------------------------------------------------\u001b[0m",
      "\u001b[0;31mNameError\u001b[0m                                 Traceback (most recent call last)",
      "Cell \u001b[0;32mIn[2], line 4\u001b[0m\n\u001b[1;32m      1\u001b[0m \u001b[39mfrom\u001b[39;00m \u001b[39mgraphviz\u001b[39;00m \u001b[39mimport\u001b[39;00m Digraph\n\u001b[1;32m      2\u001b[0m \u001b[39mfrom\u001b[39;00m \u001b[39msample\u001b[39;00m\u001b[39m.\u001b[39;00m\u001b[39mcfg\u001b[39;00m \u001b[39mimport\u001b[39;00m draw_proc, find_cycle, has_cycle, proc_draw_edges\n\u001b[0;32m----> 4\u001b[0m proc_draw_edges(procs)\n\u001b[1;32m      6\u001b[0m is_cycle \u001b[39m=\u001b[39m has_cycle(procs)\n\u001b[1;32m      7\u001b[0m \u001b[39mif\u001b[39;00m is_cycle:\n",
      "\u001b[0;31mNameError\u001b[0m: name 'procs' is not defined"
     ]
    }
   ],
   "source": [
    "from graphviz import Digraph\n",
    "from sample.cfg import draw_proc, find_cycle, has_cycle, proc_draw_edges\n",
    "\n",
    "proc_draw_edges(procs)\n",
    "\n",
    "is_cycle = has_cycle(procs)\n",
    "if is_cycle:\n",
    "    c = [p.name for p in find_cycle(procs)]\n",
    "    raise RuntimeError(\"Loop between procedures is not allowed: {}.\".format(c))\n",
    "\n",
    "g: Digraph = draw_proc(procs)\n",
    "g.render(filename='procedures', directory='./', format='svg')"
   ]
  },
  {
   "cell_type": "code",
   "execution_count": 12,
   "metadata": {
    "collapsed": false
   },
   "outputs": [
    {
     "data": {
      "text/plain": [
       "'call_graph.svg'"
      ]
     },
     "execution_count": 12,
     "metadata": {},
     "output_type": "execute_result"
    }
   ],
   "source": [
    "from sample.cfg import CallGraph\n",
    "\n",
    "call_graph = CallGraph(procs)\n",
    "\n",
    "g = call_graph.draw_graph()\n",
    "g.render(filename='call_graph', directory='./', format='svg')"
   ]
  },
  {
   "cell_type": "code",
   "execution_count": 16,
   "metadata": {
    "collapsed": false
   },
   "outputs": [
    {
     "name": "stdout",
     "output_type": "stream",
     "text": [
      "n0 main (<sample.isa.Address object at 0x107d2a490>, <sample.isa.Address object at 0x107d9f730>)\n",
      "n1 main (<sample.isa.Address object at 0x107d9f910>, <sample.isa.Address object at 0x107da22b0>)\n",
      "n2 main (<sample.isa.Address object at 0x107da2490>, <sample.isa.Address object at 0x107d99cd0>)\n",
      "n3 main (<sample.isa.Address object at 0x107d4e3a0>, <sample.isa.Address object at 0x107da7100>)\n",
      "n4 main (<sample.isa.Address object at 0x107da72e0>, <sample.isa.Address object at 0x107da2ac0>)\n",
      "n5 main (<sample.isa.Address object at 0x107da27f0>, <sample.isa.Address object at 0x107da78e0>)\n",
      "n6 main (<sample.isa.Address object at 0x107da7ac0>, <sample.isa.Address object at 0x107dab160>)\n",
      "n7 main (<sample.isa.Address object at 0x107dab340>, <sample.isa.Address object at 0x107dae4c0>)\n",
      "n8 main (<sample.isa.Address object at 0x107dae6a0>, <sample.isa.Address object at 0x107dae8e0>)\n",
      "n9 main|7b4#printf@plt (<sample.isa.Address object at 0x107d2a940>, <sample.isa.Address object at 0x107d2a400>)\n",
      "n10 main|7c4#Duo (<sample.isa.Address object at 0x107daea00>, <sample.isa.Address object at 0x107db2e20>)\n",
      "n11 main|7f0#printf@plt (<sample.isa.Address object at 0x107d2a940>, <sample.isa.Address object at 0x107d2a400>)\n",
      "n12 main|81c#printf@plt (<sample.isa.Address object at 0x107d2a940>, <sample.isa.Address object at 0x107d2a400>)\n",
      "n13 main|82c#square (<sample.isa.Address object at 0x107db2f40>, <sample.isa.Address object at 0x107db2310>)\n",
      "n14 main|858#printf@plt (<sample.isa.Address object at 0x107d2a940>, <sample.isa.Address object at 0x107d2a400>)\n",
      "n15 main|868#cube (<sample.isa.Address object at 0x107db21f0>, <sample.isa.Address object at 0x107db57c0>)\n",
      "n16 main|868#cube (<sample.isa.Address object at 0x107db5610>, <sample.isa.Address object at 0x107db5610>)\n",
      "n17 main|894#printf@plt (<sample.isa.Address object at 0x107d2a940>, <sample.isa.Address object at 0x107d2a400>)\n"
     ]
    },
    {
     "data": {
      "text/plain": [
       "'tcfg.svg'"
      ]
     },
     "execution_count": 16,
     "metadata": {},
     "output_type": "execute_result"
    }
   ],
   "source": [
    "from sample.cfg import TCfg\n",
    "\n",
    "tcfg = TCfg(call_graph)\n",
    "tcfg_nodes = tcfg.all_nodes\n",
    "tcfg_edges = tcfg.edges\n",
    "\n",
    "for node in tcfg_nodes:\n",
    "    print(node.name, node.base_proc.name, node.inst_range)\n",
    "\n",
    "#for edge in tcfg_edges:\n",
    "#    print(edge.src.name, edge.dst.name, edge.kind.name)\n",
    "\n",
    "g = tcfg.draw_graph()\n",
    "g.render(filename='tcfg', directory='./', format='svg')"
   ]
  }
 ],
 "metadata": {
  "kernelspec": {
   "display_name": "Python 3",
   "language": "python",
   "name": "python3"
  },
  "language_info": {
   "codemirror_mode": {
    "name": "ipython",
    "version": 3
   },
   "file_extension": ".py",
   "mimetype": "text/x-python",
   "name": "python",
   "nbconvert_exporter": "python",
   "pygments_lexer": "ipython3",
   "version": "3.8.16"
  }
 },
 "nbformat": 4,
 "nbformat_minor": 0
}
