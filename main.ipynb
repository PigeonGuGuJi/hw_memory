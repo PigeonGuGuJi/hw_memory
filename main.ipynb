{
 "cells": [
  {
   "cell_type": "code",
   "execution_count": 1,
   "metadata": {
    "collapsed": true
   },
   "outputs": [],
   "source": [
    "fp = f\"/Users/gugujixiao/workspace/project/HWMemory/Code/HW-Memory/example/old_example/forTest.asm\""
   ]
  },
  {
   "cell_type": "code",
   "execution_count": 2,
   "metadata": {
    "collapsed": false
   },
   "outputs": [
    {
     "name": "stdout",
     "output_type": "stream",
     "text": [
      "_init 00000000000005e8\n",
      ".plt 0000000000000600\n",
      "__cxa_finalize@plt 0000000000000620\n",
      "__libc_start_main@plt 0000000000000630\n",
      "__gmon_start__@plt 0000000000000640\n",
      "abort@plt 0000000000000650\n",
      "printf@plt 0000000000000660\n",
      "_start 0000000000000670\n",
      "call_weak_fn 00000000000006a8\n",
      "deregister_tm_clones 00000000000006c0\n",
      "register_tm_clones 00000000000006f0\n",
      "__do_global_dtors_aux 0000000000000730\n",
      "frame_dummy 0000000000000778\n",
      "main 000000000000077c\n",
      "Duo 00000000000008a4\n",
      "square 00000000000008c4\n",
      "cube 00000000000008e4\n",
      "__libc_csu_init 0000000000000910\n",
      "__libc_csu_fini 0000000000000990\n",
      "_fini 0000000000000994\n"
     ]
    }
   ],
   "source": [
    "from sample.cfg import proc_identify\n",
    "from sample.isa import Instruction, AddrMode\n",
    "from typing import Tuple\n",
    "from sample.read_asm import AsmFileReader, StatementType\n",
    "\n",
    "reader =AsmFileReader(fp)\n",
    "\n",
    "statements = list()\n",
    "temp_stat = list()\n",
    "for s in reader.statements:\n",
    "    s: Tuple[StatementType, tuple]\n",
    "    if s[0] == StatementType.Instruction:\n",
    "        statements.append((s[0], Instruction(s[1])))\n",
    "        temp_stat.append(Instruction(s[1]))\n",
    "    elif s[0] == StatementType.SubProcedure:\n",
    "        statements.append(s)\n",
    "\n",
    "#for i in temp_stat:\n",
    "#    booltemp = i.is_ls\n",
    "#    if booltemp:\n",
    "#        if i.ls_addr_mode == AddrMode.ImmeAft:\n",
    "#            print(i.ls_reg_traget)\n",
    "\n",
    "procs = proc_identify(statements)\n",
    "for proc in procs:\n",
    "    print(proc.name, proc.beg_addr.hex_str())\n",
    "    if False and proc.name == 'main':\n",
    "        for inst in proc.instruction:\n",
    "            print(inst.addr.hex_str(), inst.opcode, inst.name, inst.operands, inst.branch_info)\n",
    "        print()"
   ]
  },
  {
   "cell_type": "code",
   "execution_count": 3,
   "metadata": {
    "collapsed": false
   },
   "outputs": [
    {
     "data": {
      "text/plain": [
       "'output/procedures.svg'"
      ]
     },
     "execution_count": 3,
     "metadata": {},
     "output_type": "execute_result"
    }
   ],
   "source": [
    "from graphviz import Digraph\n",
    "from sample.cfg import draw_proc, find_cycle, has_cycle, proc_draw_edges\n",
    "\n",
    "proc_draw_edges(procs)\n",
    "\n",
    "is_cycle = has_cycle(procs)\n",
    "if is_cycle:\n",
    "    c = [p.name for p in find_cycle(procs)]\n",
    "    raise RuntimeError(\"Loop between procedures is not allowed: {}.\".format(c))\n",
    "\n",
    "g: Digraph = draw_proc(procs)\n",
    "g.render(filename='procedures', directory='./output', format='svg')"
   ]
  },
  {
   "cell_type": "code",
   "execution_count": 4,
   "metadata": {
    "collapsed": false
   },
   "outputs": [
    {
     "data": {
      "text/plain": [
       "'output/call_graph.svg'"
      ]
     },
     "execution_count": 4,
     "metadata": {},
     "output_type": "execute_result"
    }
   ],
   "source": [
    "from sample.cfg import CallGraph\n",
    "\n",
    "call_graph = CallGraph(procs)\n",
    "\n",
    "g = call_graph.draw_graph()\n",
    "g.render(filename='call_graph', directory='./output', format='svg')"
   ]
  },
  {
   "cell_type": "code",
   "execution_count": 5,
   "metadata": {
    "collapsed": false
   },
   "outputs": [
    {
     "name": "stdout",
     "output_type": "stream",
     "text": [
      "n0 1\n",
      "n1 1.0\n",
      "n2 1.0\n",
      "n3 1.0\n",
      "n4 1.0\n",
      "n5 1.0\n",
      "n6 1.0\n",
      "n7 0.5\n",
      "n8 0.5\n",
      "n9 1.0\n",
      "n10 1.0\n",
      "n11 1.0\n",
      "n12 1.0\n",
      "n13 1.0\n",
      "n14 1.0\n",
      "n15 1.0\n",
      "n16 0.5\n",
      "n17 0.5\n"
     ]
    },
    {
     "data": {
      "text/plain": [
       "'output/tcfg.svg'"
      ]
     },
     "execution_count": 5,
     "metadata": {},
     "output_type": "execute_result"
    }
   ],
   "source": [
    "from sample.cfg import TCfg\n",
    "from sample.rw_condition import hw_CFG_Node\n",
    "\n",
    "tcfg = TCfg(call_graph)\n",
    "tcfg_nodes = tcfg.all_nodes\n",
    "tcfg_edges = tcfg.edges\n",
    "\n",
    "for node in tcfg_nodes:\n",
    "\n",
    "    node.set_rw_condition()\n",
    "\n",
    "\n",
    "#for node in tcfg_nodes:\n",
    "#    node.set_rw_condition()\n",
    "    #print(node.name, node.base_proc.name, node.inst_range)\n",
    "    #print(node.name, node.base_proc.name)\n",
    "    #print(\"出边\")\n",
    "    #for i in node.from_edge:\n",
    "    #    print(i.dst.name)\n",
    "    #print(\"入边\")\n",
    "    #for i in node.to_edge:\n",
    "    #    print(i.src.name)\n",
    "tempbool = True\n",
    "\n",
    "#for node in tcfg_nodes:\n",
    "#    node.set_rw_value()\n",
    "while tempbool:\n",
    "    no_end = False\n",
    "    for node in tcfg_nodes:\n",
    "        node.set_rw_value()\n",
    "        if not node.no_point_other:\n",
    "            no_end = True\n",
    "    tempbool = no_end\n",
    "        \n",
    "for node in tcfg_nodes:\n",
    "    print(node.name,node.node_value)\n",
    "\n",
    "#for i in hw_cfg_node_list:\n",
    "    '''print(i.node_self.name)\n",
    "    print(\"来的点\")\n",
    "    for j in i.node_from:\n",
    "        print(j.name)\n",
    "    print(\"出去的点\")\n",
    "    for k in i.node_to:\n",
    "        print(k.name)\n",
    "    print(\"指令\")\n",
    "    for a in i.instr:\n",
    "        print(a.tokens)\n",
    "    print()'''\n",
    "\n",
    "    #if i.is_end:\n",
    "    #print(i.node_self.name,i.node_from_num)\n",
    "\n",
    "#for edge in tcfg_edges:\n",
    "#    print(edge.src.name, edge.dst.name, edge.kind.name)\n",
    "\n",
    "g = tcfg.draw_graph()\n",
    "g.render(filename='tcfg', directory='./output', format='svg')"
   ]
  }
 ],
 "metadata": {
  "kernelspec": {
   "display_name": "Python 3",
   "language": "python",
   "name": "python3"
  },
  "language_info": {
   "codemirror_mode": {
    "name": "ipython",
    "version": 3
   },
   "file_extension": ".py",
   "mimetype": "text/x-python",
   "name": "python",
   "nbconvert_exporter": "python",
   "pygments_lexer": "ipython3",
   "version": "3.8.16"
  }
 },
 "nbformat": 4,
 "nbformat_minor": 0
}
