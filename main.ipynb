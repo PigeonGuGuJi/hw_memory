{
 "cells": [
  {
   "cell_type": "code",
   "execution_count": 1,
   "metadata": {
    "collapsed": true
   },
   "outputs": [],
   "source": [
    "fp = r\"/Users/gugujixiao/workspace/project/HWMemory/Code/newCFG/hw-memory/benchmarks/old_example/func.asm\""
   ]
  },
  {
   "cell_type": "code",
   "execution_count": 2,
   "metadata": {
    "collapsed": false
   },
   "outputs": [
    {
     "name": "stdout",
     "output_type": "stream",
     "text": [
      "('40049c', 'a9bf7bfd', 'stp', None, 'x29, x30, [sp, #-16]!')\n",
      "('40049c', 'a9bf7bfd', 'stp', None, 'x29, x30, [sp, #-16]!')\n",
      "('4004a8', 'a8c17bfd', 'ldr', None, 'x19, [sp, #-16]!')\n",
      "('4004a8', 'a8c17bfd', 'ldr', None, 'x19, [sp, #-16]!')\n",
      "('4004b0', 'a9bf7bf0', 'stp', None, 'x16, x30, [sp, #-16]!')\n",
      "('4004b0', 'a9bf7bf0', 'stp', None, 'x16, x30, [sp, #-16]!')\n",
      "('4004b8', 'f947fe11', 'ldr', None, 'x17, [x16, #4088]')\n",
      "('4004b8', 'f947fe11', 'ldr', None, 'x17, [x16, #4088]')\n",
      "('4004d4', 'f9400211', 'ldr', None, 'x17, [x16]')\n",
      "('4004d4', 'f9400211', 'ldr', None, 'x17, [x16]')\n",
      "('4004e4', 'f9400611', 'ldr', None, 'x17, [x16, #8]')\n",
      "('4004e4', 'f9400611', 'ldr', None, 'x17, [x16, #8]')\n",
      "('4004f4', 'f9400a11', 'ldr', None, 'x17, [x16, #16]')\n",
      "('4004f4', 'f9400a11', 'ldr', None, 'x17, [x16, #16]')\n",
      "('400510', 'f94003e1', 'ldr', None, 'x1, [sp]')\n",
      "('400510', 'f94003e1', 'ldr', None, 'x1, [sp]')\n",
      "('400548', 'f947ec00', 'ldr', None, 'x0, [x0, #4056]')\n",
      "('400548', 'f947ec00', 'ldr', None, 'x0, [x0, #4056]')\n",
      "('40057c', 'f947e821', 'ldr', None, 'x1, [x1, #4048]')\n",
      "('40057c', 'f947e821', 'ldr', None, 'x1, [x1, #4048]')\n",
      "('4005b8', 'f947f042', 'ldr', None, 'x2, [x2, #4064]')\n",
      "('4005b8', 'f947f042', 'ldr', None, 'x2, [x2, #4064]')\n",
      "('4005d0', 'a9be7bfd', 'stp', None, 'x29, x30, [sp, #-32]!')\n",
      "('4005d0', 'a9be7bfd', 'stp', None, 'x29, x30, [sp, #-32]!')\n",
      "('4005d8', 'f9000bf3', 'str', None, 'x19, [sp, #16]')\n",
      "('4005d8', 'f9000bf3', 'str', None, 'x19, [sp, #16]')\n",
      "('4005e0', '3940a260', 'ldrb', None, 'w0, [x19, #40]')\n",
      "('4005e0', '3940a260', 'ldrb', None, 'w0, [x19, #40]')\n",
      "('4005f0', '3900a260', 'strb', None, 'w0, [x19, #40]')\n",
      "('4005f0', '3900a260', 'strb', None, 'w0, [x19, #40]')\n",
      "('4005f4', 'f9400bf3', 'ldr', None, 'x19, [sp, #16]')\n",
      "('4005f4', 'f9400bf3', 'ldr', None, 'x19, [sp, #16]')\n",
      "('4005f8', 'a8c27bfd', 'ldp', None, 'x29, x30, [sp], #32')\n",
      "('4005f8', 'a8c27bfd', 'ldp', None, 'x29, x30, [sp], #32')\n",
      "('400608', 'b9000fe0', 'str', None, 'w0, [sp, #12]')\n",
      "('400608', 'b9000fe0', 'str', None, 'w0, [sp, #12]')\n",
      "('400614', 'b9400fe0', 'ldr', None, 'w0, [x33, #12]')\n",
      "('400614', 'b9400fe0', 'ldr', None, 'w0, [x33, #12]')\n",
      "('400620', 'b9400fe0', 'ldr', None, 'w0, [sp, #12]')\n",
      "('400620', 'b9400fe0', 'ldr', None, 'w0, [sp, #12]')\n",
      "('400634', 'a9be7bfd', 'stp', None, 'x29, x30, [sp, #-32]!')\n",
      "('400634', 'a9be7bfd', 'stp', None, 'x29, x30, [sp, #-32]!')\n",
      "('400640', 'b9001fe0', 'str', None, 'w0, [sp, #28]')\n",
      "('400640', 'b9001fe0', 'str', None, 'w0, [sp, #28]')\n",
      "('400644', 'b9401fe0', 'ldr', None, 'w0, [x33, #28]')\n",
      "('400644', 'b9401fe0', 'ldr', None, 'w0, [x33, #28]')\n",
      "('400650', 'a8c27bfd', 'ldp', None, 'x29, x30, [sp], #32')\n",
      "('400650', 'a8c27bfd', 'ldp', None, 'x29, x30, [sp], #32')\n",
      "('40065c', 'a9bf7bfd', 'stp', None, 'x29, x30, [sp, #-16]!')\n",
      "('40065c', 'a9bf7bfd', 'stp', None, 'x29, x30, [sp, #-16]!')\n",
      "('400664', 'a8c17bfd', 'ldp', None, 'x29, x30, [sp], #16')\n",
      "('400664', 'a8c17bfd', 'ldp', None, 'x29, x30, [sp], #16')\n",
      "_init 0000000000400498\n",
      ".plt 00000000004004b0\n",
      "__libc_start_main@plt 00000000004004d0\n",
      "__gmon_start__@plt 00000000004004e0\n",
      "abort@plt 00000000004004f0\n",
      "_start 0000000000400500\n",
      "__wrap_main 0000000000400534\n",
      "_dl_relocate_static_pie 0000000000400540\n",
      "call_weak_fn 0000000000400544\n",
      "deregister_tm_clones 0000000000400560\n",
      "register_tm_clones 0000000000400590\n",
      "__do_global_dtors_aux 00000000004005d0\n",
      "frame_dummy 0000000000400600\n",
      "compare 0000000000400604\n",
      "main 0000000000400634\n",
      "_fini 0000000000400658\n"
     ]
    }
   ],
   "source": [
    "from newCFG.cfg import proc_identify\n",
    "from newCFG.isa import Instruction, AddrMode\n",
    "from typing import Tuple\n",
    "from newCFG.read_asm import AsmFileReader, StatementType\n",
    "\n",
    "reader =AsmFileReader(fp)\n",
    "\n",
    "statements = list()\n",
    "temp_stat = list()\n",
    "for s in reader.statements:\n",
    "    s: Tuple[StatementType, tuple]\n",
    "    if s[0] == StatementType.Instruction:\n",
    "        statements.append((s[0], Instruction(s[1])))\n",
    "        temp_stat.append(Instruction(s[1]))\n",
    "    elif s[0] == StatementType.SubProcedure:\n",
    "        statements.append(s)\n",
    "\n",
    "#for i in temp_stat:\n",
    "#    booltemp = i.is_ls\n",
    "#    if booltemp:\n",
    "#        if i.ls_addr_mode == AddrMode.ImmeAft:\n",
    "#            print(i.ls_reg_traget)\n",
    "\n",
    "procs = proc_identify(statements)\n",
    "for proc in procs:\n",
    "    print(proc.name, proc.beg_addr.hex_str())\n",
    "    if False and proc.name == 'main':\n",
    "        for inst in proc.instruction:\n",
    "            print(inst.addr.hex_str(), inst.opcode, inst.name, inst.operands, inst.branch_info)\n",
    "        print()"
   ]
  },
  {
   "cell_type": "code",
   "execution_count": 3,
   "metadata": {
    "collapsed": false
   },
   "outputs": [
    {
     "data": {
      "text/plain": [
       "'output/procedures.svg'"
      ]
     },
     "execution_count": 3,
     "metadata": {},
     "output_type": "execute_result"
    }
   ],
   "source": [
    "from graphviz import Digraph\n",
    "from newCFG.cfg import draw_proc, find_cycle, has_cycle, proc_draw_edges\n",
    "\n",
    "proc_draw_edges(procs)\n",
    "\n",
    "is_cycle = has_cycle(procs)\n",
    "if is_cycle:\n",
    "    c = [p.name for p in find_cycle(procs)]\n",
    "    raise RuntimeError(\"Loop between procedures is not allowed: {}.\".format(c))\n",
    "\n",
    "g: Digraph = draw_proc(procs)\n",
    "g.render(filename='procedures', directory='./output', format='svg')"
   ]
  },
  {
   "cell_type": "code",
   "execution_count": 4,
   "metadata": {
    "collapsed": false
   },
   "outputs": [
    {
     "data": {
      "text/plain": [
       "'output/call_graph.svg'"
      ]
     },
     "execution_count": 4,
     "metadata": {},
     "output_type": "execute_result"
    }
   ],
   "source": [
    "from newCFG.cfg import CallGraph\n",
    "\n",
    "call_graph = CallGraph(procs)\n",
    "\n",
    "g = call_graph.draw_graph()\n",
    "g.render(filename='call_graph', directory='./output', format='svg')"
   ]
  },
  {
   "cell_type": "code",
   "execution_count": 5,
   "metadata": {
    "collapsed": false
   },
   "outputs": [
    {
     "name": "stdout",
     "output_type": "stream",
     "text": [
      "n0 n2 1.0\n",
      "n5 n1 1.0\n",
      "n2 n4 0.5\n",
      "n2 n3 0.5\n",
      "n3 n5 0.5\n",
      "n4 n5 0.5\n"
     ]
    }
   ],
   "source": [
    "from newCFG.cfg import TCfg\n",
    "import random\n",
    "\n",
    "tcfg = TCfg(call_graph)\n",
    "tcfg.build_tcfg()\n",
    "\n",
    "tcfg_nodes = tcfg.all_nodes\n",
    "tcfg_edges = tcfg.edges\n",
    "\n",
    "g = tcfg.draw_graph()\n",
    "g.render(filename='tcfg', directory='./output', format='svg')\n",
    "\n",
    "#for node in tcfg_nodes:\n",
    "#    node.set_rw_condition()\n",
    "#    #print(node.name, node.base_proc.name, node.inst_range)\n",
    "#    print(node.name, node.base_proc.name)\n",
    "#    print(\"出边\")\n",
    "#    for i in node.outgoing_edge:\n",
    "#        print(i.dst.name)\n",
    "#    print(\"入边\")\n",
    "#    for i in node.incoming_edge:\n",
    "#        print(i.src.name)\n",
    "#\n",
    "#    print()\n",
    "\n",
    "tcfg.build_loop_hrchy()\n",
    "for l in tcfg.loops:\n",
    "    #print(\"{} (in {} children {}): {}->{} {}\".format(l.name, l.father.name if l.father is not None else \"None\", [sub_l.name for sub_l in l.children], l.back_edge.src.name, l.back_edge.dst.name, [n.name for n in l.all_nodes]))\n",
    "    #print(l.back_edge.src.name,l.back_edge.dst.name)\n",
    "    l.back_edge.is_backEdge = True\n",
    "\n",
    "#for n in tcfg.all_nodes:\n",
    "#    temp = n.inside_loop.name if n.inside_loop is not None else 'None'\n",
    "#    print(\"{} {}\".format(n.name, temp))\n",
    "\n",
    "for n in tcfg_nodes:\n",
    "    n.set_rw_data()\n",
    "\n",
    "temp_bool = True\n",
    "\n",
    "while temp_bool:\n",
    "    no_end = False\n",
    "\n",
    "    for n in tcfg_nodes:\n",
    "        n.set_rw_value()\n",
    "        if not n.no_out:\n",
    "            no_end = True\n",
    "        temp_bool = no_end\n",
    "\n",
    "for e in tcfg_edges:\n",
    "    if e.is_backEdge:\n",
    "        e.loop_value = random.randint(0,10)\n",
    "        e.edge_value = 2\n",
    "\n",
    "for e in tcfg_edges:\n",
    "    print(e.src.name,e.dst.name,e.edge_value)\n",
    "\n",
    "\n",
    "#for n in tcfg_nodes:\n",
    "#    print(n.name,\"n的值\",n.node_value)\n",
    "        \n",
    "\n",
    "#for e in tcfg_edges:\n",
    "#    print(e.src.name,e.dst.name,e.is_backEdge)\n",
    "\n",
    "\n"
   ]
  },
  {
   "cell_type": "code",
   "execution_count": 6,
   "metadata": {},
   "outputs": [
    {
     "name": "stdout",
     "output_type": "stream",
     "text": [
      "n0 ('400640', 'b9001fe0', 'str', None, 'w0, [sp, #28]') True sp 0\n",
      "n0 ('400644', 'b9401fe0', 'ldr', None, 'w0, [x33, #28]') True sp 0\n",
      "n2 ('400608', 'b9000fe0', 'str', None, 'w0, [sp, #12]') True sp 0\n",
      "n2 ('400614', 'b9400fe0', 'ldr', None, 'w0, [x33, #12]') True 41f000 4321292\n",
      "n3 ('400620', 'b9400fe0', 'ldr', None, 'w0, [sp, #12]') True sp 0\n"
     ]
    }
   ],
   "source": [
    "from newCFG.cfg import TCfg\n",
    "from newCFG.loadstore import LSProc\n",
    "\n",
    "lsproc = LSProc(tcfg_nodes)\n",
    "\n",
    "temp = lsproc.ls_table\n",
    "\n",
    "for i in temp:\n",
    "    print(i.node.name,i.ins.tokens,i.is_find,i.reg_target,i.final_addr)"
   ]
  }
 ],
 "metadata": {
  "kernelspec": {
   "display_name": "Python 3",
   "language": "python",
   "name": "python3"
  },
  "language_info": {
   "codemirror_mode": {
    "name": "ipython",
    "version": 3
   },
   "file_extension": ".py",
   "mimetype": "text/x-python",
   "name": "python",
   "nbconvert_exporter": "python",
   "pygments_lexer": "ipython3",
   "version": "3.8.16"
  }
 },
 "nbformat": 4,
 "nbformat_minor": 0
}
